{
 "cells": [
  {
   "cell_type": "code",
   "execution_count": 5,
   "metadata": {},
   "outputs": [
    {
     "name": "stdout",
     "output_type": "stream",
     "text": [
      "Hello, Jesse!\n"
     ]
    }
   ],
   "source": [
    "def greet_user(username):\n",
    "  \n",
    "    print(f\"Hello, {username.title()}!\")\n",
    "greet_user('jesse')"
   ]
  },
  {
   "cell_type": "code",
   "execution_count": 14,
   "metadata": {},
   "outputs": [
    {
     "name": "stdout",
     "output_type": "stream",
     "text": [
      "\n",
      "I have a dog.\n",
      "My dog's name is Popi.\n"
     ]
    }
   ],
   "source": [
    "def describe_pet(animal_type, pet_name):\n",
    "    \"\"\"Display information about a pet.\"\"\"\n",
    "    print(f\"\\nI have a {animal_type}.\")\n",
    "    print(f\"My {animal_type}'s name is {pet_name.title()}.\")\n",
    "describe_pet(\"dog\", \"popi\")"
   ]
  },
  {
   "cell_type": "code",
   "execution_count": 18,
   "metadata": {},
   "outputs": [
    {
     "name": "stdout",
     "output_type": "stream",
     "text": [
      "{'color': 'blue', 'tow_package': True, 'mark': 'subaru', 'type': 'outback'}\n"
     ]
    }
   ],
   "source": [
    "def make_car(mark_car, type_car, **car):\n",
    "    car['mark'] = mark_car\n",
    "    car['type'] = type_car\n",
    "    return car\n",
    "\n",
    "car = make_car ('subaru', 'outback', color = 'blue',tow_package = True)\n",
    "print(car)\n",
    "    \n"
   ]
  },
  {
   "cell_type": "code",
   "execution_count": null,
   "metadata": {},
   "outputs": [],
   "source": []
  }
 ],
 "metadata": {
  "kernelspec": {
   "display_name": "Python 3",
   "language": "python",
   "name": "python3"
  },
  "language_info": {
   "codemirror_mode": {
    "name": "ipython",
    "version": 3
   },
   "file_extension": ".py",
   "mimetype": "text/x-python",
   "name": "python",
   "nbconvert_exporter": "python",
   "pygments_lexer": "ipython3",
   "version": "3.7.7"
  }
 },
 "nbformat": 4,
 "nbformat_minor": 4
}
