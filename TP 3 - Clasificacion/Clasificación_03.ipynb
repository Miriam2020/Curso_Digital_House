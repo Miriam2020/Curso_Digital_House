{
 "cells": [
  {
   "cell_type": "code",
   "execution_count": 2,
   "metadata": {},
   "outputs": [
    {
     "name": "stdout",
     "output_type": "stream",
     "text": [
      "default checking\n",
      "Running command `conda list`... ok\n",
      "jupyterlab=1.2.6 already installed\n",
      "pandas=1.0.3 already installed\n",
      "matplotlib=2.2.2 already installed\n",
      "bokeh=2.0.0 already installed\n",
      "seaborn=0.10.0 already installed\n",
      "ipywidgets=7.5.1 already installed\n",
      "pytest=5.3.4 already installed\n",
      "chardet=3.0.4 already installed\n",
      "psutil=5.7.0 already installed\n",
      "scipy=1.4.1 already installed\n",
      "statsmodels=0.11.0 already installed\n",
      "scikit-learn=0.22.1 already installed\n",
      "xlrd=1.2.0 already installed\n",
      "nltk=3.4.5 already installed\n",
      "unidecode=1.0.23 already installed\n",
      "pydotplus=2.0.2 already installed\n"
     ]
    }
   ],
   "source": [
    "# initial setup\n",
    "try:\n",
    "    # settings colab:\n",
    "    import google.colab\n",
    "    \n",
    "except ModuleNotFoundError:    \n",
    "    # settings local:\n",
    "    %run \"common/0_notebooks_base_setup.py\""
   ]
  },
  {
   "cell_type": "code",
   "execution_count": 9,
   "metadata": {},
   "outputs": [],
   "source": [
    "import pandas as pd\n",
    "import numpy as np\n",
    "import seaborn as sns\n",
    "from matplotlib.colors import ListedColormap\n",
    "import matplotlib.pyplot as plt\n",
    "%matplotlib inline"
   ]
  },
  {
   "cell_type": "code",
   "execution_count": 10,
   "metadata": {},
   "outputs": [],
   "source": [
    "from sklearn.model_selection import train_test_split\n",
    "from sklearn.neighbors import KNeighborsClassifier\n",
    "from sklearn.metrics import accuracy_score"
   ]
  },
  {
   "cell_type": "code",
   "execution_count": 11,
   "metadata": {},
   "outputs": [],
   "source": [
    "df = pd.read_csv('Data/COMERCIOS.TXT', sep='\\t')"
   ]
  },
  {
   "cell_type": "code",
   "execution_count": 9,
   "metadata": {},
   "outputs": [
    {
     "name": "stdout",
     "output_type": "stream",
     "text": [
      "<class 'pandas.core.frame.DataFrame'>\n",
      "RangeIndex: 26082 entries, 0 to 26081\n",
      "Data columns (total 23 columns):\n",
      " #   Column                         Non-Null Count  Dtype  \n",
      "---  ------                         --------------  -----  \n",
      " 0   PERIODO                        26082 non-null  object \n",
      " 1   ID_ZONA                        26082 non-null  int64  \n",
      " 2   RUBRO                          26082 non-null  object \n",
      " 3   NIVEL_RIESGO                   26082 non-null  int64  \n",
      " 4   APERTURAS                      26082 non-null  float64\n",
      " 5   CIERRES                        26082 non-null  float64\n",
      " 6   SUPERVIVENCIA                  21473 non-null  float64\n",
      " 7   PROMEDIO_VENTAS                26082 non-null  int64  \n",
      " 8   NIVEL_CRECIMIENTO              23184 non-null  float64\n",
      " 9   NIVEL_ESTABILIDAD              24843 non-null  float64\n",
      " 10  CANTIDAD_LOCALES               26082 non-null  int64  \n",
      " 11  SUPERV_MENOS_1                 26082 non-null  float64\n",
      " 12  SUPERV_ENTRE_1_Y_2             26082 non-null  float64\n",
      " 13  SUPERV_ENTRE_2_Y_3             26082 non-null  float64\n",
      " 14  SUPERV_ENTRE_3_Y_4             26082 non-null  float64\n",
      " 15  SUPERV_ENTRE_4_Y_5             26082 non-null  float64\n",
      " 16  SUPERV_MAS_5                   26082 non-null  float64\n",
      " 17  ANIO_ANTERIOR                  17388 non-null  float64\n",
      " 18  PROMEDIO_VENTAS_ANIO_ANTERIOR  17388 non-null  float64\n",
      " 19  APERTURAS_ANIO_ANTERIOR        17388 non-null  float64\n",
      " 20  CIERRES_ANIO_ANTERIOR          17388 non-null  float64\n",
      " 21  TENDENCIA_APERTURAS            17388 non-null  float64\n",
      " 22  TENDENCIA_CIERRES              17388 non-null  float64\n",
      "dtypes: float64(17), int64(4), object(2)\n",
      "memory usage: 4.6+ MB\n"
     ]
    }
   ],
   "source": [
    "df.info()"
   ]
  },
  {
   "cell_type": "code",
   "execution_count": 10,
   "metadata": {},
   "outputs": [
    {
     "data": {
      "text/plain": [
       "array(['PERIODO', 'ID_ZONA', 'RUBRO', 'NIVEL_RIESGO', 'APERTURAS',\n",
       "       'CIERRES', 'SUPERVIVENCIA', 'PROMEDIO_VENTAS', 'NIVEL_CRECIMIENTO',\n",
       "       'NIVEL_ESTABILIDAD', 'CANTIDAD_LOCALES', 'SUPERV_MENOS_1',\n",
       "       'SUPERV_ENTRE_1_Y_2', 'SUPERV_ENTRE_2_Y_3', 'SUPERV_ENTRE_3_Y_4',\n",
       "       'SUPERV_ENTRE_4_Y_5', 'SUPERV_MAS_5', 'ANIO_ANTERIOR',\n",
       "       'PROMEDIO_VENTAS_ANIO_ANTERIOR', 'APERTURAS_ANIO_ANTERIOR',\n",
       "       'CIERRES_ANIO_ANTERIOR', 'TENDENCIA_APERTURAS',\n",
       "       'TENDENCIA_CIERRES'], dtype=object)"
      ]
     },
     "execution_count": 10,
     "metadata": {},
     "output_type": "execute_result"
    }
   ],
   "source": [
    "df.columns.values"
   ]
  },
  {
   "cell_type": "code",
   "execution_count": 13,
   "metadata": {},
   "outputs": [],
   "source": [
    "df = df[['PERIODO', 'ID_ZONA', 'RUBRO', 'NIVEL_RIESGO', 'APERTURAS',\n",
    "       'CIERRES', 'SUPERVIVENCIA', 'PROMEDIO_VENTAS', 'CANTIDAD_LOCALES', 'SUPERV_MENOS_1',\n",
    "       'SUPERV_ENTRE_1_Y_2', 'SUPERV_ENTRE_2_Y_3', 'SUPERV_ENTRE_3_Y_4',\n",
    "       'SUPERV_ENTRE_4_Y_5', 'SUPERV_MAS_5']]"
   ]
  },
  {
   "cell_type": "code",
   "execution_count": 14,
   "metadata": {},
   "outputs": [
    {
     "name": "stdout",
     "output_type": "stream",
     "text": [
      "<class 'pandas.core.frame.DataFrame'>\n",
      "RangeIndex: 26082 entries, 0 to 26081\n",
      "Data columns (total 15 columns):\n",
      " #   Column              Non-Null Count  Dtype  \n",
      "---  ------              --------------  -----  \n",
      " 0   PERIODO             26082 non-null  object \n",
      " 1   ID_ZONA             26082 non-null  int64  \n",
      " 2   RUBRO               26082 non-null  object \n",
      " 3   NIVEL_RIESGO        26082 non-null  int64  \n",
      " 4   APERTURAS           26082 non-null  float64\n",
      " 5   CIERRES             26082 non-null  float64\n",
      " 6   SUPERVIVENCIA       21473 non-null  float64\n",
      " 7   PROMEDIO_VENTAS     26082 non-null  int64  \n",
      " 8   CANTIDAD_LOCALES    26082 non-null  int64  \n",
      " 9   SUPERV_MENOS_1      26082 non-null  float64\n",
      " 10  SUPERV_ENTRE_1_Y_2  26082 non-null  float64\n",
      " 11  SUPERV_ENTRE_2_Y_3  26082 non-null  float64\n",
      " 12  SUPERV_ENTRE_3_Y_4  26082 non-null  float64\n",
      " 13  SUPERV_ENTRE_4_Y_5  26082 non-null  float64\n",
      " 14  SUPERV_MAS_5        26082 non-null  float64\n",
      "dtypes: float64(9), int64(4), object(2)\n",
      "memory usage: 3.0+ MB\n"
     ]
    }
   ],
   "source": [
    "df.info()"
   ]
  },
  {
   "cell_type": "code",
   "execution_count": 15,
   "metadata": {},
   "outputs": [],
   "source": [
    "df.dropna(inplace=True)"
   ]
  },
  {
   "cell_type": "code",
   "execution_count": 16,
   "metadata": {},
   "outputs": [
    {
     "data": {
      "text/plain": [
       "PERIODO               0\n",
       "ID_ZONA               0\n",
       "RUBRO                 0\n",
       "NIVEL_RIESGO          0\n",
       "APERTURAS             0\n",
       "CIERRES               0\n",
       "SUPERVIVENCIA         0\n",
       "PROMEDIO_VENTAS       0\n",
       "CANTIDAD_LOCALES      0\n",
       "SUPERV_MENOS_1        0\n",
       "SUPERV_ENTRE_1_Y_2    0\n",
       "SUPERV_ENTRE_2_Y_3    0\n",
       "SUPERV_ENTRE_3_Y_4    0\n",
       "SUPERV_ENTRE_4_Y_5    0\n",
       "SUPERV_MAS_5          0\n",
       "dtype: int64"
      ]
     },
     "execution_count": 16,
     "metadata": {},
     "output_type": "execute_result"
    }
   ],
   "source": [
    "df.isnull().sum()"
   ]
  },
  {
   "cell_type": "code",
   "execution_count": 17,
   "metadata": {},
   "outputs": [
    {
     "name": "stdout",
     "output_type": "stream",
     "text": [
      "<class 'pandas.core.frame.DataFrame'>\n",
      "Int64Index: 21473 entries, 0 to 26081\n",
      "Data columns (total 15 columns):\n",
      " #   Column              Non-Null Count  Dtype  \n",
      "---  ------              --------------  -----  \n",
      " 0   PERIODO             21473 non-null  object \n",
      " 1   ID_ZONA             21473 non-null  int64  \n",
      " 2   RUBRO               21473 non-null  object \n",
      " 3   NIVEL_RIESGO        21473 non-null  int64  \n",
      " 4   APERTURAS           21473 non-null  float64\n",
      " 5   CIERRES             21473 non-null  float64\n",
      " 6   SUPERVIVENCIA       21473 non-null  float64\n",
      " 7   PROMEDIO_VENTAS     21473 non-null  int64  \n",
      " 8   CANTIDAD_LOCALES    21473 non-null  int64  \n",
      " 9   SUPERV_MENOS_1      21473 non-null  float64\n",
      " 10  SUPERV_ENTRE_1_Y_2  21473 non-null  float64\n",
      " 11  SUPERV_ENTRE_2_Y_3  21473 non-null  float64\n",
      " 12  SUPERV_ENTRE_3_Y_4  21473 non-null  float64\n",
      " 13  SUPERV_ENTRE_4_Y_5  21473 non-null  float64\n",
      " 14  SUPERV_MAS_5        21473 non-null  float64\n",
      "dtypes: float64(9), int64(4), object(2)\n",
      "memory usage: 2.6+ MB\n"
     ]
    }
   ],
   "source": [
    "df.info()"
   ]
  },
  {
   "cell_type": "code",
   "execution_count": 18,
   "metadata": {},
   "outputs": [
    {
     "data": {
      "text/plain": [
       "1    8186\n",
       "2    7285\n",
       "3    4338\n",
       "4    1451\n",
       "5     213\n",
       "Name: NIVEL_RIESGO, dtype: int64"
      ]
     },
     "execution_count": 18,
     "metadata": {},
     "output_type": "execute_result"
    }
   ],
   "source": [
    "df['NIVEL_RIESGO'].value_counts()"
   ]
  },
  {
   "cell_type": "code",
   "execution_count": 27,
   "metadata": {},
   "outputs": [],
   "source": [
    "df[(df.NIVEL_RIESGO == 4) | (df.NIVEL_RIESGO == 5)] = 3"
   ]
  },
  {
   "cell_type": "code",
   "execution_count": 28,
   "metadata": {},
   "outputs": [
    {
     "data": {
      "text/plain": [
       "1    8186\n",
       "2    7285\n",
       "3    6002\n",
       "Name: NIVEL_RIESGO, dtype: int64"
      ]
     },
     "execution_count": 28,
     "metadata": {},
     "output_type": "execute_result"
    }
   ],
   "source": [
    "df['NIVEL_RIESGO'].value_counts()"
   ]
  },
  {
   "cell_type": "code",
   "execution_count": 29,
   "metadata": {},
   "outputs": [
    {
     "data": {
      "image/png": "[encoded data removed]",
      "text/plain": [
       "<Figure size 432x288 with 2 Axes>"
      ]
     },
     "metadata": {
      "needs_background": "light"
     },
     "output_type": "display_data"
    }
   ],
   "source": [
    "sns.heatmap(df.corr(), center=0, cmap=\"YlGnBu\", annot=False);"
   ]
  },
  {
   "cell_type": "code",
   "execution_count": 30,
   "metadata": {},
   "outputs": [
    {
     "data": {
      "text/html": [
       "<div>\n",
       "<style scoped>\n",
       "    .dataframe tbody tr th:only-of-type {\n",
       "        vertical-align: middle;\n",
       "    }\n",
       "\n",
       "    .dataframe tbody tr th {\n",
       "        vertical-align: top;\n",
       "    }\n",
       "\n",
       "    .dataframe thead th {\n",
       "        text-align: right;\n",
       "    }\n",
       "</style>\n",
       "<table border=\"1\" class=\"dataframe\">\n",
       "  <thead>\n",
       "    <tr style=\"text-align: right;\">\n",
       "      <th></th>\n",
       "      <th>PERIODO</th>\n",
       "      <th>ID_ZONA</th>\n",
       "      <th>RUBRO</th>\n",
       "      <th>NIVEL_RIESGO</th>\n",
       "      <th>APERTURAS</th>\n",
       "      <th>CIERRES</th>\n",
       "      <th>SUPERVIVENCIA</th>\n",
       "      <th>PROMEDIO_VENTAS</th>\n",
       "      <th>CANTIDAD_LOCALES</th>\n",
       "      <th>SUPERV_MENOS_1</th>\n",
       "      <th>SUPERV_ENTRE_1_Y_2</th>\n",
       "      <th>SUPERV_ENTRE_2_Y_3</th>\n",
       "      <th>SUPERV_ENTRE_3_Y_4</th>\n",
       "      <th>SUPERV_ENTRE_4_Y_5</th>\n",
       "      <th>SUPERV_MAS_5</th>\n",
       "    </tr>\n",
       "  </thead>\n",
       "  <tbody>\n",
       "    <tr>\n",
       "      <th>0</th>\n",
       "      <td>Enero - Abril 2016</td>\n",
       "      <td>1</td>\n",
       "      <td>Bares y Cafés</td>\n",
       "      <td>2</td>\n",
       "      <td>0.00</td>\n",
       "      <td>0.0</td>\n",
       "      <td>0.00</td>\n",
       "      <td>1</td>\n",
       "      <td>2</td>\n",
       "      <td>0.00</td>\n",
       "      <td>100.00</td>\n",
       "      <td>0.00</td>\n",
       "      <td>0.00</td>\n",
       "      <td>0.00</td>\n",
       "      <td>0.00</td>\n",
       "    </tr>\n",
       "    <tr>\n",
       "      <th>1</th>\n",
       "      <td>Enero - Abril 2016</td>\n",
       "      <td>1</td>\n",
       "      <td>Carnes y Verduras</td>\n",
       "      <td>1</td>\n",
       "      <td>3.57</td>\n",
       "      <td>0.0</td>\n",
       "      <td>100.00</td>\n",
       "      <td>3</td>\n",
       "      <td>1</td>\n",
       "      <td>3.57</td>\n",
       "      <td>0.00</td>\n",
       "      <td>0.00</td>\n",
       "      <td>0.00</td>\n",
       "      <td>21.43</td>\n",
       "      <td>75.00</td>\n",
       "    </tr>\n",
       "    <tr>\n",
       "      <th>2</th>\n",
       "      <td>Enero - Abril 2016</td>\n",
       "      <td>1</td>\n",
       "      <td>Comida al Paso</td>\n",
       "      <td>2</td>\n",
       "      <td>2.56</td>\n",
       "      <td>0.0</td>\n",
       "      <td>58.82</td>\n",
       "      <td>3</td>\n",
       "      <td>2</td>\n",
       "      <td>5.13</td>\n",
       "      <td>7.69</td>\n",
       "      <td>10.26</td>\n",
       "      <td>5.13</td>\n",
       "      <td>10.26</td>\n",
       "      <td>61.54</td>\n",
       "    </tr>\n",
       "  </tbody>\n",
       "</table>\n",
       "</div>"
      ],
      "text/plain": [
       "              PERIODO  ID_ZONA              RUBRO  NIVEL_RIESGO  APERTURAS  \\\n",
       "0  Enero - Abril 2016        1      Bares y Cafés             2       0.00   \n",
       "1  Enero - Abril 2016        1  Carnes y Verduras             1       3.57   \n",
       "2  Enero - Abril 2016        1     Comida al Paso             2       2.56   \n",
       "\n",
       "   CIERRES  SUPERVIVENCIA  PROMEDIO_VENTAS  CANTIDAD_LOCALES  SUPERV_MENOS_1  \\\n",
       "0      0.0           0.00                1                 2            0.00   \n",
       "1      0.0         100.00                3                 1            3.57   \n",
       "2      0.0          58.82                3                 2            5.13   \n",
       "\n",
       "   SUPERV_ENTRE_1_Y_2  SUPERV_ENTRE_2_Y_3  SUPERV_ENTRE_3_Y_4  \\\n",
       "0              100.00                0.00                0.00   \n",
       "1                0.00                0.00                0.00   \n",
       "2                7.69               10.26                5.13   \n",
       "\n",
       "   SUPERV_ENTRE_4_Y_5  SUPERV_MAS_5  \n",
       "0                0.00          0.00  \n",
       "1               21.43         75.00  \n",
       "2               10.26         61.54  "
      ]
     },
     "execution_count": 30,
     "metadata": {},
     "output_type": "execute_result"
    }
   ],
   "source": [
    "df.head(3)"
   ]
  },
  {
   "cell_type": "code",
   "execution_count": 31,
   "metadata": {},
   "outputs": [],
   "source": [
    "predecir = ['NIVEL_RIESGO']\n",
    "features = ['ID_ZONA', 'RUBRO', 'APERTURAS',\n",
    "       'CIERRES', 'SUPERVIVENCIA', 'PROMEDIO_VENTAS', 'CANTIDAD_LOCALES', 'SUPERV_MENOS_1',\n",
    "       'SUPERV_ENTRE_1_Y_2', 'SUPERV_ENTRE_2_Y_3', 'SUPERV_ENTRE_3_Y_4',\n",
    "       'SUPERV_ENTRE_4_Y_5', 'SUPERV_MAS_5']"
   ]
  },
  {
   "cell_type": "code",
   "execution_count": 32,
   "metadata": {},
   "outputs": [],
   "source": [
    "df['ID_ZONA'] = df['ID_ZONA'].astype(str)"
   ]
  },
  {
   "cell_type": "code",
   "execution_count": 33,
   "metadata": {},
   "outputs": [],
   "source": [
    "df_final = pd.get_dummies(df[features], columns=['ID_ZONA', 'RUBRO'], drop_first=True)"
   ]
  },
  {
   "cell_type": "code",
   "execution_count": 34,
   "metadata": {},
   "outputs": [],
   "source": [
    "X = df_final\n",
    "y = df[predecir]"
   ]
  },
  {
   "cell_type": "code",
   "execution_count": 35,
   "metadata": {},
   "outputs": [],
   "source": [
    "X_train, X_test, y_train, y_test = train_test_split(X, y, stratify=y, random_state = 0)"
   ]
  },
  {
   "cell_type": "code",
   "execution_count": 36,
   "metadata": {},
   "outputs": [],
   "source": [
    "from sklearn.preprocessing import StandardScaler\n",
    "scaler = StandardScaler()\n",
    "X_train_std = scaler.fit_transform(X_train)\n",
    "X_test_std = scaler.transform(X_test)"
   ]
  },
  {
   "cell_type": "code",
   "execution_count": 37,
   "metadata": {},
   "outputs": [
    {
     "data": {
      "text/plain": [
       "(16104, 189)"
      ]
     },
     "execution_count": 37,
     "metadata": {},
     "output_type": "execute_result"
    }
   ],
   "source": [
    "X_train.shape"
   ]
  },
  {
   "cell_type": "code",
   "execution_count": 38,
   "metadata": {},
   "outputs": [
    {
     "data": {
      "text/plain": [
       "(16104, 1)"
      ]
     },
     "execution_count": 38,
     "metadata": {},
     "output_type": "execute_result"
    }
   ],
   "source": [
    "y_train.shape"
   ]
  },
  {
   "cell_type": "code",
   "execution_count": 39,
   "metadata": {},
   "outputs": [],
   "source": [
    "from sklearn.linear_model import LogisticRegression\n",
    "logistic_regression = LogisticRegression(solver='newton-cg')"
   ]
  },
  {
   "cell_type": "code",
   "execution_count": 40,
   "metadata": {},
   "outputs": [
    {
     "data": {
      "text/plain": [
       "LogisticRegression(C=1.0, class_weight=None, dual=False, fit_intercept=True,\n",
       "                   intercept_scaling=1, l1_ratio=None, max_iter=100,\n",
       "                   multi_class='auto', n_jobs=None, penalty='l2',\n",
       "                   random_state=None, solver='newton-cg', tol=0.0001, verbose=0,\n",
       "                   warm_start=False)"
      ]
     },
     "execution_count": 40,
     "metadata": {},
     "output_type": "execute_result"
    }
   ],
   "source": [
    "logistic_regression.fit(X_train_std, y_train.values.reshape(-1))"
   ]
  },
  {
   "cell_type": "code",
   "execution_count": 41,
   "metadata": {},
   "outputs": [],
   "source": [
    "y_pred_test = logistic_regression.predict(X_test_std)"
   ]
  },
  {
   "cell_type": "code",
   "execution_count": 42,
   "metadata": {},
   "outputs": [
    {
     "data": {
      "text/plain": [
       "0.9735518718569566"
      ]
     },
     "execution_count": 42,
     "metadata": {},
     "output_type": "execute_result"
    }
   ],
   "source": [
    "from sklearn.metrics import accuracy_score\n",
    "accuracy_score(y_test, y_pred_test)"
   ]
  },
  {
   "cell_type": "code",
   "execution_count": 64,
   "metadata": {},
   "outputs": [
    {
     "data": {
      "text/plain": [
       "<matplotlib.axes._subplots.AxesSubplot at 0x2a2d79b8b08>"
      ]
     },
     "execution_count": 64,
     "metadata": {},
     "output_type": "execute_result"
    },
    {
     "data": {
      "image/png": "[encoded data removed]",
      "text/plain": [
       "<Figure size 432x288 with 2 Axes>"
      ]
     },
     "metadata": {
      "needs_background": "light"
     },
     "output_type": "display_data"
    }
   ],
   "source": [
    "from sklearn.metrics import confusion_matrix\n",
    "sns.heatmap(confusion_matrix(y_test, y_pred_test), annot=True, fmt='.0f')"
   ]
  },
  {
   "cell_type": "code",
   "execution_count": 69,
   "metadata": {},
   "outputs": [],
   "source": [
    "df['NR'] = df['NIVEL_RIESGO'].astype(str)"
   ]
  },
  {
   "cell_type": "code",
   "execution_count": 77,
   "metadata": {},
   "outputs": [],
   "source": [
    "columnas = ['APERTURAS',\n",
    "       'CIERRES', 'SUPERVIVENCIA', 'PROMEDIO_VENTAS', 'CANTIDAD_LOCALES', 'SUPERV_MENOS_1',\n",
    "       'SUPERV_ENTRE_1_Y_2', 'SUPERV_ENTRE_2_Y_3', 'SUPERV_ENTRE_3_Y_4',\n",
    "       'SUPERV_ENTRE_4_Y_5', 'SUPERV_MAS_5', 'NR']\n",
    "columnas_vars = ['APERTURAS',\n",
    "       'CIERRES', 'SUPERVIVENCIA']\n"
   ]
  },
  {
   "cell_type": "code",
   "execution_count": 78,
   "metadata": {},
   "outputs": [
    {
     "data": {
      "text/plain": [
       "<seaborn.axisgrid.PairGrid at 0x2a2dab46548>"
      ]
     },
     "execution_count": 78,
     "metadata": {},
     "output_type": "execute_result"
    },
    {
     "data": {
      "image/png": "[encoded data removed]",
      "text/plain": [
       "<Figure size 582.375x540 with 12 Axes>"
      ]
     },
     "metadata": {
      "needs_background": "light"
     },
     "output_type": "display_data"
    }
   ],
   "source": [
    "sns.pairplot(data=df[columnas], vars=columnas_vars, diag_kind='hist', hue='NR')"
   ]
  },
  {
   "cell_type": "code",
   "execution_count": 79,
   "metadata": {},
   "outputs": [],
   "source": [
    "from sklearn.model_selection import cross_val_score, KFold\n",
    "from sklearn.neighbors import KNeighborsClassifier"
   ]
  },
  {
   "cell_type": "code",
   "execution_count": 80,
   "metadata": {},
   "outputs": [],
   "source": [
    "def scores_knn(X, y, start, stop, step):\n",
    "    \n",
    "    # Vamos a querer graficar los distintos valores del score de cross validation en función del hiperparámetro n_neighbors\n",
    "    # Para esto vamos a generar una lista de diccionarios que después se puede convertir fácilmente en DataFrame\n",
    "    \n",
    "    # Lista de diccionarios - la inicializamos vacío y por fuera del for loop para ir alimentándola en cada iteración\n",
    "    scores_para_df = []\n",
    "    \n",
    "    \n",
    "    for i in range(start,stop,step):\n",
    "        \n",
    "        # En cada iteración, instanciamos el modelo con un hiperparámetro distinto\n",
    "        model = KNeighborsClassifier(n_neighbors=i)\n",
    "\n",
    "        # cross_val_scores nos devuelve un array de 5 resultados, uno por cada partición que hizo automáticamente CV\n",
    "        kf = KFold(n_splits=3, shuffle=True, random_state=10)\n",
    "        cv_scores = cross_val_score(model, X, y, cv=kf)\n",
    "\n",
    "        # Para cada valor de n_neighbours, creamos un diccionario con el valor de n_neighbours y la media y el desvío de los scores\n",
    "        dict_row_score = {'score_medio':np.mean(cv_scores),'score_std':np.std(cv_scores),'n_neighbours':i}\n",
    "\n",
    "        # Guardamos cada uno en la lista de diccionarios\n",
    "        scores_para_df.append(dict_row_score)\n",
    "    \n",
    "    # Creamos el DF a partir de la lista de resultados\n",
    "    df_scores = pd.DataFrame(scores_para_df)\n",
    "    \n",
    "    # Incorporamos los límites inferior y superior, restando y sumando el valor del desvío estándar, respectivamente\n",
    "    df_scores['limite_inferior'] = df_scores['score_medio'] - df_scores['score_std']\n",
    "    df_scores['limite_superior'] = df_scores['score_medio'] + df_scores['score_std']\n",
    "    \n",
    "    # Retornamos el DF\n",
    "    return df_scores"
   ]
  },
  {
   "cell_type": "code",
   "execution_count": 85,
   "metadata": {},
   "outputs": [],
   "source": [
    "df_scores= scores_knn(X_train_std, y_train.values.reshape(-1), 2, 6, 1)"
   ]
  },
  {
   "cell_type": "code",
   "execution_count": 86,
   "metadata": {},
   "outputs": [
    {
     "data": {
      "text/html": [
       "<div>\n",
       "<style scoped>\n",
       "    .dataframe tbody tr th:only-of-type {\n",
       "        vertical-align: middle;\n",
       "    }\n",
       "\n",
       "    .dataframe tbody tr th {\n",
       "        vertical-align: top;\n",
       "    }\n",
       "\n",
       "    .dataframe thead th {\n",
       "        text-align: right;\n",
       "    }\n",
       "</style>\n",
       "<table border=\"1\" class=\"dataframe\">\n",
       "  <thead>\n",
       "    <tr style=\"text-align: right;\">\n",
       "      <th></th>\n",
       "      <th>score_medio</th>\n",
       "      <th>score_std</th>\n",
       "      <th>n_neighbours</th>\n",
       "      <th>limite_inferior</th>\n",
       "      <th>limite_superior</th>\n",
       "    </tr>\n",
       "  </thead>\n",
       "  <tbody>\n",
       "    <tr>\n",
       "      <th>0</th>\n",
       "      <td>0.564394</td>\n",
       "      <td>0.003213</td>\n",
       "      <td>2</td>\n",
       "      <td>0.561180</td>\n",
       "      <td>0.567607</td>\n",
       "    </tr>\n",
       "    <tr>\n",
       "      <th>1</th>\n",
       "      <td>0.537009</td>\n",
       "      <td>0.005348</td>\n",
       "      <td>3</td>\n",
       "      <td>0.531661</td>\n",
       "      <td>0.542358</td>\n",
       "    </tr>\n",
       "    <tr>\n",
       "      <th>2</th>\n",
       "      <td>0.540238</td>\n",
       "      <td>0.005151</td>\n",
       "      <td>4</td>\n",
       "      <td>0.535087</td>\n",
       "      <td>0.545390</td>\n",
       "    </tr>\n",
       "    <tr>\n",
       "      <th>3</th>\n",
       "      <td>0.531234</td>\n",
       "      <td>0.007161</td>\n",
       "      <td>5</td>\n",
       "      <td>0.524074</td>\n",
       "      <td>0.538395</td>\n",
       "    </tr>\n",
       "  </tbody>\n",
       "</table>\n",
       "</div>"
      ],
      "text/plain": [
       "   score_medio  score_std  n_neighbours  limite_inferior  limite_superior\n",
       "0     0.564394   0.003213             2         0.561180         0.567607\n",
       "1     0.537009   0.005348             3         0.531661         0.542358\n",
       "2     0.540238   0.005151             4         0.535087         0.545390\n",
       "3     0.531234   0.007161             5         0.524074         0.538395"
      ]
     },
     "execution_count": 86,
     "metadata": {},
     "output_type": "execute_result"
    }
   ],
   "source": [
    "df_scores"
   ]
  },
  {
   "cell_type": "code",
   "execution_count": 87,
   "metadata": {},
   "outputs": [
    {
     "data": {
      "text/html": [
       "<div>\n",
       "<style scoped>\n",
       "    .dataframe tbody tr th:only-of-type {\n",
       "        vertical-align: middle;\n",
       "    }\n",
       "\n",
       "    .dataframe tbody tr th {\n",
       "        vertical-align: top;\n",
       "    }\n",
       "\n",
       "    .dataframe thead th {\n",
       "        text-align: right;\n",
       "    }\n",
       "</style>\n",
       "<table border=\"1\" class=\"dataframe\">\n",
       "  <thead>\n",
       "    <tr style=\"text-align: right;\">\n",
       "      <th></th>\n",
       "      <th>score_medio</th>\n",
       "      <th>score_std</th>\n",
       "      <th>n_neighbours</th>\n",
       "      <th>limite_inferior</th>\n",
       "      <th>limite_superior</th>\n",
       "    </tr>\n",
       "  </thead>\n",
       "  <tbody>\n",
       "    <tr>\n",
       "      <th>0</th>\n",
       "      <td>0.564394</td>\n",
       "      <td>0.003213</td>\n",
       "      <td>2</td>\n",
       "      <td>0.56118</td>\n",
       "      <td>0.567607</td>\n",
       "    </tr>\n",
       "  </tbody>\n",
       "</table>\n",
       "</div>"
      ],
      "text/plain": [
       "   score_medio  score_std  n_neighbours  limite_inferior  limite_superior\n",
       "0     0.564394   0.003213             2          0.56118         0.567607"
      ]
     },
     "execution_count": 87,
     "metadata": {},
     "output_type": "execute_result"
    }
   ],
   "source": [
    "df_scores.loc[df_scores.score_medio == df_scores.score_medio.max()]"
   ]
  },
  {
   "cell_type": "code",
   "execution_count": 88,
   "metadata": {},
   "outputs": [
    {
     "data": {
      "text/plain": [
       "2"
      ]
     },
     "execution_count": 88,
     "metadata": {},
     "output_type": "execute_result"
    }
   ],
   "source": [
    "best_k = df_scores.loc[df_scores.score_medio == df_scores.score_medio.max(),'n_neighbours'].values[0]\n",
    "best_k"
   ]
  },
  {
   "cell_type": "code",
   "execution_count": 89,
   "metadata": {},
   "outputs": [
    {
     "data": {
      "text/plain": [
       "KNeighborsClassifier(algorithm='auto', leaf_size=30, metric='minkowski',\n",
       "                     metric_params=None, n_jobs=None, n_neighbors=2, p=2,\n",
       "                     weights='uniform')"
      ]
     },
     "execution_count": 89,
     "metadata": {},
     "output_type": "execute_result"
    }
   ],
   "source": [
    "model_knn = KNeighborsClassifier(n_neighbors=best_k)\n",
    "model_knn.fit(X_train_std, y_train.values.reshape(-1))"
   ]
  },
  {
   "cell_type": "code",
   "execution_count": 90,
   "metadata": {},
   "outputs": [
    {
     "data": {
      "text/plain": [
       "0.7963238946845504"
      ]
     },
     "execution_count": 90,
     "metadata": {},
     "output_type": "execute_result"
    }
   ],
   "source": [
    "accuracy_score(y_train, model_knn.predict(X_train_std))"
   ]
  },
  {
   "cell_type": "code",
   "execution_count": 91,
   "metadata": {},
   "outputs": [],
   "source": [
    "y_pred_knn = model_knn.predict(X_test_std)"
   ]
  },
  {
   "cell_type": "code",
   "execution_count": 92,
   "metadata": {},
   "outputs": [
    {
     "data": {
      "text/plain": [
       "0.6071894207487428"
      ]
     },
     "execution_count": 92,
     "metadata": {},
     "output_type": "execute_result"
    }
   ],
   "source": [
    "accuracy_score(y_test, y_pred_knn)"
   ]
  },
  {
   "cell_type": "code",
   "execution_count": 93,
   "metadata": {},
   "outputs": [],
   "source": [
    "from sklearn.naive_bayes import GaussianNB"
   ]
  },
  {
   "cell_type": "code",
   "execution_count": 94,
   "metadata": {},
   "outputs": [
    {
     "data": {
      "text/plain": [
       "GaussianNB(priors=None, var_smoothing=1e-09)"
      ]
     },
     "execution_count": 94,
     "metadata": {},
     "output_type": "execute_result"
    }
   ],
   "source": [
    "gnb = GaussianNB()\n",
    "gnb.fit(X_train_std, y_train.values.reshape(-1))"
   ]
  },
  {
   "cell_type": "code",
   "execution_count": 95,
   "metadata": {},
   "outputs": [],
   "source": [
    "y_pred_nb = gnb.predict(X_test_std)"
   ]
  },
  {
   "cell_type": "code",
   "execution_count": 96,
   "metadata": {},
   "outputs": [
    {
     "data": {
      "text/plain": [
       "0.18811696777798473"
      ]
     },
     "execution_count": 96,
     "metadata": {},
     "output_type": "execute_result"
    }
   ],
   "source": [
    "accuracy_score(y_test, y_pred_nb)"
   ]
  }
 ],
 "metadata": {
  "kernelspec": {
   "display_name": "Python 3",
   "language": "python",
   "name": "python3"
  },
  "language_info": {
   "codemirror_mode": {
    "name": "ipython",
    "version": 3
   },
   "file_extension": ".py",
   "mimetype": "text/x-python",
   "name": "python",
   "nbconvert_exporter": "python",
   "pygments_lexer": "ipython3",
   "version": "3.7.7"
  }
 },
 "nbformat": 4,
 "nbformat_minor": 4
}
