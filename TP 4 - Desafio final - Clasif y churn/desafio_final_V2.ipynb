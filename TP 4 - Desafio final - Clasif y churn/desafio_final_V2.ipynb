{
 "cells": [
  {
   "cell_type": "code",
   "execution_count": 61,
   "metadata": {},
   "outputs": [],
   "source": [
    "import pandas as pd\n",
    "import numpy as np\n",
    "import seaborn as sns\n",
    "import re\n",
    "import os\n",
    "import matplotlib.pyplot as plt\n",
    "%matplotlib inline"
   ]
  },
  {
   "cell_type": "code",
   "execution_count": 3,
   "metadata": {},
   "outputs": [],
   "source": [
    "pd.options.display.max_columns = None\n",
    "pd.options.display.max_rows = None"
   ]
  },
  {
   "cell_type": "code",
   "execution_count": 4,
   "metadata": {},
   "outputs": [],
   "source": [
    "#os.chdir('C:\\\\Users\\\\gbulgach\\\\Desktop\\\\Curso Data Science\\\\desafio_final')"
   ]
  },
  {
   "cell_type": "markdown",
   "metadata": {},
   "source": [
    "---\n",
    "\n",
    "# Desafio final Digital House\n",
    "Grupo 3\n",
    "\n",
    "Alumnos: Gustavo Bulgach, Ronny Gomez y Miriam Lanabere"
   ]
  },
  {
   "cell_type": "markdown",
   "metadata": {},
   "source": [
    "##### OBJETIVO: El desafío consiste en utilizar un dataset de Recursos Humanos de una compañía de telecomunicaciones con el objetivo de predecir la baja de un colaborador.\n",
    "##### El dataset cuenta con los empleados activos de la empresa y las bajas voluntarias e involuntarias de los años 2018, 2019 y 2020. Consta de 1.649.196 registros sobre una poblacion de 23.266 personas.\n"
   ]
  },
  {
   "cell_type": "markdown",
   "metadata": {},
   "source": [
    "<a id=\"section_indice\"></a> \n",
    "## Indice\n",
    "\n",
    "[1- Limpieza del dataset](#section_limpieza)\n",
    "\n",
    "[2- Análisis exploratorio del dataset](#section_EDA)\n",
    "\n"
   ]
  },
  {
   "cell_type": "markdown",
   "metadata": {},
   "source": [
    "### Limpieza del dataset\n",
    "\n",
    "<a id=\"section_limpieza\"></a> \n",
    "[volver a Indice](#section_indice)"
   ]
  },
  {
   "cell_type": "code",
   "execution_count": 5,
   "metadata": {},
   "outputs": [],
   "source": [
    "df = pd.read_csv('dataset_bajas.csv', encoding = 'latin1', sep = ';', low_memory = False)"
   ]
  },
  {
   "cell_type": "code",
   "execution_count": 6,
   "metadata": {},
   "outputs": [
    {
     "data": {
      "text/html": [
       "<div>\n",
       "<style scoped>\n",
       "    .dataframe tbody tr th:only-of-type {\n",
       "        vertical-align: middle;\n",
       "    }\n",
       "\n",
       "    .dataframe tbody tr th {\n",
       "        vertical-align: top;\n",
       "    }\n",
       "\n",
       "    .dataframe thead th {\n",
       "        text-align: right;\n",
       "    }\n",
       "</style>\n",
       "<table border=\"1\" class=\"dataframe\">\n",
       "  <thead>\n",
       "    <tr style=\"text-align: right;\">\n",
       "      <th></th>\n",
       "      <th>REGION_GESTIONAL</th>\n",
       "      <th>BAJA_NUM</th>\n",
       "      <th>AREA_DE_NEGOCIO</th>\n",
       "      <th>AREA_GESTIONAL</th>\n",
       "      <th>AREA DE NEGOCIO 2</th>\n",
       "      <th>Id_Soc</th>\n",
       "      <th>Posición</th>\n",
       "      <th>Categ</th>\n",
       "      <th>Repr_Gremial</th>\n",
       "      <th>REPRE_GREMIAL II</th>\n",
       "      <th>Clase_de_Contrato</th>\n",
       "      <th>Mes</th>\n",
       "      <th>Año</th>\n",
       "      <th>Fecha_Antig</th>\n",
       "      <th>Antig_Recon</th>\n",
       "      <th>Fecha_Nacim</th>\n",
       "      <th>edad</th>\n",
       "      <th>sexo</th>\n",
       "      <th>Unidad_Organizativa</th>\n",
       "      <th>ENCUADRE</th>\n",
       "      <th>GENERACIÓN</th>\n",
       "      <th>GENERACION_O</th>\n",
       "      <th>GRUPO JERARQUICO</th>\n",
       "      <th>GRUPO JERARQUICO_O</th>\n",
       "      <th>nacionalidad</th>\n",
       "      <th>estado_civil</th>\n",
       "      <th>puesto_sindical</th>\n",
       "      <th>htrab</th>\n",
       "      <th>Gr.prof</th>\n",
       "      <th>gerencia_operativa</th>\n",
       "      <th>PAIS_SOC</th>\n",
       "      <th>DIRECCION</th>\n",
       "      <th>EMPLEADO CON HIJOS Q</th>\n",
       "      <th>COMPA RATIO BAJAS</th>\n",
       "      <th>COMPA RATIO</th>\n",
       "      <th>COMPA RATIO ABD</th>\n",
       "      <th>TIPO BAJA</th>\n",
       "      <th>PERFIL DIGITAL</th>\n",
       "      <th>Función</th>\n",
       "      <th>Categoría del puesto</th>\n",
       "      <th>Agrupador Categorá del puesto</th>\n",
       "      <th>Grupo de personal</th>\n",
       "      <th>Horas laborables semanales</th>\n",
       "      <th>Superior directo_legajo</th>\n",
       "      <th>Superior directo_q reportes</th>\n",
       "      <th>Home_Partido</th>\n",
       "      <th>Home_Provincia</th>\n",
       "      <th>Home_Pais</th>\n",
       "      <th>Laboral_Localidad</th>\n",
       "      <th>Laboral_Provincia</th>\n",
       "      <th>Laboral_Pais</th>\n",
       "      <th>Tipo de estructura</th>\n",
       "      <th>COLABORADORES</th>\n",
       "      <th>LIDERES</th>\n",
       "      <th>nivel_estudios_alcanzado</th>\n",
       "      <th>mensajes_yammer</th>\n",
       "      <th>hijos_menos_cinco</th>\n",
       "      <th>hijos_entre_seis_diez</th>\n",
       "      <th>hijos_entre_once_quince</th>\n",
       "      <th>hijos_entre_dieciseis_veinte</th>\n",
       "      <th>hijos_mas_veinte</th>\n",
       "    </tr>\n",
       "  </thead>\n",
       "  <tbody>\n",
       "    <tr>\n",
       "      <th>0</th>\n",
       "      <td>LITO</td>\n",
       "      <td>0</td>\n",
       "      <td>COO</td>\n",
       "      <td>COO_LITO</td>\n",
       "      <td>COO AREAS COMERCIALES</td>\n",
       "      <td>A001</td>\n",
       "      <td>Atención Presencial Atención Comercial</td>\n",
       "      <td>PC</td>\n",
       "      <td>Dentro de convenio</td>\n",
       "      <td>FATEL</td>\n",
       "      <td>Regular</td>\n",
       "      <td>6</td>\n",
       "      <td>2020</td>\n",
       "      <td>2001-02-16 00:00:00,000</td>\n",
       "      <td>19.0</td>\n",
       "      <td>1974-12-05 00:00:00,000</td>\n",
       "      <td>45.0</td>\n",
       "      <td>Femenino</td>\n",
       "      <td>ROSARIO ROCA 2</td>\n",
       "      <td>DENTRO DE CONVENIO</td>\n",
       "      <td>Generación X</td>\n",
       "      <td>2</td>\n",
       "      <td>COLABORADOR</td>\n",
       "      <td>1</td>\n",
       "      <td>argentina</td>\n",
       "      <td>divorciado/a</td>\n",
       "      <td>NaN</td>\n",
       "      <td>84</td>\n",
       "      <td>SITR. M</td>\n",
       "      <td>Region Litoral</td>\n",
       "      <td>ARGENTINA</td>\n",
       "      <td>COO</td>\n",
       "      <td>1.0</td>\n",
       "      <td>NaN</td>\n",
       "      <td>NaN</td>\n",
       "      <td>NaN</td>\n",
       "      <td>NaN</td>\n",
       "      <td>NaN</td>\n",
       "      <td>Atención Presencial</td>\n",
       "      <td>Atención Comercial</td>\n",
       "      <td>Ventas y Atención al Cliente</td>\n",
       "      <td>CONTRIBUIDOR INDIVIDUAL</td>\n",
       "      <td>20.0</td>\n",
       "      <td>527639.0</td>\n",
       "      <td>11</td>\n",
       "      <td>ROSARIO</td>\n",
       "      <td>Santa Fe</td>\n",
       "      <td>Argentina</td>\n",
       "      <td>ROSARIO</td>\n",
       "      <td>Santa Fé</td>\n",
       "      <td>Argentina</td>\n",
       "      <td>Area de Negocio</td>\n",
       "      <td>1</td>\n",
       "      <td>0</td>\n",
       "      <td>3.0</td>\n",
       "      <td>3</td>\n",
       "      <td>1</td>\n",
       "      <td>0</td>\n",
       "      <td>0</td>\n",
       "      <td>0</td>\n",
       "      <td>0</td>\n",
       "    </tr>\n",
       "    <tr>\n",
       "      <th>1</th>\n",
       "      <td>LITO</td>\n",
       "      <td>0</td>\n",
       "      <td>COO</td>\n",
       "      <td>COO_LITO</td>\n",
       "      <td>COO AREAS COMERCIALES</td>\n",
       "      <td>A001</td>\n",
       "      <td>Supervisor/a ROSARIO ROCA 3</td>\n",
       "      <td>F5</td>\n",
       "      <td>Dentro de convenio</td>\n",
       "      <td>FOPSSTA</td>\n",
       "      <td>Regular</td>\n",
       "      <td>6</td>\n",
       "      <td>2020</td>\n",
       "      <td>2003-11-01 00:00:00,000</td>\n",
       "      <td>16.0</td>\n",
       "      <td>1978-07-17 00:00:00,000</td>\n",
       "      <td>41.0</td>\n",
       "      <td>Femenino</td>\n",
       "      <td>ROSARIO ROCA 3</td>\n",
       "      <td>DENTRO DE CONVENIO</td>\n",
       "      <td>Generación X</td>\n",
       "      <td>2</td>\n",
       "      <td>GESTIÓN</td>\n",
       "      <td>2</td>\n",
       "      <td>argentina</td>\n",
       "      <td>casado/a</td>\n",
       "      <td>NaN</td>\n",
       "      <td>160</td>\n",
       "      <td>FOPST. M</td>\n",
       "      <td>Region Litoral</td>\n",
       "      <td>ARGENTINA</td>\n",
       "      <td>COO</td>\n",
       "      <td>2.0</td>\n",
       "      <td>NaN</td>\n",
       "      <td>NaN</td>\n",
       "      <td>NaN</td>\n",
       "      <td>NaN</td>\n",
       "      <td>NaN</td>\n",
       "      <td>Supervisor/a</td>\n",
       "      <td>Estructura Operativa</td>\n",
       "      <td>Estructura Operativa</td>\n",
       "      <td>LIDER DE EQUIPO</td>\n",
       "      <td>40.0</td>\n",
       "      <td>201122.0</td>\n",
       "      <td>6</td>\n",
       "      <td>ROSARIO</td>\n",
       "      <td>Santa Fe</td>\n",
       "      <td>Argentina</td>\n",
       "      <td>ROSARIO</td>\n",
       "      <td>Santa Fé</td>\n",
       "      <td>Argentina</td>\n",
       "      <td>Area de Negocio</td>\n",
       "      <td>0</td>\n",
       "      <td>1</td>\n",
       "      <td>3.0</td>\n",
       "      <td>1</td>\n",
       "      <td>0</td>\n",
       "      <td>2</td>\n",
       "      <td>0</td>\n",
       "      <td>0</td>\n",
       "      <td>2</td>\n",
       "    </tr>\n",
       "    <tr>\n",
       "      <th>2</th>\n",
       "      <td>LITO</td>\n",
       "      <td>0</td>\n",
       "      <td>COO</td>\n",
       "      <td>COO_LITO</td>\n",
       "      <td>COO AREAS COMERCIALES</td>\n",
       "      <td>A001</td>\n",
       "      <td>Atención Presencial de Ventas</td>\n",
       "      <td>NC</td>\n",
       "      <td>Dentro de convenio</td>\n",
       "      <td>FATEL</td>\n",
       "      <td>Regular</td>\n",
       "      <td>6</td>\n",
       "      <td>2020</td>\n",
       "      <td>2001-08-01 00:00:00,000</td>\n",
       "      <td>18.0</td>\n",
       "      <td>1973-02-15 00:00:00,000</td>\n",
       "      <td>47.0</td>\n",
       "      <td>Femenino</td>\n",
       "      <td>ROSARIO ROCA 3</td>\n",
       "      <td>DENTRO DE CONVENIO</td>\n",
       "      <td>Generación X</td>\n",
       "      <td>2</td>\n",
       "      <td>COLABORADOR</td>\n",
       "      <td>1</td>\n",
       "      <td>argentina</td>\n",
       "      <td>soltero/a</td>\n",
       "      <td>NaN</td>\n",
       "      <td>84</td>\n",
       "      <td>SITR. M</td>\n",
       "      <td>Region Litoral</td>\n",
       "      <td>ARGENTINA</td>\n",
       "      <td>COO</td>\n",
       "      <td>2.0</td>\n",
       "      <td>NaN</td>\n",
       "      <td>NaN</td>\n",
       "      <td>NaN</td>\n",
       "      <td>NaN</td>\n",
       "      <td>NaN</td>\n",
       "      <td>Atención Presencial</td>\n",
       "      <td>Ventas</td>\n",
       "      <td>Ventas y Atención al Cliente</td>\n",
       "      <td>CONTRIBUIDOR INDIVIDUAL</td>\n",
       "      <td>20.0</td>\n",
       "      <td>193030.0</td>\n",
       "      <td>10</td>\n",
       "      <td>ROSARIO</td>\n",
       "      <td>Santa Fe</td>\n",
       "      <td>Argentina</td>\n",
       "      <td>ROSARIO</td>\n",
       "      <td>Santa Fe</td>\n",
       "      <td>Argentina</td>\n",
       "      <td>Area de Negocio</td>\n",
       "      <td>1</td>\n",
       "      <td>0</td>\n",
       "      <td>2.0</td>\n",
       "      <td>0</td>\n",
       "      <td>0</td>\n",
       "      <td>1</td>\n",
       "      <td>1</td>\n",
       "      <td>0</td>\n",
       "      <td>1</td>\n",
       "    </tr>\n",
       "    <tr>\n",
       "      <th>3</th>\n",
       "      <td>LITO</td>\n",
       "      <td>0</td>\n",
       "      <td>COO</td>\n",
       "      <td>COO_LITO</td>\n",
       "      <td>COO AREAS COMERCIALES</td>\n",
       "      <td>A001</td>\n",
       "      <td>Atención Presencial de Soporte Comercial Oc</td>\n",
       "      <td>PC</td>\n",
       "      <td>Dentro de convenio</td>\n",
       "      <td>FATEL</td>\n",
       "      <td>Regular</td>\n",
       "      <td>6</td>\n",
       "      <td>2020</td>\n",
       "      <td>2000-09-13 00:00:00,000</td>\n",
       "      <td>19.0</td>\n",
       "      <td>1975-01-31 00:00:00,000</td>\n",
       "      <td>45.0</td>\n",
       "      <td>Femenino</td>\n",
       "      <td>SUPERVISION 1</td>\n",
       "      <td>DENTRO DE CONVENIO</td>\n",
       "      <td>Generación X</td>\n",
       "      <td>2</td>\n",
       "      <td>COLABORADOR</td>\n",
       "      <td>1</td>\n",
       "      <td>argentina</td>\n",
       "      <td>casado/a</td>\n",
       "      <td>NaN</td>\n",
       "      <td>160</td>\n",
       "      <td>SITR. M</td>\n",
       "      <td>Region Litoral</td>\n",
       "      <td>ARGENTINA</td>\n",
       "      <td>COO</td>\n",
       "      <td>1.0</td>\n",
       "      <td>NaN</td>\n",
       "      <td>NaN</td>\n",
       "      <td>NaN</td>\n",
       "      <td>NaN</td>\n",
       "      <td>NaN</td>\n",
       "      <td>Atención Presencial</td>\n",
       "      <td>Soporte Comercial Oc</td>\n",
       "      <td>Convenios</td>\n",
       "      <td>CONTRIBUIDOR INDIVIDUAL</td>\n",
       "      <td>40.0</td>\n",
       "      <td>193030.0</td>\n",
       "      <td>10</td>\n",
       "      <td>ROSARIO</td>\n",
       "      <td>Santa Fe</td>\n",
       "      <td>Argentina</td>\n",
       "      <td>ROSARIO</td>\n",
       "      <td>Santa Fé</td>\n",
       "      <td>Argentina</td>\n",
       "      <td>Area Corporativa</td>\n",
       "      <td>1</td>\n",
       "      <td>0</td>\n",
       "      <td>1.0</td>\n",
       "      <td>0</td>\n",
       "      <td>0</td>\n",
       "      <td>0</td>\n",
       "      <td>1</td>\n",
       "      <td>0</td>\n",
       "      <td>0</td>\n",
       "    </tr>\n",
       "  </tbody>\n",
       "</table>\n",
       "</div>"
      ],
      "text/plain": [
       "  REGION_GESTIONAL  BAJA_NUM AREA_DE_NEGOCIO AREA_GESTIONAL  \\\n",
       "0             LITO         0             COO       COO_LITO   \n",
       "1             LITO         0             COO       COO_LITO   \n",
       "2             LITO         0             COO       COO_LITO   \n",
       "3             LITO         0             COO       COO_LITO   \n",
       "\n",
       "       AREA DE NEGOCIO 2 Id_Soc                                     Posición  \\\n",
       "0  COO AREAS COMERCIALES   A001       Atención Presencial Atención Comercial   \n",
       "1  COO AREAS COMERCIALES   A001                  Supervisor/a ROSARIO ROCA 3   \n",
       "2  COO AREAS COMERCIALES   A001                Atención Presencial de Ventas   \n",
       "3  COO AREAS COMERCIALES   A001  Atención Presencial de Soporte Comercial Oc   \n",
       "\n",
       "  Categ        Repr_Gremial REPRE_GREMIAL II Clase_de_Contrato  Mes   Año  \\\n",
       "0    PC  Dentro de convenio            FATEL           Regular    6  2020   \n",
       "1    F5  Dentro de convenio          FOPSSTA           Regular    6  2020   \n",
       "2    NC  Dentro de convenio            FATEL           Regular    6  2020   \n",
       "3    PC  Dentro de convenio            FATEL           Regular    6  2020   \n",
       "\n",
       "               Fecha_Antig  Antig_Recon              Fecha_Nacim  edad  \\\n",
       "0  2001-02-16 00:00:00,000         19.0  1974-12-05 00:00:00,000  45.0   \n",
       "1  2003-11-01 00:00:00,000         16.0  1978-07-17 00:00:00,000  41.0   \n",
       "2  2001-08-01 00:00:00,000         18.0  1973-02-15 00:00:00,000  47.0   \n",
       "3  2000-09-13 00:00:00,000         19.0  1975-01-31 00:00:00,000  45.0   \n",
       "\n",
       "       sexo Unidad_Organizativa            ENCUADRE    GENERACIÓN  \\\n",
       "0  Femenino      ROSARIO ROCA 2  DENTRO DE CONVENIO  Generación X   \n",
       "1  Femenino      ROSARIO ROCA 3  DENTRO DE CONVENIO  Generación X   \n",
       "2  Femenino      ROSARIO ROCA 3  DENTRO DE CONVENIO  Generación X   \n",
       "3  Femenino       SUPERVISION 1  DENTRO DE CONVENIO  Generación X   \n",
       "\n",
       "   GENERACION_O GRUPO JERARQUICO  GRUPO JERARQUICO_O nacionalidad  \\\n",
       "0             2      COLABORADOR                   1    argentina   \n",
       "1             2          GESTIÓN                   2    argentina   \n",
       "2             2      COLABORADOR                   1    argentina   \n",
       "3             2      COLABORADOR                   1    argentina   \n",
       "\n",
       "   estado_civil puesto_sindical htrab   Gr.prof gerencia_operativa   PAIS_SOC  \\\n",
       "0  divorciado/a             NaN    84   SITR. M     Region Litoral  ARGENTINA   \n",
       "1      casado/a             NaN   160  FOPST. M     Region Litoral  ARGENTINA   \n",
       "2     soltero/a             NaN    84   SITR. M     Region Litoral  ARGENTINA   \n",
       "3      casado/a             NaN   160   SITR. M     Region Litoral  ARGENTINA   \n",
       "\n",
       "  DIRECCION  EMPLEADO CON HIJOS Q COMPA RATIO BAJAS COMPA RATIO  \\\n",
       "0       COO                   1.0               NaN         NaN   \n",
       "1       COO                   2.0               NaN         NaN   \n",
       "2       COO                   2.0               NaN         NaN   \n",
       "3       COO                   1.0               NaN         NaN   \n",
       "\n",
       "   COMPA RATIO ABD TIPO BAJA PERFIL DIGITAL              Función  \\\n",
       "0              NaN       NaN            NaN  Atención Presencial   \n",
       "1              NaN       NaN            NaN         Supervisor/a   \n",
       "2              NaN       NaN            NaN  Atención Presencial   \n",
       "3              NaN       NaN            NaN  Atención Presencial   \n",
       "\n",
       "   Categoría del puesto Agrupador Categorá del puesto  \\\n",
       "0    Atención Comercial  Ventas y Atención al Cliente   \n",
       "1  Estructura Operativa          Estructura Operativa   \n",
       "2                Ventas  Ventas y Atención al Cliente   \n",
       "3  Soporte Comercial Oc                     Convenios   \n",
       "\n",
       "         Grupo de personal  Horas laborables semanales  \\\n",
       "0  CONTRIBUIDOR INDIVIDUAL                        20.0   \n",
       "1          LIDER DE EQUIPO                        40.0   \n",
       "2  CONTRIBUIDOR INDIVIDUAL                        20.0   \n",
       "3  CONTRIBUIDOR INDIVIDUAL                        40.0   \n",
       "\n",
       "   Superior directo_legajo  Superior directo_q reportes Home_Partido  \\\n",
       "0                 527639.0                           11      ROSARIO   \n",
       "1                 201122.0                            6      ROSARIO   \n",
       "2                 193030.0                           10      ROSARIO   \n",
       "3                 193030.0                           10      ROSARIO   \n",
       "\n",
       "  Home_Provincia  Home_Pais Laboral_Localidad Laboral_Provincia Laboral_Pais  \\\n",
       "0       Santa Fe  Argentina           ROSARIO          Santa Fé    Argentina   \n",
       "1       Santa Fe  Argentina           ROSARIO          Santa Fé    Argentina   \n",
       "2       Santa Fe  Argentina           ROSARIO          Santa Fe    Argentina   \n",
       "3       Santa Fe  Argentina           ROSARIO          Santa Fé    Argentina   \n",
       "\n",
       "  Tipo de estructura  COLABORADORES  LIDERES  nivel_estudios_alcanzado  \\\n",
       "0    Area de Negocio              1        0                       3.0   \n",
       "1    Area de Negocio              0        1                       3.0   \n",
       "2    Area de Negocio              1        0                       2.0   \n",
       "3   Area Corporativa              1        0                       1.0   \n",
       "\n",
       "   mensajes_yammer  hijos_menos_cinco  hijos_entre_seis_diez  \\\n",
       "0                3                  1                      0   \n",
       "1                1                  0                      2   \n",
       "2                0                  0                      1   \n",
       "3                0                  0                      0   \n",
       "\n",
       "   hijos_entre_once_quince  hijos_entre_dieciseis_veinte  hijos_mas_veinte  \n",
       "0                        0                             0                 0  \n",
       "1                        0                             0                 2  \n",
       "2                        1                             0                 1  \n",
       "3                        1                             0                 0  "
      ]
     },
     "execution_count": 6,
     "metadata": {},
     "output_type": "execute_result"
    }
   ],
   "source": [
    "df.head(4)"
   ]
  },
  {
   "cell_type": "code",
   "execution_count": 7,
   "metadata": {},
   "outputs": [
    {
     "data": {
      "text/plain": [
       "1649196"
      ]
     },
     "execution_count": 7,
     "metadata": {},
     "output_type": "execute_result"
    }
   ],
   "source": [
    "df.size"
   ]
  },
  {
   "cell_type": "code",
   "execution_count": 23,
   "metadata": {},
   "outputs": [
    {
     "data": {
      "text/plain": [
       "(23266, 61)"
      ]
     },
     "execution_count": 23,
     "metadata": {},
     "output_type": "execute_result"
    }
   ],
   "source": [
    "df.shape"
   ]
  },
  {
   "cell_type": "markdown",
   "metadata": {},
   "source": [
    "# AÑO"
   ]
  },
  {
   "cell_type": "markdown",
   "metadata": {},
   "source": [
    "##### Solo nos quedamos con el año 2020"
   ]
  },
  {
   "cell_type": "code",
   "execution_count": 8,
   "metadata": {},
   "outputs": [],
   "source": [
    "df_año_mask = df.Año == 2020\n",
    "df = df[df_año_mask]"
   ]
  },
  {
   "cell_type": "code",
   "execution_count": 43,
   "metadata": {},
   "outputs": [
    {
     "data": {
      "text/plain": [
       "puesto_sindical                  23249\n",
       "COMPA RATIO BAJAS                23172\n",
       "TIPO BAJA                        22861\n",
       "PERFIL DIGITAL                   22504\n",
       "COMPA RATIO                      17799\n",
       "COMPA RATIO ABD                  17705\n",
       "nivel_estudios_alcanzado          8749\n",
       "EMPLEADO CON HIJOS Q              8728\n",
       "Clase_de_Contrato                  137\n",
       "Categ                              126\n",
       "GENERACIÓN                           1\n",
       "Fecha_Antig                          1\n",
       "Fecha_Nacim                          1\n",
       "Unidad_Organizativa                  0\n",
       "GENERACION_O                         0\n",
       "GRUPO JERARQUICO                     0\n",
       "GRUPO JERARQUICO_O                   0\n",
       "nacionalidad                         0\n",
       "ENCUADRE                             0\n",
       "puesto_sindical_ok                   0\n",
       "sexo                                 0\n",
       "edad                                 0\n",
       "Antig_Recon                          0\n",
       "Año                                  0\n",
       "Mes                                  0\n",
       "REPRE_GREMIAL II                     0\n",
       "Repr_Gremial                         0\n",
       "Posición                             0\n",
       "Id_Soc                               0\n",
       "AREA DE NEGOCIO 2                    0\n",
       "AREA_GESTIONAL                       0\n",
       "AREA_DE_NEGOCIO                      0\n",
       "BAJA_NUM                             0\n",
       "estado_civil                         0\n",
       "PAIS_SOC                             0\n",
       "htrab                                0\n",
       "Home_Pais                            0\n",
       "hijos_entre_dieciseis_veinte         0\n",
       "hijos_entre_once_quince              0\n",
       "hijos_entre_seis_diez                0\n",
       "hijos_menos_cinco                    0\n",
       "mensajes_yammer                      0\n",
       "LIDERES                              0\n",
       "COLABORADORES                        0\n",
       "Tipo de estructura                   0\n",
       "Laboral_Pais                         0\n",
       "Laboral_Provincia                    0\n",
       "Laboral_Localidad                    0\n",
       "Home_Provincia                       0\n",
       "Gr.prof                              0\n",
       "Home_Partido                         0\n",
       "Superior directo_q reportes          0\n",
       "Superior directo_legajo              0\n",
       "Horas laborables semanales           0\n",
       "Grupo de personal                    0\n",
       "Agrupador Categorá del puesto        0\n",
       "Categoría del puesto                 0\n",
       "Función                              0\n",
       "DIRECCION                            0\n",
       "hijos_mas_veinte                     0\n",
       "gerencia_operativa                   0\n",
       "REGION_GESTIONAL                     0\n",
       "dtype: int64"
      ]
     },
     "execution_count": 43,
     "metadata": {},
     "output_type": "execute_result"
    }
   ],
   "source": [
    "df.isnull().sum().sort_values(ascending = False)"
   ]
  },
  {
   "cell_type": "markdown",
   "metadata": {},
   "source": [
    "# REGION_GESTIONAL"
   ]
  },
  {
   "cell_type": "markdown",
   "metadata": {},
   "source": [
    "##### Modificamos los casos de NORTE y les ponemos la region que corresponde segun la provincia laboral"
   ]
  },
  {
   "cell_type": "code",
   "execution_count": 9,
   "metadata": {},
   "outputs": [
    {
     "data": {
      "text/plain": [
       "AMBA               13693\n",
       "LITO                4546\n",
       "MEDI                2897\n",
       "NOA                 1131\n",
       "PBA y PATAGONIA      932\n",
       "NORTE                 67\n",
       "Name: REGION_GESTIONAL, dtype: int64"
      ]
     },
     "execution_count": 9,
     "metadata": {},
     "output_type": "execute_result"
    }
   ],
   "source": [
    "df.REGION_GESTIONAL.value_counts()"
   ]
  },
  {
   "cell_type": "code",
   "execution_count": 10,
   "metadata": {},
   "outputs": [],
   "source": [
    "df_n_m = df.REGION_GESTIONAL == 'NORTE'\n",
    "df_n = df[df_n_m]"
   ]
  },
  {
   "cell_type": "code",
   "execution_count": 11,
   "metadata": {},
   "outputs": [
    {
     "data": {
      "text/plain": [
       "1    66\n",
       "0     1\n",
       "Name: BAJA_NUM, dtype: int64"
      ]
     },
     "execution_count": 11,
     "metadata": {},
     "output_type": "execute_result"
    }
   ],
   "source": [
    "df_n.BAJA_NUM.value_counts()"
   ]
  },
  {
   "cell_type": "code",
   "execution_count": 12,
   "metadata": {},
   "outputs": [
    {
     "data": {
      "text/plain": [
       "Córdoba     56\n",
       "La Pampa     4\n",
       "Salta        3\n",
       "Tucumán      2\n",
       "La Rioja     1\n",
       "Mendoza      1\n",
       "Name: Laboral_Provincia, dtype: int64"
      ]
     },
     "execution_count": 12,
     "metadata": {},
     "output_type": "execute_result"
    }
   ],
   "source": [
    "df_n.Laboral_Provincia.value_counts()"
   ]
  },
  {
   "cell_type": "code",
   "execution_count": 13,
   "metadata": {},
   "outputs": [],
   "source": [
    "\n",
    "df.loc[(df['Laboral_Provincia'] == 'Córdoba') | (df['Laboral_Provincia'] == 'La Pampa') | (df['Laboral_Provincia'] == 'Mendoza'), 'REGION_GESTIONAL'] = 'MEDI'\n",
    "df.loc[(df['Laboral_Provincia'] == 'Tucumán') | (df['Laboral_Provincia'] == 'Salta') | (df['Laboral_Provincia'] == 'La Rioja'), 'REGION_GESTIONAL'] = 'NOA'"
   ]
  },
  {
   "cell_type": "code",
   "execution_count": 14,
   "metadata": {},
   "outputs": [
    {
     "data": {
      "text/plain": [
       "AMBA               13693\n",
       "LITO                4546\n",
       "MEDI                2958\n",
       "NOA                 1137\n",
       "PBA y PATAGONIA      932\n",
       "Name: REGION_GESTIONAL, dtype: int64"
      ]
     },
     "execution_count": 14,
     "metadata": {},
     "output_type": "execute_result"
    }
   ],
   "source": [
    "df.REGION_GESTIONAL.value_counts()"
   ]
  },
  {
   "cell_type": "markdown",
   "metadata": {},
   "source": [
    "# HTRAB"
   ]
  },
  {
   "cell_type": "markdown",
   "metadata": {},
   "source": [
    "##### Modificamos los casos outliers que tenian mal la coma"
   ]
  },
  {
   "cell_type": "code",
   "execution_count": 15,
   "metadata": {},
   "outputs": [],
   "source": [
    "df.htrab = pd.to_numeric(df.htrab, errors='coerce')"
   ]
  },
  {
   "cell_type": "code",
   "execution_count": 16,
   "metadata": {},
   "outputs": [
    {
     "data": {
      "text/plain": [
       "<matplotlib.axes._subplots.AxesSubplot at 0x7f714cd047d0>"
      ]
     },
     "execution_count": 16,
     "metadata": {},
     "output_type": "execute_result"
    },
    {
     "data": {
      "image/png": "[encoded data removed]",
      "text/plain": [
       "<Figure size 432x288 with 1 Axes>"
      ]
     },
     "metadata": {
      "needs_background": "light"
     },
     "output_type": "display_data"
    }
   ],
   "source": [
    "sns.distplot(df.htrab)"
   ]
  },
  {
   "cell_type": "code",
   "execution_count": 17,
   "metadata": {},
   "outputs": [
    {
     "data": {
      "text/plain": [
       "168     7975\n",
       "160     6248\n",
       "150     5106\n",
       "140     1066\n",
       "170      754\n",
       "200      592\n",
       "126      520\n",
       "1365     483\n",
       "84       458\n",
       "176       59\n",
       "132        4\n",
       "120        1\n",
       "Name: htrab, dtype: int64"
      ]
     },
     "execution_count": 17,
     "metadata": {},
     "output_type": "execute_result"
    }
   ],
   "source": [
    "df.htrab.value_counts()"
   ]
  },
  {
   "cell_type": "code",
   "execution_count": 18,
   "metadata": {},
   "outputs": [],
   "source": [
    "df.htrab.replace(1365, 136.5, inplace = True)"
   ]
  },
  {
   "cell_type": "code",
   "execution_count": 19,
   "metadata": {},
   "outputs": [
    {
     "data": {
      "text/plain": [
       "<matplotlib.axes._subplots.AxesSubplot at 0x7f714b952b50>"
      ]
     },
     "execution_count": 19,
     "metadata": {},
     "output_type": "execute_result"
    },
    {
     "data": {
      "image/png": "[encoded data removed]",
      "text/plain": [
       "<Figure size 432x288 with 1 Axes>"
      ]
     },
     "metadata": {
      "needs_background": "light"
     },
     "output_type": "display_data"
    }
   ],
   "source": [
    "sns.distplot(df.htrab)"
   ]
  },
  {
   "cell_type": "markdown",
   "metadata": {},
   "source": [
    "# AREA_GESTIONAL"
   ]
  },
  {
   "cell_type": "markdown",
   "metadata": {},
   "source": [
    "##### En las regiones inextistentes ponemos la region que corresponde"
   ]
  },
  {
   "cell_type": "code",
   "execution_count": 20,
   "metadata": {},
   "outputs": [],
   "source": [
    "df[\"AREA_GESTIONAL\"]= df.apply(lambda x: x['AREA_GESTIONAL'].replace('NORTE', str(x['REGION_GESTIONAL'])), axis=1)\n",
    "df[\"AREA_GESTIONAL\"]= df.apply(lambda x: x['AREA_GESTIONAL'].replace('SUR', str(x['REGION_GESTIONAL'])), axis=1)"
   ]
  },
  {
   "cell_type": "code",
   "execution_count": 21,
   "metadata": {},
   "outputs": [
    {
     "data": {
      "text/html": [
       "<div>\n",
       "<style scoped>\n",
       "    .dataframe tbody tr th:only-of-type {\n",
       "        vertical-align: middle;\n",
       "    }\n",
       "\n",
       "    .dataframe tbody tr th {\n",
       "        vertical-align: top;\n",
       "    }\n",
       "\n",
       "    .dataframe thead th {\n",
       "        text-align: right;\n",
       "    }\n",
       "</style>\n",
       "<table border=\"1\" class=\"dataframe\">\n",
       "  <thead>\n",
       "    <tr style=\"text-align: right;\">\n",
       "      <th></th>\n",
       "      <th>REGION_GESTIONAL</th>\n",
       "      <th>BAJA_NUM</th>\n",
       "      <th>AREA_DE_NEGOCIO</th>\n",
       "      <th>AREA_GESTIONAL</th>\n",
       "      <th>AREA DE NEGOCIO 2</th>\n",
       "      <th>Id_Soc</th>\n",
       "      <th>Posición</th>\n",
       "      <th>Categ</th>\n",
       "      <th>Repr_Gremial</th>\n",
       "      <th>REPRE_GREMIAL II</th>\n",
       "      <th>Clase_de_Contrato</th>\n",
       "      <th>Mes</th>\n",
       "      <th>Año</th>\n",
       "      <th>Fecha_Antig</th>\n",
       "      <th>Antig_Recon</th>\n",
       "      <th>Fecha_Nacim</th>\n",
       "      <th>edad</th>\n",
       "      <th>sexo</th>\n",
       "      <th>Unidad_Organizativa</th>\n",
       "      <th>ENCUADRE</th>\n",
       "      <th>GENERACIÓN</th>\n",
       "      <th>GENERACION_O</th>\n",
       "      <th>GRUPO JERARQUICO</th>\n",
       "      <th>GRUPO JERARQUICO_O</th>\n",
       "      <th>nacionalidad</th>\n",
       "      <th>estado_civil</th>\n",
       "      <th>puesto_sindical</th>\n",
       "      <th>htrab</th>\n",
       "      <th>Gr.prof</th>\n",
       "      <th>gerencia_operativa</th>\n",
       "      <th>PAIS_SOC</th>\n",
       "      <th>DIRECCION</th>\n",
       "      <th>EMPLEADO CON HIJOS Q</th>\n",
       "      <th>COMPA RATIO BAJAS</th>\n",
       "      <th>COMPA RATIO</th>\n",
       "      <th>COMPA RATIO ABD</th>\n",
       "      <th>TIPO BAJA</th>\n",
       "      <th>PERFIL DIGITAL</th>\n",
       "      <th>Función</th>\n",
       "      <th>Categoría del puesto</th>\n",
       "      <th>Agrupador Categorá del puesto</th>\n",
       "      <th>Grupo de personal</th>\n",
       "      <th>Horas laborables semanales</th>\n",
       "      <th>Superior directo_legajo</th>\n",
       "      <th>Superior directo_q reportes</th>\n",
       "      <th>Home_Partido</th>\n",
       "      <th>Home_Provincia</th>\n",
       "      <th>Home_Pais</th>\n",
       "      <th>Laboral_Localidad</th>\n",
       "      <th>Laboral_Provincia</th>\n",
       "      <th>Laboral_Pais</th>\n",
       "      <th>Tipo de estructura</th>\n",
       "      <th>COLABORADORES</th>\n",
       "      <th>LIDERES</th>\n",
       "      <th>nivel_estudios_alcanzado</th>\n",
       "      <th>mensajes_yammer</th>\n",
       "      <th>hijos_menos_cinco</th>\n",
       "      <th>hijos_entre_seis_diez</th>\n",
       "      <th>hijos_entre_once_quince</th>\n",
       "      <th>hijos_entre_dieciseis_veinte</th>\n",
       "      <th>hijos_mas_veinte</th>\n",
       "    </tr>\n",
       "  </thead>\n",
       "  <tbody>\n",
       "    <tr>\n",
       "      <th>0</th>\n",
       "      <td>LITO</td>\n",
       "      <td>0</td>\n",
       "      <td>COO</td>\n",
       "      <td>COO_LITO</td>\n",
       "      <td>COO AREAS COMERCIALES</td>\n",
       "      <td>A001</td>\n",
       "      <td>Atención Presencial Atención Comercial</td>\n",
       "      <td>PC</td>\n",
       "      <td>Dentro de convenio</td>\n",
       "      <td>FATEL</td>\n",
       "      <td>Regular</td>\n",
       "      <td>6</td>\n",
       "      <td>2020</td>\n",
       "      <td>2001-02-16 00:00:00,000</td>\n",
       "      <td>19.0</td>\n",
       "      <td>1974-12-05 00:00:00,000</td>\n",
       "      <td>45.0</td>\n",
       "      <td>Femenino</td>\n",
       "      <td>ROSARIO ROCA 2</td>\n",
       "      <td>DENTRO DE CONVENIO</td>\n",
       "      <td>Generación X</td>\n",
       "      <td>2</td>\n",
       "      <td>COLABORADOR</td>\n",
       "      <td>1</td>\n",
       "      <td>argentina</td>\n",
       "      <td>divorciado/a</td>\n",
       "      <td>NaN</td>\n",
       "      <td>84.0</td>\n",
       "      <td>SITR. M</td>\n",
       "      <td>Region Litoral</td>\n",
       "      <td>ARGENTINA</td>\n",
       "      <td>COO</td>\n",
       "      <td>1.0</td>\n",
       "      <td>NaN</td>\n",
       "      <td>NaN</td>\n",
       "      <td>NaN</td>\n",
       "      <td>NaN</td>\n",
       "      <td>NaN</td>\n",
       "      <td>Atención Presencial</td>\n",
       "      <td>Atención Comercial</td>\n",
       "      <td>Ventas y Atención al Cliente</td>\n",
       "      <td>CONTRIBUIDOR INDIVIDUAL</td>\n",
       "      <td>20.0</td>\n",
       "      <td>527639.0</td>\n",
       "      <td>11</td>\n",
       "      <td>ROSARIO</td>\n",
       "      <td>Santa Fe</td>\n",
       "      <td>Argentina</td>\n",
       "      <td>ROSARIO</td>\n",
       "      <td>Santa Fé</td>\n",
       "      <td>Argentina</td>\n",
       "      <td>Area de Negocio</td>\n",
       "      <td>1</td>\n",
       "      <td>0</td>\n",
       "      <td>3.0</td>\n",
       "      <td>3</td>\n",
       "      <td>1</td>\n",
       "      <td>0</td>\n",
       "      <td>0</td>\n",
       "      <td>0</td>\n",
       "      <td>0</td>\n",
       "    </tr>\n",
       "    <tr>\n",
       "      <th>1</th>\n",
       "      <td>LITO</td>\n",
       "      <td>0</td>\n",
       "      <td>COO</td>\n",
       "      <td>COO_LITO</td>\n",
       "      <td>COO AREAS COMERCIALES</td>\n",
       "      <td>A001</td>\n",
       "      <td>Supervisor/a ROSARIO ROCA 3</td>\n",
       "      <td>F5</td>\n",
       "      <td>Dentro de convenio</td>\n",
       "      <td>FOPSSTA</td>\n",
       "      <td>Regular</td>\n",
       "      <td>6</td>\n",
       "      <td>2020</td>\n",
       "      <td>2003-11-01 00:00:00,000</td>\n",
       "      <td>16.0</td>\n",
       "      <td>1978-07-17 00:00:00,000</td>\n",
       "      <td>41.0</td>\n",
       "      <td>Femenino</td>\n",
       "      <td>ROSARIO ROCA 3</td>\n",
       "      <td>DENTRO DE CONVENIO</td>\n",
       "      <td>Generación X</td>\n",
       "      <td>2</td>\n",
       "      <td>GESTIÓN</td>\n",
       "      <td>2</td>\n",
       "      <td>argentina</td>\n",
       "      <td>casado/a</td>\n",
       "      <td>NaN</td>\n",
       "      <td>160.0</td>\n",
       "      <td>FOPST. M</td>\n",
       "      <td>Region Litoral</td>\n",
       "      <td>ARGENTINA</td>\n",
       "      <td>COO</td>\n",
       "      <td>2.0</td>\n",
       "      <td>NaN</td>\n",
       "      <td>NaN</td>\n",
       "      <td>NaN</td>\n",
       "      <td>NaN</td>\n",
       "      <td>NaN</td>\n",
       "      <td>Supervisor/a</td>\n",
       "      <td>Estructura Operativa</td>\n",
       "      <td>Estructura Operativa</td>\n",
       "      <td>LIDER DE EQUIPO</td>\n",
       "      <td>40.0</td>\n",
       "      <td>201122.0</td>\n",
       "      <td>6</td>\n",
       "      <td>ROSARIO</td>\n",
       "      <td>Santa Fe</td>\n",
       "      <td>Argentina</td>\n",
       "      <td>ROSARIO</td>\n",
       "      <td>Santa Fé</td>\n",
       "      <td>Argentina</td>\n",
       "      <td>Area de Negocio</td>\n",
       "      <td>0</td>\n",
       "      <td>1</td>\n",
       "      <td>3.0</td>\n",
       "      <td>1</td>\n",
       "      <td>0</td>\n",
       "      <td>2</td>\n",
       "      <td>0</td>\n",
       "      <td>0</td>\n",
       "      <td>2</td>\n",
       "    </tr>\n",
       "    <tr>\n",
       "      <th>2</th>\n",
       "      <td>LITO</td>\n",
       "      <td>0</td>\n",
       "      <td>COO</td>\n",
       "      <td>COO_LITO</td>\n",
       "      <td>COO AREAS COMERCIALES</td>\n",
       "      <td>A001</td>\n",
       "      <td>Atención Presencial de Ventas</td>\n",
       "      <td>NC</td>\n",
       "      <td>Dentro de convenio</td>\n",
       "      <td>FATEL</td>\n",
       "      <td>Regular</td>\n",
       "      <td>6</td>\n",
       "      <td>2020</td>\n",
       "      <td>2001-08-01 00:00:00,000</td>\n",
       "      <td>18.0</td>\n",
       "      <td>1973-02-15 00:00:00,000</td>\n",
       "      <td>47.0</td>\n",
       "      <td>Femenino</td>\n",
       "      <td>ROSARIO ROCA 3</td>\n",
       "      <td>DENTRO DE CONVENIO</td>\n",
       "      <td>Generación X</td>\n",
       "      <td>2</td>\n",
       "      <td>COLABORADOR</td>\n",
       "      <td>1</td>\n",
       "      <td>argentina</td>\n",
       "      <td>soltero/a</td>\n",
       "      <td>NaN</td>\n",
       "      <td>84.0</td>\n",
       "      <td>SITR. M</td>\n",
       "      <td>Region Litoral</td>\n",
       "      <td>ARGENTINA</td>\n",
       "      <td>COO</td>\n",
       "      <td>2.0</td>\n",
       "      <td>NaN</td>\n",
       "      <td>NaN</td>\n",
       "      <td>NaN</td>\n",
       "      <td>NaN</td>\n",
       "      <td>NaN</td>\n",
       "      <td>Atención Presencial</td>\n",
       "      <td>Ventas</td>\n",
       "      <td>Ventas y Atención al Cliente</td>\n",
       "      <td>CONTRIBUIDOR INDIVIDUAL</td>\n",
       "      <td>20.0</td>\n",
       "      <td>193030.0</td>\n",
       "      <td>10</td>\n",
       "      <td>ROSARIO</td>\n",
       "      <td>Santa Fe</td>\n",
       "      <td>Argentina</td>\n",
       "      <td>ROSARIO</td>\n",
       "      <td>Santa Fe</td>\n",
       "      <td>Argentina</td>\n",
       "      <td>Area de Negocio</td>\n",
       "      <td>1</td>\n",
       "      <td>0</td>\n",
       "      <td>2.0</td>\n",
       "      <td>0</td>\n",
       "      <td>0</td>\n",
       "      <td>1</td>\n",
       "      <td>1</td>\n",
       "      <td>0</td>\n",
       "      <td>1</td>\n",
       "    </tr>\n",
       "  </tbody>\n",
       "</table>\n",
       "</div>"
      ],
      "text/plain": [
       "  REGION_GESTIONAL  BAJA_NUM AREA_DE_NEGOCIO AREA_GESTIONAL  \\\n",
       "0             LITO         0             COO       COO_LITO   \n",
       "1             LITO         0             COO       COO_LITO   \n",
       "2             LITO         0             COO       COO_LITO   \n",
       "\n",
       "       AREA DE NEGOCIO 2 Id_Soc                                Posición Categ  \\\n",
       "0  COO AREAS COMERCIALES   A001  Atención Presencial Atención Comercial    PC   \n",
       "1  COO AREAS COMERCIALES   A001             Supervisor/a ROSARIO ROCA 3    F5   \n",
       "2  COO AREAS COMERCIALES   A001           Atención Presencial de Ventas    NC   \n",
       "\n",
       "         Repr_Gremial REPRE_GREMIAL II Clase_de_Contrato  Mes   Año  \\\n",
       "0  Dentro de convenio            FATEL           Regular    6  2020   \n",
       "1  Dentro de convenio          FOPSSTA           Regular    6  2020   \n",
       "2  Dentro de convenio            FATEL           Regular    6  2020   \n",
       "\n",
       "               Fecha_Antig  Antig_Recon              Fecha_Nacim  edad  \\\n",
       "0  2001-02-16 00:00:00,000         19.0  1974-12-05 00:00:00,000  45.0   \n",
       "1  2003-11-01 00:00:00,000         16.0  1978-07-17 00:00:00,000  41.0   \n",
       "2  2001-08-01 00:00:00,000         18.0  1973-02-15 00:00:00,000  47.0   \n",
       "\n",
       "       sexo Unidad_Organizativa            ENCUADRE    GENERACIÓN  \\\n",
       "0  Femenino      ROSARIO ROCA 2  DENTRO DE CONVENIO  Generación X   \n",
       "1  Femenino      ROSARIO ROCA 3  DENTRO DE CONVENIO  Generación X   \n",
       "2  Femenino      ROSARIO ROCA 3  DENTRO DE CONVENIO  Generación X   \n",
       "\n",
       "   GENERACION_O GRUPO JERARQUICO  GRUPO JERARQUICO_O nacionalidad  \\\n",
       "0             2      COLABORADOR                   1    argentina   \n",
       "1             2          GESTIÓN                   2    argentina   \n",
       "2             2      COLABORADOR                   1    argentina   \n",
       "\n",
       "   estado_civil puesto_sindical  htrab   Gr.prof gerencia_operativa  \\\n",
       "0  divorciado/a             NaN   84.0   SITR. M     Region Litoral   \n",
       "1      casado/a             NaN  160.0  FOPST. M     Region Litoral   \n",
       "2     soltero/a             NaN   84.0   SITR. M     Region Litoral   \n",
       "\n",
       "    PAIS_SOC DIRECCION  EMPLEADO CON HIJOS Q COMPA RATIO BAJAS COMPA RATIO  \\\n",
       "0  ARGENTINA       COO                   1.0               NaN         NaN   \n",
       "1  ARGENTINA       COO                   2.0               NaN         NaN   \n",
       "2  ARGENTINA       COO                   2.0               NaN         NaN   \n",
       "\n",
       "   COMPA RATIO ABD TIPO BAJA PERFIL DIGITAL              Función  \\\n",
       "0              NaN       NaN            NaN  Atención Presencial   \n",
       "1              NaN       NaN            NaN         Supervisor/a   \n",
       "2              NaN       NaN            NaN  Atención Presencial   \n",
       "\n",
       "   Categoría del puesto Agrupador Categorá del puesto  \\\n",
       "0    Atención Comercial  Ventas y Atención al Cliente   \n",
       "1  Estructura Operativa          Estructura Operativa   \n",
       "2                Ventas  Ventas y Atención al Cliente   \n",
       "\n",
       "         Grupo de personal  Horas laborables semanales  \\\n",
       "0  CONTRIBUIDOR INDIVIDUAL                        20.0   \n",
       "1          LIDER DE EQUIPO                        40.0   \n",
       "2  CONTRIBUIDOR INDIVIDUAL                        20.0   \n",
       "\n",
       "   Superior directo_legajo  Superior directo_q reportes Home_Partido  \\\n",
       "0                 527639.0                           11      ROSARIO   \n",
       "1                 201122.0                            6      ROSARIO   \n",
       "2                 193030.0                           10      ROSARIO   \n",
       "\n",
       "  Home_Provincia  Home_Pais Laboral_Localidad Laboral_Provincia Laboral_Pais  \\\n",
       "0       Santa Fe  Argentina           ROSARIO          Santa Fé    Argentina   \n",
       "1       Santa Fe  Argentina           ROSARIO          Santa Fé    Argentina   \n",
       "2       Santa Fe  Argentina           ROSARIO          Santa Fe    Argentina   \n",
       "\n",
       "  Tipo de estructura  COLABORADORES  LIDERES  nivel_estudios_alcanzado  \\\n",
       "0    Area de Negocio              1        0                       3.0   \n",
       "1    Area de Negocio              0        1                       3.0   \n",
       "2    Area de Negocio              1        0                       2.0   \n",
       "\n",
       "   mensajes_yammer  hijos_menos_cinco  hijos_entre_seis_diez  \\\n",
       "0                3                  1                      0   \n",
       "1                1                  0                      2   \n",
       "2                0                  0                      1   \n",
       "\n",
       "   hijos_entre_once_quince  hijos_entre_dieciseis_veinte  hijos_mas_veinte  \n",
       "0                        0                             0                 0  \n",
       "1                        0                             0                 2  \n",
       "2                        1                             0                 1  "
      ]
     },
     "execution_count": 21,
     "metadata": {},
     "output_type": "execute_result"
    }
   ],
   "source": [
    "df.head(3)"
   ]
  },
  {
   "cell_type": "markdown",
   "metadata": {},
   "source": [
    "# PUESTO SINDICAL"
   ]
  },
  {
   "cell_type": "markdown",
   "metadata": {},
   "source": [
    "Completamos los nulos con “Sin puesto”"
   ]
  },
  {
   "cell_type": "code",
   "execution_count": 25,
   "metadata": {},
   "outputs": [
    {
     "data": {
      "text/plain": [
       "23249"
      ]
     },
     "execution_count": 25,
     "metadata": {},
     "output_type": "execute_result"
    }
   ],
   "source": [
    "df['puesto_sindical'].isnull().sum()"
   ]
  },
  {
   "cell_type": "code",
   "execution_count": 46,
   "metadata": {},
   "outputs": [
    {
     "data": {
      "text/plain": [
       "0"
      ]
     },
     "execution_count": 46,
     "metadata": {},
     "output_type": "execute_result"
    }
   ],
   "source": [
    "df['puesto_sindical_ok'] = df['puesto_sindical'].fillna('Sin puesto')\n",
    "df['puesto_sindical_ok'].isnull().sum()"
   ]
  },
  {
   "cell_type": "code",
   "execution_count": 49,
   "metadata": {},
   "outputs": [
    {
     "data": {
      "text/plain": [
       "array(['Sin puesto', 'Candidato no Electo', 'Vocal Titular',\n",
       "       'Delegado Personal', 'Congresal Suplente', 'Delegado Edificio',\n",
       "       'Revisor Cuentas Titular', 'Vocal suplente', 'Delegado Paritario',\n",
       "       'Secretario Administrativo', 'Secretario/a Prensa y Difusión',\n",
       "       'Delegado Congresal Titular', 'Secretario de Actas',\n",
       "       'Secretario de Asuntos Gremial', 'Delegado Titular a la C.G.T.'],\n",
       "      dtype=object)"
      ]
     },
     "execution_count": 49,
     "metadata": {},
     "output_type": "execute_result"
    }
   ],
   "source": [
    "df['puesto_sindical_ok'].unique()"
   ]
  },
  {
   "cell_type": "markdown",
   "metadata": {},
   "source": [
    "# TIPO BAJA"
   ]
  },
  {
   "cell_type": "code",
   "execution_count": 47,
   "metadata": {},
   "outputs": [
    {
     "data": {
      "text/plain": [
       "22861"
      ]
     },
     "execution_count": 47,
     "metadata": {},
     "output_type": "execute_result"
    }
   ],
   "source": [
    "df['TIPO BAJA'].isnull().sum()"
   ]
  },
  {
   "cell_type": "code",
   "execution_count": 51,
   "metadata": {},
   "outputs": [
    {
     "data": {
      "text/plain": [
       "0"
      ]
     },
     "execution_count": 51,
     "metadata": {},
     "output_type": "execute_result"
    }
   ],
   "source": [
    "df['TIPO BAJA OK'] = df['TIPO BAJA'].fillna('ACTIVO')\n",
    "df['TIPO BAJA OK'].isnull().sum()"
   ]
  },
  {
   "cell_type": "code",
   "execution_count": 52,
   "metadata": {},
   "outputs": [
    {
     "data": {
      "text/plain": [
       "array(['ACTIVO', 'NO VOLUNTARIO', 'VOLUNTARIO'], dtype=object)"
      ]
     },
     "execution_count": 52,
     "metadata": {},
     "output_type": "execute_result"
    }
   ],
   "source": [
    "df['TIPO BAJA OK'].unique()"
   ]
  },
  {
   "cell_type": "markdown",
   "metadata": {},
   "source": [
    "# PERFIL DIGITAL"
   ]
  },
  {
   "cell_type": "code",
   "execution_count": 54,
   "metadata": {},
   "outputs": [
    {
     "data": {
      "text/plain": [
       "22504"
      ]
     },
     "execution_count": 54,
     "metadata": {},
     "output_type": "execute_result"
    }
   ],
   "source": [
    "df['PERFIL DIGITAL'].isnull().sum()"
   ]
  },
  {
   "cell_type": "code",
   "execution_count": 55,
   "metadata": {},
   "outputs": [
    {
     "data": {
      "text/plain": [
       "0"
      ]
     },
     "execution_count": 55,
     "metadata": {},
     "output_type": "execute_result"
    }
   ],
   "source": [
    "df['PERFIL DIGITAL OK'] = df['PERFIL DIGITAL'].fillna('SIN PERFIL DIGITAL')\n",
    "df['PERFIL DIGITAL OK'].isnull().sum()"
   ]
  },
  {
   "cell_type": "code",
   "execution_count": 56,
   "metadata": {},
   "outputs": [
    {
     "data": {
      "text/plain": [
       "array(['SIN PERFIL DIGITAL', 'PERFIL DIGITAL'], dtype=object)"
      ]
     },
     "execution_count": 56,
     "metadata": {},
     "output_type": "execute_result"
    }
   ],
   "source": [
    "df['PERFIL DIGITAL OK'].unique()"
   ]
  },
  {
   "cell_type": "markdown",
   "metadata": {},
   "source": [
    "# COMPA RATIO ABD"
   ]
  },
  {
   "cell_type": "code",
   "execution_count": 58,
   "metadata": {},
   "outputs": [
    {
     "data": {
      "text/plain": [
       "17705"
      ]
     },
     "execution_count": 58,
     "metadata": {},
     "output_type": "execute_result"
    }
   ],
   "source": [
    "df['COMPA RATIO ABD'].isnull().sum()"
   ]
  },
  {
   "cell_type": "code",
   "execution_count": 59,
   "metadata": {},
   "outputs": [
    {
     "data": {
      "text/plain": [
       "0"
      ]
     },
     "execution_count": 59,
     "metadata": {},
     "output_type": "execute_result"
    }
   ],
   "source": [
    "df['COMPA RATIO ABD OK'] = df['COMPA RATIO ABD'].fillna(100)\n",
    "df['COMPA RATIO ABD OK'].isnull().sum()"
   ]
  },
  {
   "cell_type": "code",
   "execution_count": 64,
   "metadata": {},
   "outputs": [
    {
     "data": {
      "text/plain": [
       "array([100.,  98., 102., 111.,  91.,  88.,  93.,  92.,  94.,  85.,  99.,\n",
       "        79.,  95.,  75.,  68.,  96., 123.,  90., 109.,  83., 135., 131.,\n",
       "        86., 126.,  80., 117., 107., 143., 130.,  58.,  89., 120., 125.,\n",
       "       124., 144., 122., 114.,  84., 104., 140., 134., 101., 119., 121.,\n",
       "        74., 112., 116.,  69.,  87., 141.,  78., 167., 108., 105., 110.,\n",
       "       115.,  97.,  77., 142.,  81.,  73., 155., 136., 129., 113., 106.,\n",
       "       149., 137.,  82.,  70., 103.,  71.,  76., 118.,  72.,  66.,  59.,\n",
       "        56.,  61., 127.,  65.,  67., 133., 166., 150., 139., 128., 147.,\n",
       "       152., 164., 132., 138., 146.,  53., 154., 163., 161., 145., 157.,\n",
       "        63.,  51., 158., 190., 208., 175., 148.,  64., 153., 173., 181.,\n",
       "       179., 213., 165.,  49., 180.,  62.,  54.,  46., 211.,  60., 156.,\n",
       "       159., 177., 433., 473.,  11., 199., 185., 168., 169., 218., 195.,\n",
       "       160., 151., 174., 162., 184.,  20., 178., 210.,  57.,  55.,  48.,\n",
       "       171.])"
      ]
     },
     "execution_count": 64,
     "metadata": {},
     "output_type": "execute_result"
    }
   ],
   "source": [
    "df['COMPA RATIO ABD OK'].unique()"
   ]
  },
  {
   "cell_type": "code",
   "execution_count": 75,
   "metadata": {},
   "outputs": [
    {
     "data": {
      "text/plain": [
       "<matplotlib.axes._subplots.AxesSubplot at 0x7f7148b1da50>"
      ]
     },
     "execution_count": 75,
     "metadata": {},
     "output_type": "execute_result"
    },
    {
     "data": {
      "image/png": "[encoded data removed]",
      "text/plain": [
       "<Figure size 432x288 with 1 Axes>"
      ]
     },
     "metadata": {
      "needs_background": "light"
     },
     "output_type": "display_data"
    }
   ],
   "source": [
    "sns.distplot(df['COMPA RATIO ABD OK'], kde = 0, vertical =True )"
   ]
  },
  {
   "cell_type": "markdown",
   "metadata": {},
   "source": [
    "# ELIMINAMOS LAS COLUMNAS QUE NO NOS IMPORTAN"
   ]
  },
  {
   "cell_type": "code",
   "execution_count": null,
   "metadata": {},
   "outputs": [],
   "source": [
    "df = df.drop(['AREA DE NEGOCIO 2', 'Clase_de_Contrato', 'GENERACIÓN', 'GRUPO JERARQUICO', 'EMPLEADO CON HIJOS Q',\\\n",
    "             'COMPA RATIO BAJAS', 'COMPA RATIO', 'Horas laborables semanales', 'Home_Partido'], axis = 1)"
   ]
  },
  {
   "cell_type": "code",
   "execution_count": null,
   "metadata": {},
   "outputs": [],
   "source": []
  },
  {
   "cell_type": "code",
   "execution_count": null,
   "metadata": {},
   "outputs": [],
   "source": []
  },
  {
   "cell_type": "code",
   "execution_count": null,
   "metadata": {},
   "outputs": [],
   "source": []
  },
  {
   "cell_type": "code",
   "execution_count": null,
   "metadata": {},
   "outputs": [],
   "source": []
  },
  {
   "cell_type": "code",
   "execution_count": null,
   "metadata": {},
   "outputs": [],
   "source": []
  },
  {
   "cell_type": "code",
   "execution_count": null,
   "metadata": {},
   "outputs": [],
   "source": []
  },
  {
   "cell_type": "code",
   "execution_count": null,
   "metadata": {},
   "outputs": [],
   "source": [
    "# Revisiar colinealidad (matriz de correlacion)\n",
    "# Revisar existencia de outliers\n",
    "# Estadistica descriptiva\n",
    "# Dummies\n",
    "# Standard scaler\n",
    "# Solucionar desbalanceo\n",
    "# Feature importance\n",
    "# Implementar modelos\n"
   ]
  },
  {
   "cell_type": "code",
   "execution_count": null,
   "metadata": {},
   "outputs": [],
   "source": []
  },
  {
   "cell_type": "code",
   "execution_count": null,
   "metadata": {},
   "outputs": [],
   "source": []
  }
 ],
 "metadata": {
  "kernelspec": {
   "display_name": "Python 3",
   "language": "python",
   "name": "python3"
  },
  "language_info": {
   "codemirror_mode": {
    "name": "ipython",
    "version": 3
   },
   "file_extension": ".py",
   "mimetype": "text/x-python",
   "name": "python",
   "nbconvert_exporter": "python",
   "pygments_lexer": "ipython3",
   "version": "3.7.7"
  }
 },
 "nbformat": 4,
 "nbformat_minor": 4
}
