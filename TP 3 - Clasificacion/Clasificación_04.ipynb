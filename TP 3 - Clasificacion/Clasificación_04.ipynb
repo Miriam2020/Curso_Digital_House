{
 "cells": [
  {
   "cell_type": "code",
   "execution_count": 67,
   "metadata": {},
   "outputs": [
    {
     "name": "stderr",
     "output_type": "stream",
     "text": [
      "ERROR:root:File `'common/0_notebooks_base_setup.py'` not found.\n"
     ]
    }
   ],
   "source": [
    "# initial setup\n",
    "try:\n",
    "    # settings colab:\n",
    "    import google.colab\n",
    "    \n",
    "except ModuleNotFoundError:    \n",
    "    # settings local:\n",
    "    %run \"common/0_notebooks_base_setup.py\""
   ]
  },
  {
   "cell_type": "code",
   "execution_count": 68,
   "metadata": {},
   "outputs": [],
   "source": [
    "import pandas as pd\n",
    "import numpy as np\n",
    "import seaborn as sns\n",
    "from matplotlib.colors import ListedColormap\n",
    "import matplotlib.pyplot as plt\n",
    "%matplotlib inline"
   ]
  },
  {
   "cell_type": "code",
   "execution_count": 69,
   "metadata": {},
   "outputs": [],
   "source": [
    "from sklearn.model_selection import train_test_split\n",
    "from sklearn.neighbors import KNeighborsClassifier\n",
    "from sklearn.metrics import accuracy_score"
   ]
  },
  {
   "cell_type": "code",
   "execution_count": 70,
   "metadata": {},
   "outputs": [],
   "source": [
    "df = pd.read_csv('Data/COMERCIOS.TXT', sep='\\t')"
   ]
  },
  {
   "cell_type": "code",
   "execution_count": 71,
   "metadata": {},
   "outputs": [
    {
     "name": "stdout",
     "output_type": "stream",
     "text": [
      "<class 'pandas.core.frame.DataFrame'>\n",
      "RangeIndex: 26082 entries, 0 to 26081\n",
      "Data columns (total 23 columns):\n",
      " #   Column                         Non-Null Count  Dtype  \n",
      "---  ------                         --------------  -----  \n",
      " 0   PERIODO                        26082 non-null  object \n",
      " 1   ID_ZONA                        26082 non-null  int64  \n",
      " 2   RUBRO                          26082 non-null  object \n",
      " 3   NIVEL_RIESGO                   26082 non-null  int64  \n",
      " 4   APERTURAS                      26082 non-null  float64\n",
      " 5   CIERRES                        26082 non-null  float64\n",
      " 6   SUPERVIVENCIA                  21473 non-null  float64\n",
      " 7   PROMEDIO_VENTAS                26082 non-null  int64  \n",
      " 8   NIVEL_CRECIMIENTO              23184 non-null  float64\n",
      " 9   NIVEL_ESTABILIDAD              24843 non-null  float64\n",
      " 10  CANTIDAD_LOCALES               26082 non-null  int64  \n",
      " 11  SUPERV_MENOS_1                 26082 non-null  float64\n",
      " 12  SUPERV_ENTRE_1_Y_2             26082 non-null  float64\n",
      " 13  SUPERV_ENTRE_2_Y_3             26082 non-null  float64\n",
      " 14  SUPERV_ENTRE_3_Y_4             26082 non-null  float64\n",
      " 15  SUPERV_ENTRE_4_Y_5             26082 non-null  float64\n",
      " 16  SUPERV_MAS_5                   26082 non-null  float64\n",
      " 17  ANIO_ANTERIOR                  17388 non-null  float64\n",
      " 18  PROMEDIO_VENTAS_ANIO_ANTERIOR  17388 non-null  float64\n",
      " 19  APERTURAS_ANIO_ANTERIOR        17388 non-null  float64\n",
      " 20  CIERRES_ANIO_ANTERIOR          17388 non-null  float64\n",
      " 21  TENDENCIA_APERTURAS            17388 non-null  float64\n",
      " 22  TENDENCIA_CIERRES              17388 non-null  float64\n",
      "dtypes: float64(17), int64(4), object(2)\n",
      "memory usage: 4.6+ MB\n"
     ]
    }
   ],
   "source": [
    "df.info()"
   ]
  },
  {
   "cell_type": "code",
   "execution_count": 72,
   "metadata": {},
   "outputs": [
    {
     "data": {
      "text/plain": [
       "array(['PERIODO', 'ID_ZONA', 'RUBRO', 'NIVEL_RIESGO', 'APERTURAS',\n",
       "       'CIERRES', 'SUPERVIVENCIA', 'PROMEDIO_VENTAS', 'NIVEL_CRECIMIENTO',\n",
       "       'NIVEL_ESTABILIDAD', 'CANTIDAD_LOCALES', 'SUPERV_MENOS_1',\n",
       "       'SUPERV_ENTRE_1_Y_2', 'SUPERV_ENTRE_2_Y_3', 'SUPERV_ENTRE_3_Y_4',\n",
       "       'SUPERV_ENTRE_4_Y_5', 'SUPERV_MAS_5', 'ANIO_ANTERIOR',\n",
       "       'PROMEDIO_VENTAS_ANIO_ANTERIOR', 'APERTURAS_ANIO_ANTERIOR',\n",
       "       'CIERRES_ANIO_ANTERIOR', 'TENDENCIA_APERTURAS',\n",
       "       'TENDENCIA_CIERRES'], dtype=object)"
      ]
     },
     "execution_count": 72,
     "metadata": {},
     "output_type": "execute_result"
    }
   ],
   "source": [
    "df.columns.values"
   ]
  },
  {
   "cell_type": "code",
   "execution_count": 73,
   "metadata": {},
   "outputs": [],
   "source": [
    "df = df[['PERIODO', 'ID_ZONA', 'RUBRO', 'NIVEL_RIESGO', 'APERTURAS',\n",
    "       'CIERRES', 'SUPERVIVENCIA', 'PROMEDIO_VENTAS', 'CANTIDAD_LOCALES', 'SUPERV_MENOS_1',\n",
    "       'SUPERV_ENTRE_1_Y_2', 'SUPERV_ENTRE_2_Y_3', 'SUPERV_ENTRE_3_Y_4',\n",
    "       'SUPERV_ENTRE_4_Y_5', 'SUPERV_MAS_5']]"
   ]
  },
  {
   "cell_type": "code",
   "execution_count": 74,
   "metadata": {},
   "outputs": [
    {
     "name": "stdout",
     "output_type": "stream",
     "text": [
      "<class 'pandas.core.frame.DataFrame'>\n",
      "RangeIndex: 26082 entries, 0 to 26081\n",
      "Data columns (total 15 columns):\n",
      " #   Column              Non-Null Count  Dtype  \n",
      "---  ------              --------------  -----  \n",
      " 0   PERIODO             26082 non-null  object \n",
      " 1   ID_ZONA             26082 non-null  int64  \n",
      " 2   RUBRO               26082 non-null  object \n",
      " 3   NIVEL_RIESGO        26082 non-null  int64  \n",
      " 4   APERTURAS           26082 non-null  float64\n",
      " 5   CIERRES             26082 non-null  float64\n",
      " 6   SUPERVIVENCIA       21473 non-null  float64\n",
      " 7   PROMEDIO_VENTAS     26082 non-null  int64  \n",
      " 8   CANTIDAD_LOCALES    26082 non-null  int64  \n",
      " 9   SUPERV_MENOS_1      26082 non-null  float64\n",
      " 10  SUPERV_ENTRE_1_Y_2  26082 non-null  float64\n",
      " 11  SUPERV_ENTRE_2_Y_3  26082 non-null  float64\n",
      " 12  SUPERV_ENTRE_3_Y_4  26082 non-null  float64\n",
      " 13  SUPERV_ENTRE_4_Y_5  26082 non-null  float64\n",
      " 14  SUPERV_MAS_5        26082 non-null  float64\n",
      "dtypes: float64(9), int64(4), object(2)\n",
      "memory usage: 3.0+ MB\n"
     ]
    }
   ],
   "source": [
    "df.info()"
   ]
  },
  {
   "cell_type": "code",
   "execution_count": 75,
   "metadata": {},
   "outputs": [],
   "source": [
    "df.dropna(inplace=True)"
   ]
  },
  {
   "cell_type": "code",
   "execution_count": 76,
   "metadata": {},
   "outputs": [
    {
     "data": {
      "text/plain": [
       "PERIODO               0\n",
       "ID_ZONA               0\n",
       "RUBRO                 0\n",
       "NIVEL_RIESGO          0\n",
       "APERTURAS             0\n",
       "CIERRES               0\n",
       "SUPERVIVENCIA         0\n",
       "PROMEDIO_VENTAS       0\n",
       "CANTIDAD_LOCALES      0\n",
       "SUPERV_MENOS_1        0\n",
       "SUPERV_ENTRE_1_Y_2    0\n",
       "SUPERV_ENTRE_2_Y_3    0\n",
       "SUPERV_ENTRE_3_Y_4    0\n",
       "SUPERV_ENTRE_4_Y_5    0\n",
       "SUPERV_MAS_5          0\n",
       "dtype: int64"
      ]
     },
     "execution_count": 76,
     "metadata": {},
     "output_type": "execute_result"
    }
   ],
   "source": [
    "df.isnull().sum()"
   ]
  },
  {
   "cell_type": "code",
   "execution_count": 77,
   "metadata": {},
   "outputs": [
    {
     "name": "stdout",
     "output_type": "stream",
     "text": [
      "<class 'pandas.core.frame.DataFrame'>\n",
      "Int64Index: 21473 entries, 0 to 26081\n",
      "Data columns (total 15 columns):\n",
      " #   Column              Non-Null Count  Dtype  \n",
      "---  ------              --------------  -----  \n",
      " 0   PERIODO             21473 non-null  object \n",
      " 1   ID_ZONA             21473 non-null  int64  \n",
      " 2   RUBRO               21473 non-null  object \n",
      " 3   NIVEL_RIESGO        21473 non-null  int64  \n",
      " 4   APERTURAS           21473 non-null  float64\n",
      " 5   CIERRES             21473 non-null  float64\n",
      " 6   SUPERVIVENCIA       21473 non-null  float64\n",
      " 7   PROMEDIO_VENTAS     21473 non-null  int64  \n",
      " 8   CANTIDAD_LOCALES    21473 non-null  int64  \n",
      " 9   SUPERV_MENOS_1      21473 non-null  float64\n",
      " 10  SUPERV_ENTRE_1_Y_2  21473 non-null  float64\n",
      " 11  SUPERV_ENTRE_2_Y_3  21473 non-null  float64\n",
      " 12  SUPERV_ENTRE_3_Y_4  21473 non-null  float64\n",
      " 13  SUPERV_ENTRE_4_Y_5  21473 non-null  float64\n",
      " 14  SUPERV_MAS_5        21473 non-null  float64\n",
      "dtypes: float64(9), int64(4), object(2)\n",
      "memory usage: 2.6+ MB\n"
     ]
    }
   ],
   "source": [
    "df.info()"
   ]
  },
  {
   "cell_type": "code",
   "execution_count": 78,
   "metadata": {},
   "outputs": [
    {
     "data": {
      "text/plain": [
       "1    8186\n",
       "2    7285\n",
       "3    4338\n",
       "4    1451\n",
       "5     213\n",
       "Name: NIVEL_RIESGO, dtype: int64"
      ]
     },
     "execution_count": 78,
     "metadata": {},
     "output_type": "execute_result"
    }
   ],
   "source": [
    "df['NIVEL_RIESGO'].value_counts()"
   ]
  },
  {
   "cell_type": "code",
   "execution_count": 79,
   "metadata": {},
   "outputs": [],
   "source": [
    "df[(df.NIVEL_RIESGO == 4) | (df.NIVEL_RIESGO == 5)] = 3"
   ]
  },
  {
   "cell_type": "code",
   "execution_count": 80,
   "metadata": {},
   "outputs": [
    {
     "data": {
      "text/plain": [
       "1    8186\n",
       "2    7285\n",
       "3    6002\n",
       "Name: NIVEL_RIESGO, dtype: int64"
      ]
     },
     "execution_count": 80,
     "metadata": {},
     "output_type": "execute_result"
    }
   ],
   "source": [
    "df['NIVEL_RIESGO'].value_counts()"
   ]
  },
  {
   "cell_type": "code",
   "execution_count": 81,
   "metadata": {},
   "outputs": [
    {
     "data": {
      "image/png": "[encoded data removed]",
      "text/plain": [
       "<Figure size 432x288 with 2 Axes>"
      ]
     },
     "metadata": {
      "needs_background": "light"
     },
     "output_type": "display_data"
    }
   ],
   "source": [
    "sns.heatmap(df.corr(), center=0, cmap=\"YlGnBu\", annot=False);"
   ]
  },
  {
   "cell_type": "code",
   "execution_count": 82,
   "metadata": {},
   "outputs": [
    {
     "data": {
      "text/html": [
       "<div>\n",
       "<style scoped>\n",
       "    .dataframe tbody tr th:only-of-type {\n",
       "        vertical-align: middle;\n",
       "    }\n",
       "\n",
       "    .dataframe tbody tr th {\n",
       "        vertical-align: top;\n",
       "    }\n",
       "\n",
       "    .dataframe thead th {\n",
       "        text-align: right;\n",
       "    }\n",
       "</style>\n",
       "<table border=\"1\" class=\"dataframe\">\n",
       "  <thead>\n",
       "    <tr style=\"text-align: right;\">\n",
       "      <th></th>\n",
       "      <th>PERIODO</th>\n",
       "      <th>ID_ZONA</th>\n",
       "      <th>RUBRO</th>\n",
       "      <th>NIVEL_RIESGO</th>\n",
       "      <th>APERTURAS</th>\n",
       "      <th>CIERRES</th>\n",
       "      <th>SUPERVIVENCIA</th>\n",
       "      <th>PROMEDIO_VENTAS</th>\n",
       "      <th>CANTIDAD_LOCALES</th>\n",
       "      <th>SUPERV_MENOS_1</th>\n",
       "      <th>SUPERV_ENTRE_1_Y_2</th>\n",
       "      <th>SUPERV_ENTRE_2_Y_3</th>\n",
       "      <th>SUPERV_ENTRE_3_Y_4</th>\n",
       "      <th>SUPERV_ENTRE_4_Y_5</th>\n",
       "      <th>SUPERV_MAS_5</th>\n",
       "    </tr>\n",
       "  </thead>\n",
       "  <tbody>\n",
       "    <tr>\n",
       "      <th>0</th>\n",
       "      <td>Enero - Abril 2016</td>\n",
       "      <td>1</td>\n",
       "      <td>Bares y Cafés</td>\n",
       "      <td>2</td>\n",
       "      <td>0.00</td>\n",
       "      <td>0.0</td>\n",
       "      <td>0.00</td>\n",
       "      <td>1</td>\n",
       "      <td>2</td>\n",
       "      <td>0.00</td>\n",
       "      <td>100.00</td>\n",
       "      <td>0.00</td>\n",
       "      <td>0.00</td>\n",
       "      <td>0.00</td>\n",
       "      <td>0.00</td>\n",
       "    </tr>\n",
       "    <tr>\n",
       "      <th>1</th>\n",
       "      <td>Enero - Abril 2016</td>\n",
       "      <td>1</td>\n",
       "      <td>Carnes y Verduras</td>\n",
       "      <td>1</td>\n",
       "      <td>3.57</td>\n",
       "      <td>0.0</td>\n",
       "      <td>100.00</td>\n",
       "      <td>3</td>\n",
       "      <td>1</td>\n",
       "      <td>3.57</td>\n",
       "      <td>0.00</td>\n",
       "      <td>0.00</td>\n",
       "      <td>0.00</td>\n",
       "      <td>21.43</td>\n",
       "      <td>75.00</td>\n",
       "    </tr>\n",
       "    <tr>\n",
       "      <th>2</th>\n",
       "      <td>Enero - Abril 2016</td>\n",
       "      <td>1</td>\n",
       "      <td>Comida al Paso</td>\n",
       "      <td>2</td>\n",
       "      <td>2.56</td>\n",
       "      <td>0.0</td>\n",
       "      <td>58.82</td>\n",
       "      <td>3</td>\n",
       "      <td>2</td>\n",
       "      <td>5.13</td>\n",
       "      <td>7.69</td>\n",
       "      <td>10.26</td>\n",
       "      <td>5.13</td>\n",
       "      <td>10.26</td>\n",
       "      <td>61.54</td>\n",
       "    </tr>\n",
       "  </tbody>\n",
       "</table>\n",
       "</div>"
      ],
      "text/plain": [
       "              PERIODO  ID_ZONA              RUBRO  NIVEL_RIESGO  APERTURAS  \\\n",
       "0  Enero - Abril 2016        1      Bares y Cafés             2       0.00   \n",
       "1  Enero - Abril 2016        1  Carnes y Verduras             1       3.57   \n",
       "2  Enero - Abril 2016        1     Comida al Paso             2       2.56   \n",
       "\n",
       "   CIERRES  SUPERVIVENCIA  PROMEDIO_VENTAS  CANTIDAD_LOCALES  SUPERV_MENOS_1  \\\n",
       "0      0.0           0.00                1                 2            0.00   \n",
       "1      0.0         100.00                3                 1            3.57   \n",
       "2      0.0          58.82                3                 2            5.13   \n",
       "\n",
       "   SUPERV_ENTRE_1_Y_2  SUPERV_ENTRE_2_Y_3  SUPERV_ENTRE_3_Y_4  \\\n",
       "0              100.00                0.00                0.00   \n",
       "1                0.00                0.00                0.00   \n",
       "2                7.69               10.26                5.13   \n",
       "\n",
       "   SUPERV_ENTRE_4_Y_5  SUPERV_MAS_5  \n",
       "0                0.00          0.00  \n",
       "1               21.43         75.00  \n",
       "2               10.26         61.54  "
      ]
     },
     "execution_count": 82,
     "metadata": {},
     "output_type": "execute_result"
    }
   ],
   "source": [
    "df.head(3)"
   ]
  },
  {
   "cell_type": "code",
   "execution_count": 83,
   "metadata": {},
   "outputs": [],
   "source": [
    "predecir = ['NIVEL_RIESGO']\n",
    "features = ['ID_ZONA', 'RUBRO', 'APERTURAS',\n",
    "       'CIERRES', 'SUPERVIVENCIA', 'PROMEDIO_VENTAS', 'CANTIDAD_LOCALES', 'SUPERV_MENOS_1',\n",
    "       'SUPERV_ENTRE_1_Y_2', 'SUPERV_ENTRE_2_Y_3', 'SUPERV_ENTRE_3_Y_4',\n",
    "       'SUPERV_ENTRE_4_Y_5', 'SUPERV_MAS_5']"
   ]
  },
  {
   "cell_type": "code",
   "execution_count": 84,
   "metadata": {},
   "outputs": [],
   "source": [
    "df['ID_ZONA'] = df['ID_ZONA'].astype(str)"
   ]
  },
  {
   "cell_type": "code",
   "execution_count": 85,
   "metadata": {},
   "outputs": [],
   "source": [
    "df_final = pd.get_dummies(df[features], columns=['ID_ZONA', 'RUBRO'], drop_first=True)"
   ]
  },
  {
   "cell_type": "code",
   "execution_count": 86,
   "metadata": {},
   "outputs": [],
   "source": [
    "X = df_final\n",
    "y = df[predecir]"
   ]
  },
  {
   "cell_type": "code",
   "execution_count": 87,
   "metadata": {},
   "outputs": [],
   "source": [
    "X_train, X_test, y_train, y_test = train_test_split(X, y, stratify=y, random_state = 0)"
   ]
  },
  {
   "cell_type": "code",
   "execution_count": 88,
   "metadata": {},
   "outputs": [],
   "source": [
    "from sklearn.preprocessing import StandardScaler\n",
    "scaler = StandardScaler()\n",
    "X_train_std = scaler.fit_transform(X_train)\n",
    "X_test_std = scaler.transform(X_test)"
   ]
  },
  {
   "cell_type": "code",
   "execution_count": 89,
   "metadata": {},
   "outputs": [
    {
     "data": {
      "text/plain": [
       "(16104, 189)"
      ]
     },
     "execution_count": 89,
     "metadata": {},
     "output_type": "execute_result"
    }
   ],
   "source": [
    "X_train.shape"
   ]
  },
  {
   "cell_type": "code",
   "execution_count": 90,
   "metadata": {},
   "outputs": [
    {
     "data": {
      "text/plain": [
       "(16104, 1)"
      ]
     },
     "execution_count": 90,
     "metadata": {},
     "output_type": "execute_result"
    }
   ],
   "source": [
    "y_train.shape"
   ]
  },
  {
   "cell_type": "markdown",
   "metadata": {},
   "source": [
    "### LogisticRegression"
   ]
  },
  {
   "cell_type": "code",
   "execution_count": 91,
   "metadata": {},
   "outputs": [],
   "source": [
    "from sklearn.linear_model import LogisticRegression\n",
    "logistic_regression = LogisticRegression(solver='newton-cg')"
   ]
  },
  {
   "cell_type": "code",
   "execution_count": 92,
   "metadata": {},
   "outputs": [
    {
     "data": {
      "text/plain": [
       "LogisticRegression(C=1.0, class_weight=None, dual=False, fit_intercept=True,\n",
       "                   intercept_scaling=1, l1_ratio=None, max_iter=100,\n",
       "                   multi_class='auto', n_jobs=None, penalty='l2',\n",
       "                   random_state=None, solver='newton-cg', tol=0.0001, verbose=0,\n",
       "                   warm_start=False)"
      ]
     },
     "execution_count": 92,
     "metadata": {},
     "output_type": "execute_result"
    }
   ],
   "source": [
    "logistic_regression.fit(X_train_std, y_train.values.reshape(-1))"
   ]
  },
  {
   "cell_type": "code",
   "execution_count": 93,
   "metadata": {},
   "outputs": [],
   "source": [
    "y_pred_test = logistic_regression.predict(X_test_std)"
   ]
  },
  {
   "cell_type": "code",
   "execution_count": 94,
   "metadata": {},
   "outputs": [
    {
     "data": {
      "text/plain": [
       "0.9735518718569566"
      ]
     },
     "execution_count": 94,
     "metadata": {},
     "output_type": "execute_result"
    }
   ],
   "source": [
    "from sklearn.metrics import accuracy_score\n",
    "accuracy_score(y_test, y_pred_test)"
   ]
  },
  {
   "cell_type": "code",
   "execution_count": 95,
   "metadata": {},
   "outputs": [
    {
     "data": {
      "text/plain": [
       "<matplotlib.axes._subplots.AxesSubplot at 0x7febe8173950>"
      ]
     },
     "execution_count": 95,
     "metadata": {},
     "output_type": "execute_result"
    },
    {
     "data": {
      "image/png": "[encoded data removed]",
      "text/plain": [
       "<Figure size 432x288 with 2 Axes>"
      ]
     },
     "metadata": {
      "needs_background": "light"
     },
     "output_type": "display_data"
    }
   ],
   "source": [
    "from sklearn.metrics import confusion_matrix\n",
    "sns.heatmap(confusion_matrix(y_test, y_pred_test), annot=True, fmt='.0f')"
   ]
  },
  {
   "cell_type": "code",
   "execution_count": 96,
   "metadata": {},
   "outputs": [],
   "source": [
    "df['NR'] = df['NIVEL_RIESGO'].astype(str)"
   ]
  },
  {
   "cell_type": "code",
   "execution_count": 97,
   "metadata": {},
   "outputs": [],
   "source": [
    "columnas = ['APERTURAS',\n",
    "       'CIERRES', 'SUPERVIVENCIA', 'PROMEDIO_VENTAS', 'CANTIDAD_LOCALES', 'SUPERV_MENOS_1',\n",
    "       'SUPERV_ENTRE_1_Y_2', 'SUPERV_ENTRE_2_Y_3', 'SUPERV_ENTRE_3_Y_4',\n",
    "       'SUPERV_ENTRE_4_Y_5', 'SUPERV_MAS_5', 'NR']\n",
    "columnas_vars = ['APERTURAS',\n",
    "       'CIERRES', 'SUPERVIVENCIA']\n"
   ]
  },
  {
   "cell_type": "code",
   "execution_count": 98,
   "metadata": {},
   "outputs": [
    {
     "data": {
      "text/plain": [
       "<seaborn.axisgrid.PairGrid at 0x7febe8130c10>"
      ]
     },
     "execution_count": 98,
     "metadata": {},
     "output_type": "execute_result"
    },
    {
     "data": {
      "image/png": "[encoded data removed]",
      "text/plain": [
       "<Figure size 582.375x540 with 12 Axes>"
      ]
     },
     "metadata": {
      "needs_background": "light"
     },
     "output_type": "display_data"
    }
   ],
   "source": [
    "sns.pairplot(data=df[columnas], vars=columnas_vars, diag_kind='hist', hue='NR')"
   ]
  },
  {
   "cell_type": "markdown",
   "metadata": {},
   "source": [
    "### KNeighborsClassifier"
   ]
  },
  {
   "cell_type": "code",
   "execution_count": 99,
   "metadata": {},
   "outputs": [],
   "source": [
    "from sklearn.model_selection import cross_val_score, KFold\n",
    "from sklearn.neighbors import KNeighborsClassifier"
   ]
  },
  {
   "cell_type": "code",
   "execution_count": 100,
   "metadata": {},
   "outputs": [],
   "source": [
    "def scores_knn(X, y, start, stop, step):\n",
    "    \n",
    "    # Vamos a querer graficar los distintos valores del score de cross validation en función del hiperparámetro n_neighbors\n",
    "    # Para esto vamos a generar una lista de diccionarios que después se puede convertir fácilmente en DataFrame\n",
    "    \n",
    "    # Lista de diccionarios - la inicializamos vacío y por fuera del for loop para ir alimentándola en cada iteración\n",
    "    scores_para_df = []\n",
    "    \n",
    "    \n",
    "    for i in range(start,stop,step):\n",
    "        \n",
    "        # En cada iteración, instanciamos el modelo con un hiperparámetro distinto\n",
    "        model = KNeighborsClassifier(n_neighbors=i)\n",
    "\n",
    "        # cross_val_scores nos devuelve un array de 5 resultados, uno por cada partición que hizo automáticamente CV\n",
    "        kf = KFold(n_splits=3, shuffle=True, random_state=10)\n",
    "        cv_scores = cross_val_score(model, X, y, cv=kf)\n",
    "\n",
    "        # Para cada valor de n_neighbours, creamos un diccionario con el valor de n_neighbours y la media y el desvío de los scores\n",
    "        dict_row_score = {'score_medio':np.mean(cv_scores),'score_std':np.std(cv_scores),'n_neighbours':i}\n",
    "\n",
    "        # Guardamos cada uno en la lista de diccionarios\n",
    "        scores_para_df.append(dict_row_score)\n",
    "    \n",
    "    # Creamos el DF a partir de la lista de resultados\n",
    "    df_scores = pd.DataFrame(scores_para_df)\n",
    "    \n",
    "    # Incorporamos los límites inferior y superior, restando y sumando el valor del desvío estándar, respectivamente\n",
    "    df_scores['limite_inferior'] = df_scores['score_medio'] - df_scores['score_std']\n",
    "    df_scores['limite_superior'] = df_scores['score_medio'] + df_scores['score_std']\n",
    "    \n",
    "    # Retornamos el DF\n",
    "    return df_scores"
   ]
  },
  {
   "cell_type": "code",
   "execution_count": 101,
   "metadata": {},
   "outputs": [],
   "source": [
    "df_scores= scores_knn(X_train_std, y_train.values.reshape(-1), 2, 6, 1)"
   ]
  },
  {
   "cell_type": "code",
   "execution_count": 102,
   "metadata": {},
   "outputs": [
    {
     "data": {
      "text/html": [
       "<div>\n",
       "<style scoped>\n",
       "    .dataframe tbody tr th:only-of-type {\n",
       "        vertical-align: middle;\n",
       "    }\n",
       "\n",
       "    .dataframe tbody tr th {\n",
       "        vertical-align: top;\n",
       "    }\n",
       "\n",
       "    .dataframe thead th {\n",
       "        text-align: right;\n",
       "    }\n",
       "</style>\n",
       "<table border=\"1\" class=\"dataframe\">\n",
       "  <thead>\n",
       "    <tr style=\"text-align: right;\">\n",
       "      <th></th>\n",
       "      <th>score_medio</th>\n",
       "      <th>score_std</th>\n",
       "      <th>n_neighbours</th>\n",
       "      <th>limite_inferior</th>\n",
       "      <th>limite_superior</th>\n",
       "    </tr>\n",
       "  </thead>\n",
       "  <tbody>\n",
       "    <tr>\n",
       "      <th>0</th>\n",
       "      <td>0.631334</td>\n",
       "      <td>0.007619</td>\n",
       "      <td>2</td>\n",
       "      <td>0.623715</td>\n",
       "      <td>0.638953</td>\n",
       "    </tr>\n",
       "    <tr>\n",
       "      <th>1</th>\n",
       "      <td>0.619101</td>\n",
       "      <td>0.008365</td>\n",
       "      <td>3</td>\n",
       "      <td>0.610736</td>\n",
       "      <td>0.627466</td>\n",
       "    </tr>\n",
       "    <tr>\n",
       "      <th>2</th>\n",
       "      <td>0.624441</td>\n",
       "      <td>0.006523</td>\n",
       "      <td>4</td>\n",
       "      <td>0.617918</td>\n",
       "      <td>0.630964</td>\n",
       "    </tr>\n",
       "    <tr>\n",
       "      <th>3</th>\n",
       "      <td>0.615437</td>\n",
       "      <td>0.005127</td>\n",
       "      <td>5</td>\n",
       "      <td>0.610310</td>\n",
       "      <td>0.620565</td>\n",
       "    </tr>\n",
       "  </tbody>\n",
       "</table>\n",
       "</div>"
      ],
      "text/plain": [
       "   score_medio  score_std  n_neighbours  limite_inferior  limite_superior\n",
       "0     0.631334   0.007619             2         0.623715         0.638953\n",
       "1     0.619101   0.008365             3         0.610736         0.627466\n",
       "2     0.624441   0.006523             4         0.617918         0.630964\n",
       "3     0.615437   0.005127             5         0.610310         0.620565"
      ]
     },
     "execution_count": 102,
     "metadata": {},
     "output_type": "execute_result"
    }
   ],
   "source": [
    "df_scores"
   ]
  },
  {
   "cell_type": "code",
   "execution_count": 103,
   "metadata": {},
   "outputs": [
    {
     "data": {
      "image/png": "[encoded data removed]",
      "text/plain": [
       "<Figure size 432x288 with 1 Axes>"
      ]
     },
     "metadata": {
      "needs_background": "light"
     },
     "output_type": "display_data"
    }
   ],
   "source": [
    "plt.plot(df_scores['n_neighbours'], df_scores['limite_inferior'], color='r')\n",
    "plt.plot(df_scores['n_neighbours'], df_scores['score_medio'], color='b')\n",
    "plt.plot(df_scores['n_neighbours'], df_scores['limite_superior'], color='r')\n",
    "plt.ylim(0.5, 0.7);"
   ]
  },
  {
   "cell_type": "code",
   "execution_count": 104,
   "metadata": {},
   "outputs": [
    {
     "data": {
      "text/html": [
       "<div>\n",
       "<style scoped>\n",
       "    .dataframe tbody tr th:only-of-type {\n",
       "        vertical-align: middle;\n",
       "    }\n",
       "\n",
       "    .dataframe tbody tr th {\n",
       "        vertical-align: top;\n",
       "    }\n",
       "\n",
       "    .dataframe thead th {\n",
       "        text-align: right;\n",
       "    }\n",
       "</style>\n",
       "<table border=\"1\" class=\"dataframe\">\n",
       "  <thead>\n",
       "    <tr style=\"text-align: right;\">\n",
       "      <th></th>\n",
       "      <th>score_medio</th>\n",
       "      <th>score_std</th>\n",
       "      <th>n_neighbours</th>\n",
       "      <th>limite_inferior</th>\n",
       "      <th>limite_superior</th>\n",
       "    </tr>\n",
       "  </thead>\n",
       "  <tbody>\n",
       "    <tr>\n",
       "      <th>0</th>\n",
       "      <td>0.631334</td>\n",
       "      <td>0.007619</td>\n",
       "      <td>2</td>\n",
       "      <td>0.623715</td>\n",
       "      <td>0.638953</td>\n",
       "    </tr>\n",
       "  </tbody>\n",
       "</table>\n",
       "</div>"
      ],
      "text/plain": [
       "   score_medio  score_std  n_neighbours  limite_inferior  limite_superior\n",
       "0     0.631334   0.007619             2         0.623715         0.638953"
      ]
     },
     "execution_count": 104,
     "metadata": {},
     "output_type": "execute_result"
    }
   ],
   "source": [
    "df_scores.loc[df_scores.score_medio == df_scores.score_medio.max()]"
   ]
  },
  {
   "cell_type": "code",
   "execution_count": 105,
   "metadata": {},
   "outputs": [
    {
     "data": {
      "text/plain": [
       "2"
      ]
     },
     "execution_count": 105,
     "metadata": {},
     "output_type": "execute_result"
    }
   ],
   "source": [
    "best_k = df_scores.loc[df_scores.score_medio == df_scores.score_medio.max(),'n_neighbours'].values[0]\n",
    "best_k"
   ]
  },
  {
   "cell_type": "code",
   "execution_count": 106,
   "metadata": {},
   "outputs": [
    {
     "data": {
      "text/plain": [
       "KNeighborsClassifier(algorithm='auto', leaf_size=30, metric='minkowski',\n",
       "                     metric_params=None, n_jobs=None, n_neighbors=2, p=2,\n",
       "                     weights='uniform')"
      ]
     },
     "execution_count": 106,
     "metadata": {},
     "output_type": "execute_result"
    }
   ],
   "source": [
    "model_knn = KNeighborsClassifier(n_neighbors=best_k)\n",
    "model_knn.fit(X_train_std, y_train.values.reshape(-1))"
   ]
  },
  {
   "cell_type": "code",
   "execution_count": 107,
   "metadata": {},
   "outputs": [
    {
     "data": {
      "text/plain": [
       "0.8431445603576752"
      ]
     },
     "execution_count": 107,
     "metadata": {},
     "output_type": "execute_result"
    }
   ],
   "source": [
    "accuracy_score(y_train, model_knn.predict(X_train_std))"
   ]
  },
  {
   "cell_type": "code",
   "execution_count": 108,
   "metadata": {},
   "outputs": [],
   "source": [
    "y_pred_knn = model_knn.predict(X_test_std)"
   ]
  },
  {
   "cell_type": "code",
   "execution_count": 109,
   "metadata": {},
   "outputs": [
    {
     "data": {
      "text/plain": [
       "0.6647420376233936"
      ]
     },
     "execution_count": 109,
     "metadata": {},
     "output_type": "execute_result"
    }
   ],
   "source": [
    "accuracy_score(y_test, y_pred_knn)"
   ]
  },
  {
   "cell_type": "markdown",
   "metadata": {},
   "source": [
    "### PCA + KNClassifier"
   ]
  },
  {
   "cell_type": "code",
   "execution_count": 110,
   "metadata": {},
   "outputs": [],
   "source": [
    "#Veamos si mejora el score reduciendo dimensionalidad"
   ]
  },
  {
   "cell_type": "code",
   "execution_count": 111,
   "metadata": {},
   "outputs": [],
   "source": [
    "from sklearn.decomposition import PCA"
   ]
  },
  {
   "cell_type": "code",
   "execution_count": 112,
   "metadata": {},
   "outputs": [],
   "source": [
    "def plot_explained_variance(components_count, X):\n",
    "\n",
    "    model_pca = PCA(components_count).fit(X)\n",
    "\n",
    "    explained_variance = model_pca.explained_variance_ratio_\n",
    "\n",
    "    #print(explained_variance)\n",
    "\n",
    "    cumulative_explained_variance = np.cumsum(explained_variance)\n",
    "\n",
    "    #print(cumulative_explained_variance)\n",
    "\n",
    "    plt.plot(cumulative_explained_variance)\n",
    "    plt.xlabel('número de componentes')\n",
    "    plt.ylabel('% de varianza explicada');"
   ]
  },
  {
   "cell_type": "code",
   "execution_count": 113,
   "metadata": {},
   "outputs": [
    {
     "data": {
      "image/png": "[encoded data removed]",
      "text/plain": [
       "<Figure size 432x288 with 1 Axes>"
      ]
     },
     "metadata": {
      "needs_background": "light"
     },
     "output_type": "display_data"
    }
   ],
   "source": [
    "plot_explained_variance(components_count = 10, X = X_train_std)"
   ]
  },
  {
   "cell_type": "code",
   "execution_count": 114,
   "metadata": {},
   "outputs": [
    {
     "data": {
      "image/png": "[encoded data removed]",
      "text/plain": [
       "<Figure size 432x288 with 1 Axes>"
      ]
     },
     "metadata": {
      "needs_background": "light"
     },
     "output_type": "display_data"
    }
   ],
   "source": [
    "plot_explained_variance(components_count = 30, X = X_train_std)"
   ]
  },
  {
   "cell_type": "code",
   "execution_count": 115,
   "metadata": {},
   "outputs": [
    {
     "data": {
      "image/png": "[encoded data removed]",
      "text/plain": [
       "<Figure size 432x288 with 1 Axes>"
      ]
     },
     "metadata": {
      "needs_background": "light"
     },
     "output_type": "display_data"
    }
   ],
   "source": [
    "plot_explained_variance(components_count = 180, X = X_train_std)"
   ]
  },
  {
   "cell_type": "code",
   "execution_count": 116,
   "metadata": {},
   "outputs": [],
   "source": [
    "model_pca = PCA(30).fit(X_train_std)\n",
    "X_train_PCA = model_pca.transform(X_train_std)\n",
    "X_test_PCA = model_pca.transform(X_test_std)"
   ]
  },
  {
   "cell_type": "code",
   "execution_count": 117,
   "metadata": {},
   "outputs": [],
   "source": [
    "df_scores= scores_knn(X_train_PCA, y_train.values.reshape(-1), 2, 10, 1)"
   ]
  },
  {
   "cell_type": "code",
   "execution_count": 118,
   "metadata": {},
   "outputs": [
    {
     "data": {
      "text/html": [
       "<div>\n",
       "<style scoped>\n",
       "    .dataframe tbody tr th:only-of-type {\n",
       "        vertical-align: middle;\n",
       "    }\n",
       "\n",
       "    .dataframe tbody tr th {\n",
       "        vertical-align: top;\n",
       "    }\n",
       "\n",
       "    .dataframe thead th {\n",
       "        text-align: right;\n",
       "    }\n",
       "</style>\n",
       "<table border=\"1\" class=\"dataframe\">\n",
       "  <thead>\n",
       "    <tr style=\"text-align: right;\">\n",
       "      <th></th>\n",
       "      <th>score_medio</th>\n",
       "      <th>score_std</th>\n",
       "      <th>n_neighbours</th>\n",
       "      <th>limite_inferior</th>\n",
       "      <th>limite_superior</th>\n",
       "    </tr>\n",
       "  </thead>\n",
       "  <tbody>\n",
       "    <tr>\n",
       "      <th>0</th>\n",
       "      <td>0.625435</td>\n",
       "      <td>0.008431</td>\n",
       "      <td>2</td>\n",
       "      <td>0.617004</td>\n",
       "      <td>0.633866</td>\n",
       "    </tr>\n",
       "    <tr>\n",
       "      <th>1</th>\n",
       "      <td>0.609662</td>\n",
       "      <td>0.007681</td>\n",
       "      <td>3</td>\n",
       "      <td>0.601981</td>\n",
       "      <td>0.617344</td>\n",
       "    </tr>\n",
       "    <tr>\n",
       "      <th>2</th>\n",
       "      <td>0.613140</td>\n",
       "      <td>0.007965</td>\n",
       "      <td>4</td>\n",
       "      <td>0.605174</td>\n",
       "      <td>0.621105</td>\n",
       "    </tr>\n",
       "    <tr>\n",
       "      <th>3</th>\n",
       "      <td>0.602086</td>\n",
       "      <td>0.009232</td>\n",
       "      <td>5</td>\n",
       "      <td>0.592854</td>\n",
       "      <td>0.611319</td>\n",
       "    </tr>\n",
       "    <tr>\n",
       "      <th>4</th>\n",
       "      <td>0.599789</td>\n",
       "      <td>0.006283</td>\n",
       "      <td>6</td>\n",
       "      <td>0.593506</td>\n",
       "      <td>0.606072</td>\n",
       "    </tr>\n",
       "    <tr>\n",
       "      <th>5</th>\n",
       "      <td>0.597988</td>\n",
       "      <td>0.006339</td>\n",
       "      <td>7</td>\n",
       "      <td>0.591649</td>\n",
       "      <td>0.604327</td>\n",
       "    </tr>\n",
       "    <tr>\n",
       "      <th>6</th>\n",
       "      <td>0.597988</td>\n",
       "      <td>0.005440</td>\n",
       "      <td>8</td>\n",
       "      <td>0.592548</td>\n",
       "      <td>0.603428</td>\n",
       "    </tr>\n",
       "    <tr>\n",
       "      <th>7</th>\n",
       "      <td>0.588115</td>\n",
       "      <td>0.006128</td>\n",
       "      <td>9</td>\n",
       "      <td>0.581987</td>\n",
       "      <td>0.594243</td>\n",
       "    </tr>\n",
       "  </tbody>\n",
       "</table>\n",
       "</div>"
      ],
      "text/plain": [
       "   score_medio  score_std  n_neighbours  limite_inferior  limite_superior\n",
       "0     0.625435   0.008431             2         0.617004         0.633866\n",
       "1     0.609662   0.007681             3         0.601981         0.617344\n",
       "2     0.613140   0.007965             4         0.605174         0.621105\n",
       "3     0.602086   0.009232             5         0.592854         0.611319\n",
       "4     0.599789   0.006283             6         0.593506         0.606072\n",
       "5     0.597988   0.006339             7         0.591649         0.604327\n",
       "6     0.597988   0.005440             8         0.592548         0.603428\n",
       "7     0.588115   0.006128             9         0.581987         0.594243"
      ]
     },
     "execution_count": 118,
     "metadata": {},
     "output_type": "execute_result"
    }
   ],
   "source": [
    "df_scores"
   ]
  },
  {
   "cell_type": "code",
   "execution_count": 119,
   "metadata": {},
   "outputs": [
    {
     "data": {
      "text/html": [
       "<div>\n",
       "<style scoped>\n",
       "    .dataframe tbody tr th:only-of-type {\n",
       "        vertical-align: middle;\n",
       "    }\n",
       "\n",
       "    .dataframe tbody tr th {\n",
       "        vertical-align: top;\n",
       "    }\n",
       "\n",
       "    .dataframe thead th {\n",
       "        text-align: right;\n",
       "    }\n",
       "</style>\n",
       "<table border=\"1\" class=\"dataframe\">\n",
       "  <thead>\n",
       "    <tr style=\"text-align: right;\">\n",
       "      <th></th>\n",
       "      <th>score_medio</th>\n",
       "      <th>score_std</th>\n",
       "      <th>n_neighbours</th>\n",
       "      <th>limite_inferior</th>\n",
       "      <th>limite_superior</th>\n",
       "    </tr>\n",
       "  </thead>\n",
       "  <tbody>\n",
       "    <tr>\n",
       "      <th>0</th>\n",
       "      <td>0.625435</td>\n",
       "      <td>0.008431</td>\n",
       "      <td>2</td>\n",
       "      <td>0.617004</td>\n",
       "      <td>0.633866</td>\n",
       "    </tr>\n",
       "  </tbody>\n",
       "</table>\n",
       "</div>"
      ],
      "text/plain": [
       "   score_medio  score_std  n_neighbours  limite_inferior  limite_superior\n",
       "0     0.625435   0.008431             2         0.617004         0.633866"
      ]
     },
     "execution_count": 119,
     "metadata": {},
     "output_type": "execute_result"
    }
   ],
   "source": [
    "df_scores.loc[df_scores.score_medio == df_scores.score_medio.max()]"
   ]
  },
  {
   "cell_type": "code",
   "execution_count": 120,
   "metadata": {},
   "outputs": [
    {
     "data": {
      "text/plain": [
       "2"
      ]
     },
     "execution_count": 120,
     "metadata": {},
     "output_type": "execute_result"
    }
   ],
   "source": [
    "best_k = df_scores.loc[df_scores.score_medio == df_scores.score_medio.max(),'n_neighbours'].values[0]\n",
    "best_k"
   ]
  },
  {
   "cell_type": "code",
   "execution_count": 121,
   "metadata": {},
   "outputs": [
    {
     "data": {
      "text/plain": [
       "KNeighborsClassifier(algorithm='auto', leaf_size=30, metric='minkowski',\n",
       "                     metric_params=None, n_jobs=None, n_neighbors=2, p=2,\n",
       "                     weights='uniform')"
      ]
     },
     "execution_count": 121,
     "metadata": {},
     "output_type": "execute_result"
    }
   ],
   "source": [
    "model_knn = KNeighborsClassifier(n_neighbors=best_k)\n",
    "model_knn.fit(X_train_PCA, y_train.values.reshape(-1))"
   ]
  },
  {
   "cell_type": "code",
   "execution_count": 122,
   "metadata": {},
   "outputs": [
    {
     "data": {
      "text/plain": [
       "0.8322155986090413"
      ]
     },
     "execution_count": 122,
     "metadata": {},
     "output_type": "execute_result"
    }
   ],
   "source": [
    "accuracy_score(y_train, model_knn.predict(X_train_PCA))"
   ]
  },
  {
   "cell_type": "code",
   "execution_count": 123,
   "metadata": {},
   "outputs": [],
   "source": [
    "y_pred_knn = model_knn.predict(X_test_PCA)"
   ]
  },
  {
   "cell_type": "markdown",
   "metadata": {},
   "source": [
    "### PCA + NaiveBayes"
   ]
  },
  {
   "cell_type": "code",
   "execution_count": 125,
   "metadata": {},
   "outputs": [],
   "source": [
    "from sklearn.naive_bayes import GaussianNB"
   ]
  },
  {
   "cell_type": "code",
   "execution_count": 126,
   "metadata": {},
   "outputs": [
    {
     "data": {
      "text/plain": [
       "GaussianNB(priors=None, var_smoothing=1e-09)"
      ]
     },
     "execution_count": 126,
     "metadata": {},
     "output_type": "execute_result"
    }
   ],
   "source": [
    "gnb = GaussianNB()\n",
    "gnb.fit(X_train_std, y_train.values.reshape(-1))"
   ]
  },
  {
   "cell_type": "code",
   "execution_count": 127,
   "metadata": {},
   "outputs": [
    {
     "data": {
      "text/plain": [
       "0.6559880797168933"
      ]
     },
     "execution_count": 127,
     "metadata": {},
     "output_type": "execute_result"
    }
   ],
   "source": [
    "accuracy_score(y_test, y_pred_knn)"
   ]
  },
  {
   "cell_type": "code",
   "execution_count": 128,
   "metadata": {},
   "outputs": [],
   "source": [
    "y_pred_nb = gnb.predict(X_test_std)"
   ]
  },
  {
   "cell_type": "code",
   "execution_count": 129,
   "metadata": {},
   "outputs": [
    {
     "data": {
      "text/plain": [
       "0.4717824548333023"
      ]
     },
     "execution_count": 129,
     "metadata": {},
     "output_type": "execute_result"
    }
   ],
   "source": [
    "accuracy_score(y_test, y_pred_nb)"
   ]
  },
  {
   "cell_type": "code",
   "execution_count": 130,
   "metadata": {},
   "outputs": [
    {
     "data": {
      "text/plain": [
       "GaussianNB(priors=None, var_smoothing=1e-09)"
      ]
     },
     "execution_count": 130,
     "metadata": {},
     "output_type": "execute_result"
    }
   ],
   "source": [
    "gnb.fit(X_train_PCA, y_train.values.reshape(-1))"
   ]
  },
  {
   "cell_type": "code",
   "execution_count": 131,
   "metadata": {},
   "outputs": [],
   "source": [
    "y_pred_nb = gnb.predict(X_test_PCA)"
   ]
  },
  {
   "cell_type": "code",
   "execution_count": 132,
   "metadata": {},
   "outputs": [
    {
     "data": {
      "text/plain": [
       "0.5406965915440491"
      ]
     },
     "execution_count": 132,
     "metadata": {},
     "output_type": "execute_result"
    }
   ],
   "source": [
    "accuracy_score(y_test, y_pred_nb)"
   ]
  },
  {
   "cell_type": "markdown",
   "metadata": {},
   "source": [
    "###  PCA + KNRegressor"
   ]
  },
  {
   "cell_type": "code",
   "execution_count": 133,
   "metadata": {},
   "outputs": [],
   "source": [
    "# instanciamos el modelo\n",
    "from sklearn.neighbors import KNeighborsRegressor\n",
    "from sklearn.model_selection import StratifiedKFold\n",
    "knn_regressor = KNeighborsRegressor()"
   ]
  },
  {
   "cell_type": "code",
   "execution_count": 134,
   "metadata": {},
   "outputs": [
    {
     "name": "stdout",
     "output_type": "stream",
     "text": [
      "{'n_neighbors': [1, 2, 3, 4, 5, 6, 7, 8, 9, 10, 11, 12, 13, 14, 15, 16, 17, 18, 19, 20, 21, 22, 23, 24, 25, 26, 27, 28, 29, 30], 'weights': ['uniform', 'distance']}\n"
     ]
    }
   ],
   "source": [
    "# armamos los parámetros para GridSearchCV\n",
    "k_range = list(range(1, 31))\n",
    "weight_options = ['uniform', 'distance']\n",
    "\n",
    "param_grid = dict(n_neighbors=k_range, weights=weight_options)\n",
    "print(param_grid)"
   ]
  },
  {
   "cell_type": "code",
   "execution_count": 135,
   "metadata": {},
   "outputs": [],
   "source": [
    "# importamos e instanciamos el GridSearchCV\n",
    "from sklearn.model_selection import GridSearchCV\n",
    "folds=StratifiedKFold(n_splits=10, random_state=0, shuffle=True)\n",
    "grid = GridSearchCV(knn_regressor, param_grid, cv=folds)"
   ]
  },
  {
   "cell_type": "code",
   "execution_count": 136,
   "metadata": {},
   "outputs": [
    {
     "data": {
      "text/plain": [
       "GridSearchCV(cv=StratifiedKFold(n_splits=10, random_state=0, shuffle=True),\n",
       "             error_score=nan,\n",
       "             estimator=KNeighborsRegressor(algorithm='auto', leaf_size=30,\n",
       "                                           metric='minkowski',\n",
       "                                           metric_params=None, n_jobs=None,\n",
       "                                           n_neighbors=5, p=2,\n",
       "                                           weights='uniform'),\n",
       "             iid='deprecated', n_jobs=None,\n",
       "             param_grid={'n_neighbors': [1, 2, 3, 4, 5, 6, 7, 8, 9, 10, 11, 12,\n",
       "                                         13, 14, 15, 16, 17, 18, 19, 20, 21, 22,\n",
       "                                         23, 24, 25, 26, 27, 28, 29, 30],\n",
       "                         'weights': ['uniform', 'distance']},\n",
       "             pre_dispatch='2*n_jobs', refit=True, return_train_score=False,\n",
       "             scoring=None, verbose=0)"
      ]
     },
     "execution_count": 136,
     "metadata": {},
     "output_type": "execute_result"
    }
   ],
   "source": [
    "# entrenamos el modelo\n",
    "grid.fit(X_train_PCA, y_train.values.reshape(-1))"
   ]
  },
  {
   "cell_type": "code",
   "execution_count": 137,
   "metadata": {},
   "outputs": [
    {
     "data": {
      "text/plain": [
       "KNeighborsRegressor(algorithm='auto', leaf_size=30, metric='minkowski',\n",
       "                    metric_params=None, n_jobs=None, n_neighbors=10, p=2,\n",
       "                    weights='distance')"
      ]
     },
     "metadata": {},
     "output_type": "display_data"
    },
    {
     "data": {
      "text/plain": [
       "0.5060816678002276"
      ]
     },
     "metadata": {},
     "output_type": "display_data"
    },
    {
     "data": {
      "text/plain": [
       "{'n_neighbors': 10, 'weights': 'distance'}"
      ]
     },
     "metadata": {},
     "output_type": "display_data"
    }
   ],
   "source": [
    "display(grid.best_estimator_,grid.best_score_,grid.best_params_)"
   ]
  },
  {
   "cell_type": "code",
   "execution_count": 138,
   "metadata": {},
   "outputs": [
    {
     "name": "stdout",
     "output_type": "stream",
     "text": [
      "r2 = 0.5159179280991912\n",
      "MAE = 0.4149345012176966\n",
      "RMSD = 0.5611505902185583\n"
     ]
    }
   ],
   "source": [
    "from sklearn.metrics import r2_score,mean_absolute_error,mean_squared_error\n",
    "\n",
    "y_pred_grid = grid.predict(X_test_PCA)\n",
    "\n",
    "print('r2 = {}'.format(r2_score(y_test, y_pred_grid)))\n",
    "print('MAE = {}'.format(mean_absolute_error(y_test, y_pred_grid)))\n",
    "print('RMSD = {}'.format(np.sqrt(mean_squared_error(y_test, y_pred_grid))))"
   ]
  },
  {
   "cell_type": "code",
   "execution_count": null,
   "metadata": {},
   "outputs": [],
   "source": []
  }
 ],
 "metadata": {
  "kernelspec": {
   "display_name": "Python 3",
   "language": "python",
   "name": "python3"
  },
  "language_info": {
   "codemirror_mode": {
    "name": "ipython",
    "version": 3
   },
   "file_extension": ".py",
   "mimetype": "text/x-python",
   "name": "python",
   "nbconvert_exporter": "python",
   "pygments_lexer": "ipython3",
   "version": "3.7.7"
  }
 },
 "nbformat": 4,
 "nbformat_minor": 4
}
