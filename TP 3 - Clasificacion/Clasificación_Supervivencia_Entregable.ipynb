{
 "cells": [
  {
   "cell_type": "code",
   "execution_count": 1,
   "metadata": {},
   "outputs": [
    {
     "name": "stderr",
     "output_type": "stream",
     "text": [
      "ERROR:root:File `'common/0_notebooks_base_setup.py'` not found.\n"
     ]
    }
   ],
   "source": [
    "# initial setup\n",
    "try:\n",
    "    # settings colab:\n",
    "    import google.colab\n",
    "    \n",
    "except ModuleNotFoundError:    \n",
    "    # settings local:\n",
    "    %run \"common/0_notebooks_base_setup.py\""
   ]
  },
  {
   "cell_type": "markdown",
   "metadata": {},
   "source": [
    "<h1>Desafio 3 - Grupo 5</h1>\n",
    "\n",
    "<h3><u>Intregrantes del grupo</u></h3>\n",
    "\n",
    "- Juan Pablo Ferrari\n",
    "- Alejandro Jait\n",
    "- Miriam Lanabere\n",
    "- Panizza, Camila    \n",
    "\n",
    "<h3><u>Objetivos</u></h3>\n",
    "A partir del dataset seleccionado: \"Información del Mapa de Oportunidades Comerciales\"\n",
    "nuestro objetivo será determinar cuál será el nivel de supervivencia para emprendedores y comerciantes \n",
    "a la hora de abrir o potenciar un comercio en la Ciudad Autónoma de Buenos Aires.\n",
    "Para esto, contaremos con variables como: rubro, zona, información demográfica y facturación.\n",
    "\n",
    "\n",
    "<h3><u>Índice</u></h3>\n",
    "<a href='#section_1'>1. Preparación del dataset</a> \n",
    "\n",
    "<a href='#section_2'>2. Dataset final</a>  \n",
    "<a href='#section_3'>3. Modelos implementados</a>  \n",
    "<a href='#section_4'>4. Modelos + reducción de dimensionalidad</a>  \n",
    "<a href='#section_5'>5. Modelos + Grid search</a> "
   ]
  },
  {
   "cell_type": "markdown",
   "metadata": {},
   "source": [
    "---\n",
    "---\n",
    "<b><a id='section_1'><h4>1. Preparación del dataset</h4></a></b>"
   ]
  },
  {
   "cell_type": "code",
   "execution_count": 5,
   "metadata": {},
   "outputs": [],
   "source": [
    "import pandas as pd\n",
    "import numpy as np\n",
    "import seaborn as sns\n",
    "from matplotlib.colors import ListedColormap\n",
    "import matplotlib.pyplot as plt\n",
    "%matplotlib inline"
   ]
  },
  {
   "cell_type": "code",
   "execution_count": 6,
   "metadata": {},
   "outputs": [],
   "source": [
    "from sklearn.model_selection import train_test_split\n",
    "from sklearn.neighbors import KNeighborsClassifier\n",
    "from sklearn.metrics import accuracy_score\n",
    "from sklearn.metrics import classification_report, confusion_matrix\n",
    "from sklearn.linear_model import LogisticRegression\n",
    "from sklearn.metrics import accuracy_score\n",
    "from sklearn.model_selection import cross_val_score, KFold\n",
    "from sklearn.decomposition import PCA\n",
    "from sklearn.naive_bayes import GaussianNB\n",
    "from sklearn.neighbors import KNeighborsRegressor\n",
    "from sklearn.model_selection import StratifiedKFold\n",
    "from sklearn.model_selection import GridSearchCV\n",
    "from sklearn.metrics import roc_curve, auc\n",
    "from sklearn.metrics import precision_score, recall_score"
   ]
  },
  {
   "cell_type": "code",
   "execution_count": 7,
   "metadata": {},
   "outputs": [],
   "source": [
    "def curva_roc_y_auc(y_pred_proba):\n",
    "    fpr,tpr,_ = roc_curve(y_test, y_pred_proba[:,1])\n",
    "    df = pd.DataFrame(dict(fpr=fpr, tpr=tpr))\n",
    "    plt.axis([0, 1.01, 0, 1.01])\n",
    "    plt.xlabel('1 - Specificty')\n",
    "    plt.ylabel('TPR / Sensitivity')\n",
    "    plt.title('ROC Curve')\n",
    "    plt.plot(df['fpr'],df['tpr'])\n",
    "    plt.plot(np.arange(0,1, step =0.01), np.arange(0,1, step =0.01))\n",
    "    plt.show() \n",
    "    print('AUC: ', auc(fpr, tpr))"
   ]
  },
  {
   "cell_type": "code",
   "execution_count": 8,
   "metadata": {},
   "outputs": [],
   "source": [
    "def accuracy_method(df):\n",
    "    final_df = df.sort_values(by=['accuracy_test'], ascending=False)\n",
    "    print(final_df.head(9))\n",
    "    \n",
    "    fig = plt.figure(figsize=(12,12))\n",
    "    ax = plt.axes()\n",
    "    ax.set_xticklabels(list(final_df['Metodo']))\n",
    "    ax.set_xticks([0,1,2,3,4,5,6])\n",
    "    plt.xlabel('Method')\n",
    "    plt.ylabel('Accuracy')\n",
    "    plt.title('Accuracy por método')\n",
    "    plt.plot(list(final_df['accuracy_train']))\n",
    "    plt.plot(list(final_df['accuracy_test']))\n",
    "    for tick in ax.get_xticklabels():\n",
    "        tick.set_rotation(90)\n",
    "    ax.legend(['Train','test'], loc='upper right', title = \"Accuracy\", frameon=True)\n",
    "    plt.show()\n",
    "    \n",
    "    \n",
    "    #plt.plot(np.arange(0,1, step =0.01), np.arange(0,1, step =0.01))\n",
    "    plt.show() \n",
    "    "
   ]
  },
  {
   "cell_type": "code",
   "execution_count": 9,
   "metadata": {
    "scrolled": true
   },
   "outputs": [],
   "source": [
    "df_zonas = pd.read_csv('Data/zonas.csv', sep=';')\n",
    "df_comercios = pd.read_csv('Data/COMERCIOS.TXT', sep='\\t')\n"
   ]
  },
  {
   "cell_type": "code",
   "execution_count": 10,
   "metadata": {},
   "outputs": [
    {
     "data": {
      "text/html": [
       "<div>\n",
       "<style scoped>\n",
       "    .dataframe tbody tr th:only-of-type {\n",
       "        vertical-align: middle;\n",
       "    }\n",
       "\n",
       "    .dataframe tbody tr th {\n",
       "        vertical-align: top;\n",
       "    }\n",
       "\n",
       "    .dataframe thead th {\n",
       "        text-align: right;\n",
       "    }\n",
       "</style>\n",
       "<table border=\"1\" class=\"dataframe\">\n",
       "  <thead>\n",
       "    <tr style=\"text-align: right;\">\n",
       "      <th></th>\n",
       "      <th>MOC_ZONAS_ID</th>\n",
       "      <th>PK_TIEMPO_ID</th>\n",
       "      <th>POBLACION_FLOTANTE</th>\n",
       "      <th>POBLACION_VIVIENTE</th>\n",
       "      <th>POBLACION_TRABAJADORA</th>\n",
       "      <th>CANTIDAD_HOGARES</th>\n",
       "      <th>PRECIO_PROMEDIO_ALQUILER_LOCAL</th>\n",
       "      <th>PRECIO_MAX_ALQUILER_LOCAL</th>\n",
       "      <th>PRECIO_MIN_ALQUILER_LOCAL</th>\n",
       "      <th>SUPERFICIE_M2_PROMEDIO_ALQUILER</th>\n",
       "      <th>...</th>\n",
       "      <th>RUBRO_MENOS_PREDOMINANTE</th>\n",
       "      <th>PRECIO_PROMEDIO_VENTA_LOCAL</th>\n",
       "      <th>PRECIO_MAX_VENTA_LOCAL</th>\n",
       "      <th>PRECIO_MIN_VENTA_LOCAL</th>\n",
       "      <th>SUPERFICIE_M2_PROMEDIO_VENTA</th>\n",
       "      <th>SUPERFICIE_M2_MAX_VENTA</th>\n",
       "      <th>SUPERFICIE_M2_MIN_VENTA</th>\n",
       "      <th>NIVEL_LOCALES_RUBRO_PREDOMINANTE</th>\n",
       "      <th>NIVEL_LOCALES_RUBRO_MENOS_PREDOMINANTE</th>\n",
       "      <th>FECHA</th>\n",
       "    </tr>\n",
       "  </thead>\n",
       "  <tbody>\n",
       "    <tr>\n",
       "      <th>0</th>\n",
       "      <td>1</td>\n",
       "      <td>591673</td>\n",
       "      <td>3</td>\n",
       "      <td>6726</td>\n",
       "      <td>3732</td>\n",
       "      <td>2465</td>\n",
       "      <td>58128.80</td>\n",
       "      <td>162999.60</td>\n",
       "      <td>26000.00</td>\n",
       "      <td>322.26</td>\n",
       "      <td>...</td>\n",
       "      <td>HELADERIAS</td>\n",
       "      <td>1144213.52</td>\n",
       "      <td>2800000.0</td>\n",
       "      <td>25000.0</td>\n",
       "      <td>4918.06</td>\n",
       "      <td>7857.1</td>\n",
       "      <td>2720.6</td>\n",
       "      <td>1</td>\n",
       "      <td>1</td>\n",
       "      <td>2017-07-01 00:00:00.000</td>\n",
       "    </tr>\n",
       "    <tr>\n",
       "      <th>1</th>\n",
       "      <td>2</td>\n",
       "      <td>591673</td>\n",
       "      <td>5</td>\n",
       "      <td>589</td>\n",
       "      <td>348</td>\n",
       "      <td>255</td>\n",
       "      <td>34854.58</td>\n",
       "      <td>47068.93</td>\n",
       "      <td>20401.40</td>\n",
       "      <td>167.54</td>\n",
       "      <td>...</td>\n",
       "      <td>VETERINARIA</td>\n",
       "      <td>NaN</td>\n",
       "      <td>NaN</td>\n",
       "      <td>NaN</td>\n",
       "      <td>NaN</td>\n",
       "      <td>NaN</td>\n",
       "      <td>NaN</td>\n",
       "      <td>1</td>\n",
       "      <td>1</td>\n",
       "      <td>2017-07-01 00:00:00.000</td>\n",
       "    </tr>\n",
       "    <tr>\n",
       "      <th>2</th>\n",
       "      <td>3</td>\n",
       "      <td>591673</td>\n",
       "      <td>2</td>\n",
       "      <td>10764</td>\n",
       "      <td>5967</td>\n",
       "      <td>3622</td>\n",
       "      <td>10606.00</td>\n",
       "      <td>13311.99</td>\n",
       "      <td>7900.00</td>\n",
       "      <td>120.67</td>\n",
       "      <td>...</td>\n",
       "      <td>INSTITUCIONES DEPORTIVAS</td>\n",
       "      <td>273333.33</td>\n",
       "      <td>550000.0</td>\n",
       "      <td>60000.0</td>\n",
       "      <td>1662.77</td>\n",
       "      <td>2200.0</td>\n",
       "      <td>1166.7</td>\n",
       "      <td>1</td>\n",
       "      <td>1</td>\n",
       "      <td>2017-07-01 00:00:00.000</td>\n",
       "    </tr>\n",
       "    <tr>\n",
       "      <th>3</th>\n",
       "      <td>4</td>\n",
       "      <td>591673</td>\n",
       "      <td>2</td>\n",
       "      <td>6690</td>\n",
       "      <td>3927</td>\n",
       "      <td>2379</td>\n",
       "      <td>25500.53</td>\n",
       "      <td>150000.00</td>\n",
       "      <td>6436.93</td>\n",
       "      <td>154.71</td>\n",
       "      <td>...</td>\n",
       "      <td>VETERINARIA</td>\n",
       "      <td>286636.36</td>\n",
       "      <td>530000.0</td>\n",
       "      <td>90000.0</td>\n",
       "      <td>1416.98</td>\n",
       "      <td>2323.2</td>\n",
       "      <td>679.5</td>\n",
       "      <td>1</td>\n",
       "      <td>1</td>\n",
       "      <td>2017-07-01 00:00:00.000</td>\n",
       "    </tr>\n",
       "    <tr>\n",
       "      <th>4</th>\n",
       "      <td>5</td>\n",
       "      <td>591673</td>\n",
       "      <td>5</td>\n",
       "      <td>623</td>\n",
       "      <td>246</td>\n",
       "      <td>154</td>\n",
       "      <td>28014.00</td>\n",
       "      <td>28014.00</td>\n",
       "      <td>28014.00</td>\n",
       "      <td>304.50</td>\n",
       "      <td>...</td>\n",
       "      <td>INSTITUCIONES DEPORTIVAS</td>\n",
       "      <td>NaN</td>\n",
       "      <td>NaN</td>\n",
       "      <td>NaN</td>\n",
       "      <td>NaN</td>\n",
       "      <td>NaN</td>\n",
       "      <td>NaN</td>\n",
       "      <td>1</td>\n",
       "      <td>1</td>\n",
       "      <td>2017-07-01 00:00:00.000</td>\n",
       "    </tr>\n",
       "    <tr>\n",
       "      <th>...</th>\n",
       "      <td>...</td>\n",
       "      <td>...</td>\n",
       "      <td>...</td>\n",
       "      <td>...</td>\n",
       "      <td>...</td>\n",
       "      <td>...</td>\n",
       "      <td>...</td>\n",
       "      <td>...</td>\n",
       "      <td>...</td>\n",
       "      <td>...</td>\n",
       "      <td>...</td>\n",
       "      <td>...</td>\n",
       "      <td>...</td>\n",
       "      <td>...</td>\n",
       "      <td>...</td>\n",
       "      <td>...</td>\n",
       "      <td>...</td>\n",
       "      <td>...</td>\n",
       "      <td>...</td>\n",
       "      <td>...</td>\n",
       "      <td>...</td>\n",
       "    </tr>\n",
       "    <tr>\n",
       "      <th>156</th>\n",
       "      <td>157</td>\n",
       "      <td>591673</td>\n",
       "      <td>2</td>\n",
       "      <td>9242</td>\n",
       "      <td>5570</td>\n",
       "      <td>4176</td>\n",
       "      <td>24878.93</td>\n",
       "      <td>80000.00</td>\n",
       "      <td>4500.00</td>\n",
       "      <td>161.11</td>\n",
       "      <td>...</td>\n",
       "      <td>HELADERIAS</td>\n",
       "      <td>354350.00</td>\n",
       "      <td>775000.0</td>\n",
       "      <td>98000.0</td>\n",
       "      <td>2381.17</td>\n",
       "      <td>4583.3</td>\n",
       "      <td>1071.4</td>\n",
       "      <td>1</td>\n",
       "      <td>1</td>\n",
       "      <td>2017-07-01 00:00:00.000</td>\n",
       "    </tr>\n",
       "    <tr>\n",
       "      <th>157</th>\n",
       "      <td>158</td>\n",
       "      <td>591673</td>\n",
       "      <td>5</td>\n",
       "      <td>13367</td>\n",
       "      <td>7766</td>\n",
       "      <td>6034</td>\n",
       "      <td>40826.59</td>\n",
       "      <td>120000.00</td>\n",
       "      <td>6000.00</td>\n",
       "      <td>258.29</td>\n",
       "      <td>...</td>\n",
       "      <td>VETERINARIA</td>\n",
       "      <td>813875.00</td>\n",
       "      <td>4900000.0</td>\n",
       "      <td>87000.0</td>\n",
       "      <td>2476.37</td>\n",
       "      <td>6644.4</td>\n",
       "      <td>782.1</td>\n",
       "      <td>2</td>\n",
       "      <td>1</td>\n",
       "      <td>2017-07-01 00:00:00.000</td>\n",
       "    </tr>\n",
       "    <tr>\n",
       "      <th>158</th>\n",
       "      <td>159</td>\n",
       "      <td>591673</td>\n",
       "      <td>4</td>\n",
       "      <td>28140</td>\n",
       "      <td>17091</td>\n",
       "      <td>13149</td>\n",
       "      <td>63489.26</td>\n",
       "      <td>372107.50</td>\n",
       "      <td>2033.20</td>\n",
       "      <td>382.39</td>\n",
       "      <td>...</td>\n",
       "      <td>FIAMBRERIAS Y DIETETICAS</td>\n",
       "      <td>591166.67</td>\n",
       "      <td>3000000.0</td>\n",
       "      <td>85000.0</td>\n",
       "      <td>4213.53</td>\n",
       "      <td>20000.0</td>\n",
       "      <td>1271.2</td>\n",
       "      <td>3</td>\n",
       "      <td>5</td>\n",
       "      <td>2017-07-01 00:00:00.000</td>\n",
       "    </tr>\n",
       "    <tr>\n",
       "      <th>159</th>\n",
       "      <td>160</td>\n",
       "      <td>591673</td>\n",
       "      <td>3</td>\n",
       "      <td>42529</td>\n",
       "      <td>25740</td>\n",
       "      <td>19810</td>\n",
       "      <td>43519.26</td>\n",
       "      <td>109154.98</td>\n",
       "      <td>4138.04</td>\n",
       "      <td>416.57</td>\n",
       "      <td>...</td>\n",
       "      <td>HELADERIAS</td>\n",
       "      <td>990746.03</td>\n",
       "      <td>2000000.0</td>\n",
       "      <td>13000.0</td>\n",
       "      <td>6093.40</td>\n",
       "      <td>14000.0</td>\n",
       "      <td>505.1</td>\n",
       "      <td>5</td>\n",
       "      <td>2</td>\n",
       "      <td>2017-07-01 00:00:00.000</td>\n",
       "    </tr>\n",
       "    <tr>\n",
       "      <th>160</th>\n",
       "      <td>161</td>\n",
       "      <td>591673</td>\n",
       "      <td>4</td>\n",
       "      <td>13381</td>\n",
       "      <td>7812</td>\n",
       "      <td>5559</td>\n",
       "      <td>15200.93</td>\n",
       "      <td>50000.00</td>\n",
       "      <td>2500.00</td>\n",
       "      <td>134.53</td>\n",
       "      <td>...</td>\n",
       "      <td>RESTAURANTES</td>\n",
       "      <td>189441.18</td>\n",
       "      <td>750000.0</td>\n",
       "      <td>42500.0</td>\n",
       "      <td>1599.40</td>\n",
       "      <td>3409.1</td>\n",
       "      <td>766.9</td>\n",
       "      <td>1</td>\n",
       "      <td>1</td>\n",
       "      <td>2017-07-01 00:00:00.000</td>\n",
       "    </tr>\n",
       "  </tbody>\n",
       "</table>\n",
       "<p>161 rows × 25 columns</p>\n",
       "</div>"
      ],
      "text/plain": [
       "     MOC_ZONAS_ID  PK_TIEMPO_ID  POBLACION_FLOTANTE  POBLACION_VIVIENTE  \\\n",
       "0               1        591673                   3                6726   \n",
       "1               2        591673                   5                 589   \n",
       "2               3        591673                   2               10764   \n",
       "3               4        591673                   2                6690   \n",
       "4               5        591673                   5                 623   \n",
       "..            ...           ...                 ...                 ...   \n",
       "156           157        591673                   2                9242   \n",
       "157           158        591673                   5               13367   \n",
       "158           159        591673                   4               28140   \n",
       "159           160        591673                   3               42529   \n",
       "160           161        591673                   4               13381   \n",
       "\n",
       "     POBLACION_TRABAJADORA  CANTIDAD_HOGARES  PRECIO_PROMEDIO_ALQUILER_LOCAL  \\\n",
       "0                     3732              2465                        58128.80   \n",
       "1                      348               255                        34854.58   \n",
       "2                     5967              3622                        10606.00   \n",
       "3                     3927              2379                        25500.53   \n",
       "4                      246               154                        28014.00   \n",
       "..                     ...               ...                             ...   \n",
       "156                   5570              4176                        24878.93   \n",
       "157                   7766              6034                        40826.59   \n",
       "158                  17091             13149                        63489.26   \n",
       "159                  25740             19810                        43519.26   \n",
       "160                   7812              5559                        15200.93   \n",
       "\n",
       "     PRECIO_MAX_ALQUILER_LOCAL  PRECIO_MIN_ALQUILER_LOCAL  \\\n",
       "0                    162999.60                   26000.00   \n",
       "1                     47068.93                   20401.40   \n",
       "2                     13311.99                    7900.00   \n",
       "3                    150000.00                    6436.93   \n",
       "4                     28014.00                   28014.00   \n",
       "..                         ...                        ...   \n",
       "156                   80000.00                    4500.00   \n",
       "157                  120000.00                    6000.00   \n",
       "158                  372107.50                    2033.20   \n",
       "159                  109154.98                    4138.04   \n",
       "160                   50000.00                    2500.00   \n",
       "\n",
       "     SUPERFICIE_M2_PROMEDIO_ALQUILER  ...  RUBRO_MENOS_PREDOMINANTE  \\\n",
       "0                             322.26  ...                HELADERIAS   \n",
       "1                             167.54  ...               VETERINARIA   \n",
       "2                             120.67  ...  INSTITUCIONES DEPORTIVAS   \n",
       "3                             154.71  ...               VETERINARIA   \n",
       "4                             304.50  ...  INSTITUCIONES DEPORTIVAS   \n",
       "..                               ...  ...                       ...   \n",
       "156                           161.11  ...                HELADERIAS   \n",
       "157                           258.29  ...               VETERINARIA   \n",
       "158                           382.39  ...  FIAMBRERIAS Y DIETETICAS   \n",
       "159                           416.57  ...                HELADERIAS   \n",
       "160                           134.53  ...              RESTAURANTES   \n",
       "\n",
       "     PRECIO_PROMEDIO_VENTA_LOCAL PRECIO_MAX_VENTA_LOCAL  \\\n",
       "0                     1144213.52              2800000.0   \n",
       "1                            NaN                    NaN   \n",
       "2                      273333.33               550000.0   \n",
       "3                      286636.36               530000.0   \n",
       "4                            NaN                    NaN   \n",
       "..                           ...                    ...   \n",
       "156                    354350.00               775000.0   \n",
       "157                    813875.00              4900000.0   \n",
       "158                    591166.67              3000000.0   \n",
       "159                    990746.03              2000000.0   \n",
       "160                    189441.18               750000.0   \n",
       "\n",
       "     PRECIO_MIN_VENTA_LOCAL  SUPERFICIE_M2_PROMEDIO_VENTA  \\\n",
       "0                   25000.0                       4918.06   \n",
       "1                       NaN                           NaN   \n",
       "2                   60000.0                       1662.77   \n",
       "3                   90000.0                       1416.98   \n",
       "4                       NaN                           NaN   \n",
       "..                      ...                           ...   \n",
       "156                 98000.0                       2381.17   \n",
       "157                 87000.0                       2476.37   \n",
       "158                 85000.0                       4213.53   \n",
       "159                 13000.0                       6093.40   \n",
       "160                 42500.0                       1599.40   \n",
       "\n",
       "    SUPERFICIE_M2_MAX_VENTA  SUPERFICIE_M2_MIN_VENTA  \\\n",
       "0                    7857.1                   2720.6   \n",
       "1                       NaN                      NaN   \n",
       "2                    2200.0                   1166.7   \n",
       "3                    2323.2                    679.5   \n",
       "4                       NaN                      NaN   \n",
       "..                      ...                      ...   \n",
       "156                  4583.3                   1071.4   \n",
       "157                  6644.4                    782.1   \n",
       "158                 20000.0                   1271.2   \n",
       "159                 14000.0                    505.1   \n",
       "160                  3409.1                    766.9   \n",
       "\n",
       "     NIVEL_LOCALES_RUBRO_PREDOMINANTE  NIVEL_LOCALES_RUBRO_MENOS_PREDOMINANTE  \\\n",
       "0                                   1                                       1   \n",
       "1                                   1                                       1   \n",
       "2                                   1                                       1   \n",
       "3                                   1                                       1   \n",
       "4                                   1                                       1   \n",
       "..                                ...                                     ...   \n",
       "156                                 1                                       1   \n",
       "157                                 2                                       1   \n",
       "158                                 3                                       5   \n",
       "159                                 5                                       2   \n",
       "160                                 1                                       1   \n",
       "\n",
       "                       FECHA  \n",
       "0    2017-07-01 00:00:00.000  \n",
       "1    2017-07-01 00:00:00.000  \n",
       "2    2017-07-01 00:00:00.000  \n",
       "3    2017-07-01 00:00:00.000  \n",
       "4    2017-07-01 00:00:00.000  \n",
       "..                       ...  \n",
       "156  2017-07-01 00:00:00.000  \n",
       "157  2017-07-01 00:00:00.000  \n",
       "158  2017-07-01 00:00:00.000  \n",
       "159  2017-07-01 00:00:00.000  \n",
       "160  2017-07-01 00:00:00.000  \n",
       "\n",
       "[161 rows x 25 columns]"
      ]
     },
     "execution_count": 10,
     "metadata": {},
     "output_type": "execute_result"
    }
   ],
   "source": [
    "df_zonas"
   ]
  },
  {
   "cell_type": "code",
   "execution_count": 11,
   "metadata": {},
   "outputs": [
    {
     "data": {
      "text/plain": [
       "(26082, 23)"
      ]
     },
     "execution_count": 11,
     "metadata": {},
     "output_type": "execute_result"
    }
   ],
   "source": [
    "df_comercios.shape"
   ]
  },
  {
   "cell_type": "code",
   "execution_count": 12,
   "metadata": {},
   "outputs": [],
   "source": [
    "df_zonas.rename(columns={'MOC_ZONAS_ID':'ID_ZONA'}, inplace=True)"
   ]
  },
  {
   "cell_type": "code",
   "execution_count": 13,
   "metadata": {},
   "outputs": [],
   "source": [
    "df = df_comercios.join(df_zonas, how='left', on='ID_ZONA', lsuffix='', rsuffix='_df2')"
   ]
  },
  {
   "cell_type": "code",
   "execution_count": 14,
   "metadata": {},
   "outputs": [],
   "source": [
    "df.drop(columns=['ID_ZONA_df2', 'PK_TIEMPO_ID', 'FECHA', 'PERIODO'], axis=1, inplace=True)"
   ]
  },
  {
   "cell_type": "code",
   "execution_count": 15,
   "metadata": {},
   "outputs": [
    {
     "name": "stdout",
     "output_type": "stream",
     "text": [
      "<class 'pandas.core.frame.DataFrame'>\n",
      "RangeIndex: 26082 entries, 0 to 26081\n",
      "Data columns (total 44 columns):\n",
      " #   Column                                     Non-Null Count  Dtype  \n",
      "---  ------                                     --------------  -----  \n",
      " 0   ID_ZONA                                    26082 non-null  int64  \n",
      " 1   RUBRO                                      26082 non-null  object \n",
      " 2   NIVEL_RIESGO                               26082 non-null  int64  \n",
      " 3   APERTURAS                                  26082 non-null  float64\n",
      " 4   CIERRES                                    26082 non-null  float64\n",
      " 5   SUPERVIVENCIA                              21473 non-null  float64\n",
      " 6   PROMEDIO_VENTAS                            26082 non-null  int64  \n",
      " 7   NIVEL_CRECIMIENTO                          23184 non-null  float64\n",
      " 8   NIVEL_ESTABILIDAD                          24843 non-null  float64\n",
      " 9   CANTIDAD_LOCALES                           26082 non-null  int64  \n",
      " 10  SUPERV_MENOS_1                             26082 non-null  float64\n",
      " 11  SUPERV_ENTRE_1_Y_2                         26082 non-null  float64\n",
      " 12  SUPERV_ENTRE_2_Y_3                         26082 non-null  float64\n",
      " 13  SUPERV_ENTRE_3_Y_4                         26082 non-null  float64\n",
      " 14  SUPERV_ENTRE_4_Y_5                         26082 non-null  float64\n",
      " 15  SUPERV_MAS_5                               26082 non-null  float64\n",
      " 16  ANIO_ANTERIOR                              17388 non-null  float64\n",
      " 17  PROMEDIO_VENTAS_ANIO_ANTERIOR              17388 non-null  float64\n",
      " 18  APERTURAS_ANIO_ANTERIOR                    17388 non-null  float64\n",
      " 19  CIERRES_ANIO_ANTERIOR                      17388 non-null  float64\n",
      " 20  TENDENCIA_APERTURAS                        17388 non-null  float64\n",
      " 21  TENDENCIA_CIERRES                          17388 non-null  float64\n",
      " 22  POBLACION_FLOTANTE                         25920 non-null  float64\n",
      " 23  POBLACION_VIVIENTE                         25920 non-null  float64\n",
      " 24  POBLACION_TRABAJADORA                      25920 non-null  float64\n",
      " 25  CANTIDAD_HOGARES                           25920 non-null  float64\n",
      " 26  PRECIO_PROMEDIO_ALQUILER_LOCAL             24786 non-null  float64\n",
      " 27  PRECIO_MAX_ALQUILER_LOCAL                  24786 non-null  float64\n",
      " 28  PRECIO_MIN_ALQUILER_LOCAL                  24786 non-null  float64\n",
      " 29  SUPERFICIE_M2_PROMEDIO_ALQUILER            24786 non-null  float64\n",
      " 30  SUPERFICIE_M2_MAX_ALQUILER                 24786 non-null  float64\n",
      " 31  SUPERFICIE_M2_MIN_ALQUILER                 24786 non-null  float64\n",
      " 32  RUBRO_PREDOMINANTE                         25920 non-null  object \n",
      " 33  FACTURACION_PROM_RUBRO_PREDOMINANTE        25920 non-null  float64\n",
      " 34  FACTURACION_PROM_RUBRO_MENOS_PREDOMINANTE  25920 non-null  float64\n",
      " 35  RUBRO_MENOS_PREDOMINANTE                   25920 non-null  object \n",
      " 36  PRECIO_PROMEDIO_VENTA_LOCAL                24624 non-null  float64\n",
      " 37  PRECIO_MAX_VENTA_LOCAL                     24624 non-null  float64\n",
      " 38  PRECIO_MIN_VENTA_LOCAL                     24624 non-null  float64\n",
      " 39  SUPERFICIE_M2_PROMEDIO_VENTA               24624 non-null  float64\n",
      " 40  SUPERFICIE_M2_MAX_VENTA                    24624 non-null  float64\n",
      " 41  SUPERFICIE_M2_MIN_VENTA                    24624 non-null  float64\n",
      " 42  NIVEL_LOCALES_RUBRO_PREDOMINANTE           25920 non-null  float64\n",
      " 43  NIVEL_LOCALES_RUBRO_MENOS_PREDOMINANTE     25920 non-null  float64\n",
      "dtypes: float64(37), int64(4), object(3)\n",
      "memory usage: 8.8+ MB\n"
     ]
    }
   ],
   "source": [
    "df.info()"
   ]
  },
  {
   "cell_type": "code",
   "execution_count": 16,
   "metadata": {},
   "outputs": [],
   "source": [
    "df.loc[(df.SUPERVIVENCIA > 80), 'NIVEL_SUPERVIVENCIA'] = 1\n",
    "df.loc[(df.SUPERVIVENCIA <= 80), 'NIVEL_SUPERVIVENCIA'] = 0"
   ]
  },
  {
   "cell_type": "code",
   "execution_count": 17,
   "metadata": {},
   "outputs": [
    {
     "data": {
      "text/plain": [
       "<matplotlib.axes._subplots.AxesSubplot at 0x7f04aa544d10>"
      ]
     },
     "execution_count": 17,
     "metadata": {},
     "output_type": "execute_result"
    },
    {
     "data": {
      "image/png": "[encoded data removed]",
      "text/plain": [
       "<Figure size 792x648 with 2 Axes>"
      ]
     },
     "metadata": {
      "needs_background": "light"
     },
     "output_type": "display_data"
    }
   ],
   "source": [
    "corr = df.corr()\n",
    "mask = np.triu(np.ones_like(corr, dtype=np.bool))\n",
    "f, ax = plt.subplots(figsize=(11, 9))\n",
    "cmap = sns.diverging_palette(220, 10, as_cmap=True)\n",
    "sns.heatmap(corr, mask=mask, cmap=cmap, vmax=.3, center=0,\n",
    "            square=True, linewidths=.5, cbar_kws={\"shrink\": .5})"
   ]
  },
  {
   "cell_type": "code",
   "execution_count": 18,
   "metadata": {},
   "outputs": [
    {
     "data": {
      "text/plain": [
       "<matplotlib.axes._subplots.AxesSubplot at 0x7f04a9bd0290>"
      ]
     },
     "execution_count": 18,
     "metadata": {},
     "output_type": "execute_result"
    },
    {
     "data": {
      "image/png": "[encoded data removed]",
      "text/plain": [
       "<Figure size 360x720 with 2 Axes>"
      ]
     },
     "metadata": {
      "needs_background": "light"
     },
     "output_type": "display_data"
    }
   ],
   "source": [
    "plt.figure(figsize=(5,10))\n",
    "sns.heatmap(df.corr()[['NIVEL_SUPERVIVENCIA']], annot=True)"
   ]
  },
  {
   "cell_type": "code",
   "execution_count": 19,
   "metadata": {},
   "outputs": [],
   "source": [
    "df.drop(columns=['NIVEL_RIESGO'], axis=1, inplace=True)"
   ]
  },
  {
   "cell_type": "code",
   "execution_count": 20,
   "metadata": {},
   "outputs": [
    {
     "data": {
      "text/plain": [
       "array(['ID_ZONA', 'RUBRO', 'APERTURAS', 'CIERRES', 'SUPERVIVENCIA',\n",
       "       'PROMEDIO_VENTAS', 'NIVEL_CRECIMIENTO', 'NIVEL_ESTABILIDAD',\n",
       "       'CANTIDAD_LOCALES', 'SUPERV_MENOS_1', 'SUPERV_ENTRE_1_Y_2',\n",
       "       'SUPERV_ENTRE_2_Y_3', 'SUPERV_ENTRE_3_Y_4', 'SUPERV_ENTRE_4_Y_5',\n",
       "       'SUPERV_MAS_5', 'ANIO_ANTERIOR', 'PROMEDIO_VENTAS_ANIO_ANTERIOR',\n",
       "       'APERTURAS_ANIO_ANTERIOR', 'CIERRES_ANIO_ANTERIOR',\n",
       "       'TENDENCIA_APERTURAS', 'TENDENCIA_CIERRES', 'POBLACION_FLOTANTE',\n",
       "       'POBLACION_VIVIENTE', 'POBLACION_TRABAJADORA', 'CANTIDAD_HOGARES',\n",
       "       'PRECIO_PROMEDIO_ALQUILER_LOCAL', 'PRECIO_MAX_ALQUILER_LOCAL',\n",
       "       'PRECIO_MIN_ALQUILER_LOCAL', 'SUPERFICIE_M2_PROMEDIO_ALQUILER',\n",
       "       'SUPERFICIE_M2_MAX_ALQUILER', 'SUPERFICIE_M2_MIN_ALQUILER',\n",
       "       'RUBRO_PREDOMINANTE', 'FACTURACION_PROM_RUBRO_PREDOMINANTE',\n",
       "       'FACTURACION_PROM_RUBRO_MENOS_PREDOMINANTE',\n",
       "       'RUBRO_MENOS_PREDOMINANTE', 'PRECIO_PROMEDIO_VENTA_LOCAL',\n",
       "       'PRECIO_MAX_VENTA_LOCAL', 'PRECIO_MIN_VENTA_LOCAL',\n",
       "       'SUPERFICIE_M2_PROMEDIO_VENTA', 'SUPERFICIE_M2_MAX_VENTA',\n",
       "       'SUPERFICIE_M2_MIN_VENTA', 'NIVEL_LOCALES_RUBRO_PREDOMINANTE',\n",
       "       'NIVEL_LOCALES_RUBRO_MENOS_PREDOMINANTE', 'NIVEL_SUPERVIVENCIA'],\n",
       "      dtype=object)"
      ]
     },
     "execution_count": 20,
     "metadata": {},
     "output_type": "execute_result"
    }
   ],
   "source": [
    "df.columns.values"
   ]
  },
  {
   "cell_type": "code",
   "execution_count": 21,
   "metadata": {},
   "outputs": [],
   "source": [
    "df['ID_ZONA'] = df['ID_ZONA'].astype(str)"
   ]
  },
  {
   "cell_type": "code",
   "execution_count": 22,
   "metadata": {},
   "outputs": [],
   "source": [
    "df.dropna(inplace=True)"
   ]
  },
  {
   "cell_type": "code",
   "execution_count": 23,
   "metadata": {},
   "outputs": [
    {
     "name": "stdout",
     "output_type": "stream",
     "text": [
      "<class 'pandas.core.frame.DataFrame'>\n",
      "Int64Index: 12950 entries, 8714 to 26063\n",
      "Data columns (total 44 columns):\n",
      " #   Column                                     Non-Null Count  Dtype  \n",
      "---  ------                                     --------------  -----  \n",
      " 0   ID_ZONA                                    12950 non-null  object \n",
      " 1   RUBRO                                      12950 non-null  object \n",
      " 2   APERTURAS                                  12950 non-null  float64\n",
      " 3   CIERRES                                    12950 non-null  float64\n",
      " 4   SUPERVIVENCIA                              12950 non-null  float64\n",
      " 5   PROMEDIO_VENTAS                            12950 non-null  int64  \n",
      " 6   NIVEL_CRECIMIENTO                          12950 non-null  float64\n",
      " 7   NIVEL_ESTABILIDAD                          12950 non-null  float64\n",
      " 8   CANTIDAD_LOCALES                           12950 non-null  int64  \n",
      " 9   SUPERV_MENOS_1                             12950 non-null  float64\n",
      " 10  SUPERV_ENTRE_1_Y_2                         12950 non-null  float64\n",
      " 11  SUPERV_ENTRE_2_Y_3                         12950 non-null  float64\n",
      " 12  SUPERV_ENTRE_3_Y_4                         12950 non-null  float64\n",
      " 13  SUPERV_ENTRE_4_Y_5                         12950 non-null  float64\n",
      " 14  SUPERV_MAS_5                               12950 non-null  float64\n",
      " 15  ANIO_ANTERIOR                              12950 non-null  float64\n",
      " 16  PROMEDIO_VENTAS_ANIO_ANTERIOR              12950 non-null  float64\n",
      " 17  APERTURAS_ANIO_ANTERIOR                    12950 non-null  float64\n",
      " 18  CIERRES_ANIO_ANTERIOR                      12950 non-null  float64\n",
      " 19  TENDENCIA_APERTURAS                        12950 non-null  float64\n",
      " 20  TENDENCIA_CIERRES                          12950 non-null  float64\n",
      " 21  POBLACION_FLOTANTE                         12950 non-null  float64\n",
      " 22  POBLACION_VIVIENTE                         12950 non-null  float64\n",
      " 23  POBLACION_TRABAJADORA                      12950 non-null  float64\n",
      " 24  CANTIDAD_HOGARES                           12950 non-null  float64\n",
      " 25  PRECIO_PROMEDIO_ALQUILER_LOCAL             12950 non-null  float64\n",
      " 26  PRECIO_MAX_ALQUILER_LOCAL                  12950 non-null  float64\n",
      " 27  PRECIO_MIN_ALQUILER_LOCAL                  12950 non-null  float64\n",
      " 28  SUPERFICIE_M2_PROMEDIO_ALQUILER            12950 non-null  float64\n",
      " 29  SUPERFICIE_M2_MAX_ALQUILER                 12950 non-null  float64\n",
      " 30  SUPERFICIE_M2_MIN_ALQUILER                 12950 non-null  float64\n",
      " 31  RUBRO_PREDOMINANTE                         12950 non-null  object \n",
      " 32  FACTURACION_PROM_RUBRO_PREDOMINANTE        12950 non-null  float64\n",
      " 33  FACTURACION_PROM_RUBRO_MENOS_PREDOMINANTE  12950 non-null  float64\n",
      " 34  RUBRO_MENOS_PREDOMINANTE                   12950 non-null  object \n",
      " 35  PRECIO_PROMEDIO_VENTA_LOCAL                12950 non-null  float64\n",
      " 36  PRECIO_MAX_VENTA_LOCAL                     12950 non-null  float64\n",
      " 37  PRECIO_MIN_VENTA_LOCAL                     12950 non-null  float64\n",
      " 38  SUPERFICIE_M2_PROMEDIO_VENTA               12950 non-null  float64\n",
      " 39  SUPERFICIE_M2_MAX_VENTA                    12950 non-null  float64\n",
      " 40  SUPERFICIE_M2_MIN_VENTA                    12950 non-null  float64\n",
      " 41  NIVEL_LOCALES_RUBRO_PREDOMINANTE           12950 non-null  float64\n",
      " 42  NIVEL_LOCALES_RUBRO_MENOS_PREDOMINANTE     12950 non-null  float64\n",
      " 43  NIVEL_SUPERVIVENCIA                        12950 non-null  float64\n",
      "dtypes: float64(38), int64(2), object(4)\n",
      "memory usage: 4.4+ MB\n"
     ]
    }
   ],
   "source": [
    "df.info()"
   ]
  },
  {
   "cell_type": "code",
   "execution_count": 26,
   "metadata": {},
   "outputs": [
    {
     "data": {
      "text/plain": [
       "0.0    6740\n",
       "1.0    6210\n",
       "Name: NIVEL_SUPERVIVENCIA, dtype: int64"
      ]
     },
     "execution_count": 26,
     "metadata": {},
     "output_type": "execute_result"
    }
   ],
   "source": [
    "df['NIVEL_SUPERVIVENCIA'].value_counts()"
   ]
  },
  {
   "cell_type": "code",
   "execution_count": 27,
   "metadata": {},
   "outputs": [],
   "source": [
    "df['NR_STR'] = df['NIVEL_SUPERVIVENCIA'].astype(str)"
   ]
  },
  {
   "cell_type": "code",
   "execution_count": 28,
   "metadata": {},
   "outputs": [
    {
     "data": {
      "text/html": [
       "<div>\n",
       "<style scoped>\n",
       "    .dataframe tbody tr th:only-of-type {\n",
       "        vertical-align: middle;\n",
       "    }\n",
       "\n",
       "    .dataframe tbody tr th {\n",
       "        vertical-align: top;\n",
       "    }\n",
       "\n",
       "    .dataframe thead th {\n",
       "        text-align: right;\n",
       "    }\n",
       "</style>\n",
       "<table border=\"1\" class=\"dataframe\">\n",
       "  <thead>\n",
       "    <tr style=\"text-align: right;\">\n",
       "      <th></th>\n",
       "      <th>ID_ZONA</th>\n",
       "      <th>RUBRO</th>\n",
       "      <th>APERTURAS</th>\n",
       "      <th>CIERRES</th>\n",
       "      <th>SUPERVIVENCIA</th>\n",
       "      <th>PROMEDIO_VENTAS</th>\n",
       "      <th>NIVEL_CRECIMIENTO</th>\n",
       "      <th>NIVEL_ESTABILIDAD</th>\n",
       "      <th>CANTIDAD_LOCALES</th>\n",
       "      <th>SUPERV_MENOS_1</th>\n",
       "      <th>...</th>\n",
       "      <th>PRECIO_PROMEDIO_VENTA_LOCAL</th>\n",
       "      <th>PRECIO_MAX_VENTA_LOCAL</th>\n",
       "      <th>PRECIO_MIN_VENTA_LOCAL</th>\n",
       "      <th>SUPERFICIE_M2_PROMEDIO_VENTA</th>\n",
       "      <th>SUPERFICIE_M2_MAX_VENTA</th>\n",
       "      <th>SUPERFICIE_M2_MIN_VENTA</th>\n",
       "      <th>NIVEL_LOCALES_RUBRO_PREDOMINANTE</th>\n",
       "      <th>NIVEL_LOCALES_RUBRO_MENOS_PREDOMINANTE</th>\n",
       "      <th>NIVEL_SUPERVIVENCIA</th>\n",
       "      <th>NR_STR</th>\n",
       "    </tr>\n",
       "  </thead>\n",
       "  <tbody>\n",
       "    <tr>\n",
       "      <th>8714</th>\n",
       "      <td>2</td>\n",
       "      <td>Comida al Paso</td>\n",
       "      <td>0.00</td>\n",
       "      <td>0.00</td>\n",
       "      <td>100.00</td>\n",
       "      <td>2</td>\n",
       "      <td>4.0</td>\n",
       "      <td>2.0</td>\n",
       "      <td>1</td>\n",
       "      <td>22.22</td>\n",
       "      <td>...</td>\n",
       "      <td>273333.33</td>\n",
       "      <td>550000.0</td>\n",
       "      <td>60000.0</td>\n",
       "      <td>1662.77</td>\n",
       "      <td>2200.0</td>\n",
       "      <td>1166.7</td>\n",
       "      <td>1.0</td>\n",
       "      <td>1.0</td>\n",
       "      <td>1.0</td>\n",
       "      <td>1.0</td>\n",
       "    </tr>\n",
       "    <tr>\n",
       "      <th>8715</th>\n",
       "      <td>2</td>\n",
       "      <td>Ferretería y Construcción</td>\n",
       "      <td>0.00</td>\n",
       "      <td>0.00</td>\n",
       "      <td>100.00</td>\n",
       "      <td>1</td>\n",
       "      <td>4.0</td>\n",
       "      <td>2.0</td>\n",
       "      <td>1</td>\n",
       "      <td>0.00</td>\n",
       "      <td>...</td>\n",
       "      <td>273333.33</td>\n",
       "      <td>550000.0</td>\n",
       "      <td>60000.0</td>\n",
       "      <td>1662.77</td>\n",
       "      <td>2200.0</td>\n",
       "      <td>1166.7</td>\n",
       "      <td>1.0</td>\n",
       "      <td>1.0</td>\n",
       "      <td>1.0</td>\n",
       "      <td>1.0</td>\n",
       "    </tr>\n",
       "    <tr>\n",
       "      <th>8721</th>\n",
       "      <td>2</td>\n",
       "      <td>Kioscos y Loterías</td>\n",
       "      <td>0.00</td>\n",
       "      <td>0.00</td>\n",
       "      <td>100.00</td>\n",
       "      <td>1</td>\n",
       "      <td>3.0</td>\n",
       "      <td>2.0</td>\n",
       "      <td>1</td>\n",
       "      <td>0.00</td>\n",
       "      <td>...</td>\n",
       "      <td>273333.33</td>\n",
       "      <td>550000.0</td>\n",
       "      <td>60000.0</td>\n",
       "      <td>1662.77</td>\n",
       "      <td>2200.0</td>\n",
       "      <td>1166.7</td>\n",
       "      <td>1.0</td>\n",
       "      <td>1.0</td>\n",
       "      <td>1.0</td>\n",
       "      <td>1.0</td>\n",
       "    </tr>\n",
       "    <tr>\n",
       "      <th>8731</th>\n",
       "      <td>3</td>\n",
       "      <td>Carnes y Verduras</td>\n",
       "      <td>0.00</td>\n",
       "      <td>0.00</td>\n",
       "      <td>50.00</td>\n",
       "      <td>2</td>\n",
       "      <td>4.0</td>\n",
       "      <td>5.0</td>\n",
       "      <td>1</td>\n",
       "      <td>0.00</td>\n",
       "      <td>...</td>\n",
       "      <td>286636.36</td>\n",
       "      <td>530000.0</td>\n",
       "      <td>90000.0</td>\n",
       "      <td>1416.98</td>\n",
       "      <td>2323.2</td>\n",
       "      <td>679.5</td>\n",
       "      <td>1.0</td>\n",
       "      <td>1.0</td>\n",
       "      <td>0.0</td>\n",
       "      <td>0.0</td>\n",
       "    </tr>\n",
       "    <tr>\n",
       "      <th>8732</th>\n",
       "      <td>3</td>\n",
       "      <td>Comida al Paso</td>\n",
       "      <td>0.00</td>\n",
       "      <td>0.00</td>\n",
       "      <td>66.67</td>\n",
       "      <td>1</td>\n",
       "      <td>4.0</td>\n",
       "      <td>4.0</td>\n",
       "      <td>1</td>\n",
       "      <td>9.09</td>\n",
       "      <td>...</td>\n",
       "      <td>286636.36</td>\n",
       "      <td>530000.0</td>\n",
       "      <td>90000.0</td>\n",
       "      <td>1416.98</td>\n",
       "      <td>2323.2</td>\n",
       "      <td>679.5</td>\n",
       "      <td>1.0</td>\n",
       "      <td>1.0</td>\n",
       "      <td>0.0</td>\n",
       "      <td>0.0</td>\n",
       "    </tr>\n",
       "    <tr>\n",
       "      <th>...</th>\n",
       "      <td>...</td>\n",
       "      <td>...</td>\n",
       "      <td>...</td>\n",
       "      <td>...</td>\n",
       "      <td>...</td>\n",
       "      <td>...</td>\n",
       "      <td>...</td>\n",
       "      <td>...</td>\n",
       "      <td>...</td>\n",
       "      <td>...</td>\n",
       "      <td>...</td>\n",
       "      <td>...</td>\n",
       "      <td>...</td>\n",
       "      <td>...</td>\n",
       "      <td>...</td>\n",
       "      <td>...</td>\n",
       "      <td>...</td>\n",
       "      <td>...</td>\n",
       "      <td>...</td>\n",
       "      <td>...</td>\n",
       "      <td>...</td>\n",
       "    </tr>\n",
       "    <tr>\n",
       "      <th>26059</th>\n",
       "      <td>160</td>\n",
       "      <td>Restaurantes</td>\n",
       "      <td>2.94</td>\n",
       "      <td>10.81</td>\n",
       "      <td>90.00</td>\n",
       "      <td>2</td>\n",
       "      <td>2.0</td>\n",
       "      <td>2.0</td>\n",
       "      <td>3</td>\n",
       "      <td>5.88</td>\n",
       "      <td>...</td>\n",
       "      <td>189441.18</td>\n",
       "      <td>750000.0</td>\n",
       "      <td>42500.0</td>\n",
       "      <td>1599.40</td>\n",
       "      <td>3409.1</td>\n",
       "      <td>766.9</td>\n",
       "      <td>1.0</td>\n",
       "      <td>1.0</td>\n",
       "      <td>1.0</td>\n",
       "      <td>1.0</td>\n",
       "    </tr>\n",
       "    <tr>\n",
       "      <th>26060</th>\n",
       "      <td>160</td>\n",
       "      <td>Salud y Cosmética</td>\n",
       "      <td>0.65</td>\n",
       "      <td>3.76</td>\n",
       "      <td>79.59</td>\n",
       "      <td>2</td>\n",
       "      <td>2.0</td>\n",
       "      <td>3.0</td>\n",
       "      <td>5</td>\n",
       "      <td>2.26</td>\n",
       "      <td>...</td>\n",
       "      <td>189441.18</td>\n",
       "      <td>750000.0</td>\n",
       "      <td>42500.0</td>\n",
       "      <td>1599.40</td>\n",
       "      <td>3409.1</td>\n",
       "      <td>766.9</td>\n",
       "      <td>1.0</td>\n",
       "      <td>1.0</td>\n",
       "      <td>0.0</td>\n",
       "      <td>0.0</td>\n",
       "    </tr>\n",
       "    <tr>\n",
       "      <th>26061</th>\n",
       "      <td>160</td>\n",
       "      <td>Supermercados y Almacenes</td>\n",
       "      <td>1.43</td>\n",
       "      <td>2.86</td>\n",
       "      <td>85.71</td>\n",
       "      <td>3</td>\n",
       "      <td>4.0</td>\n",
       "      <td>2.0</td>\n",
       "      <td>4</td>\n",
       "      <td>5.71</td>\n",
       "      <td>...</td>\n",
       "      <td>189441.18</td>\n",
       "      <td>750000.0</td>\n",
       "      <td>42500.0</td>\n",
       "      <td>1599.40</td>\n",
       "      <td>3409.1</td>\n",
       "      <td>766.9</td>\n",
       "      <td>1.0</td>\n",
       "      <td>1.0</td>\n",
       "      <td>1.0</td>\n",
       "      <td>1.0</td>\n",
       "    </tr>\n",
       "    <tr>\n",
       "      <th>26062</th>\n",
       "      <td>160</td>\n",
       "      <td>Tratamientos Estéticos</td>\n",
       "      <td>0.00</td>\n",
       "      <td>0.00</td>\n",
       "      <td>53.33</td>\n",
       "      <td>2</td>\n",
       "      <td>3.0</td>\n",
       "      <td>4.0</td>\n",
       "      <td>5</td>\n",
       "      <td>4.08</td>\n",
       "      <td>...</td>\n",
       "      <td>189441.18</td>\n",
       "      <td>750000.0</td>\n",
       "      <td>42500.0</td>\n",
       "      <td>1599.40</td>\n",
       "      <td>3409.1</td>\n",
       "      <td>766.9</td>\n",
       "      <td>1.0</td>\n",
       "      <td>1.0</td>\n",
       "      <td>0.0</td>\n",
       "      <td>0.0</td>\n",
       "    </tr>\n",
       "    <tr>\n",
       "      <th>26063</th>\n",
       "      <td>160</td>\n",
       "      <td>Veterinaria</td>\n",
       "      <td>0.00</td>\n",
       "      <td>6.25</td>\n",
       "      <td>80.00</td>\n",
       "      <td>2</td>\n",
       "      <td>2.0</td>\n",
       "      <td>3.0</td>\n",
       "      <td>5</td>\n",
       "      <td>0.00</td>\n",
       "      <td>...</td>\n",
       "      <td>189441.18</td>\n",
       "      <td>750000.0</td>\n",
       "      <td>42500.0</td>\n",
       "      <td>1599.40</td>\n",
       "      <td>3409.1</td>\n",
       "      <td>766.9</td>\n",
       "      <td>1.0</td>\n",
       "      <td>1.0</td>\n",
       "      <td>0.0</td>\n",
       "      <td>0.0</td>\n",
       "    </tr>\n",
       "  </tbody>\n",
       "</table>\n",
       "<p>12950 rows × 45 columns</p>\n",
       "</div>"
      ],
      "text/plain": [
       "      ID_ZONA                      RUBRO  APERTURAS  CIERRES  SUPERVIVENCIA  \\\n",
       "8714        2             Comida al Paso       0.00     0.00         100.00   \n",
       "8715        2  Ferretería y Construcción       0.00     0.00         100.00   \n",
       "8721        2         Kioscos y Loterías       0.00     0.00         100.00   \n",
       "8731        3          Carnes y Verduras       0.00     0.00          50.00   \n",
       "8732        3             Comida al Paso       0.00     0.00          66.67   \n",
       "...       ...                        ...        ...      ...            ...   \n",
       "26059     160               Restaurantes       2.94    10.81          90.00   \n",
       "26060     160          Salud y Cosmética       0.65     3.76          79.59   \n",
       "26061     160  Supermercados y Almacenes       1.43     2.86          85.71   \n",
       "26062     160     Tratamientos Estéticos       0.00     0.00          53.33   \n",
       "26063     160                Veterinaria       0.00     6.25          80.00   \n",
       "\n",
       "       PROMEDIO_VENTAS  NIVEL_CRECIMIENTO  NIVEL_ESTABILIDAD  \\\n",
       "8714                 2                4.0                2.0   \n",
       "8715                 1                4.0                2.0   \n",
       "8721                 1                3.0                2.0   \n",
       "8731                 2                4.0                5.0   \n",
       "8732                 1                4.0                4.0   \n",
       "...                ...                ...                ...   \n",
       "26059                2                2.0                2.0   \n",
       "26060                2                2.0                3.0   \n",
       "26061                3                4.0                2.0   \n",
       "26062                2                3.0                4.0   \n",
       "26063                2                2.0                3.0   \n",
       "\n",
       "       CANTIDAD_LOCALES  SUPERV_MENOS_1  ...  PRECIO_PROMEDIO_VENTA_LOCAL  \\\n",
       "8714                  1           22.22  ...                    273333.33   \n",
       "8715                  1            0.00  ...                    273333.33   \n",
       "8721                  1            0.00  ...                    273333.33   \n",
       "8731                  1            0.00  ...                    286636.36   \n",
       "8732                  1            9.09  ...                    286636.36   \n",
       "...                 ...             ...  ...                          ...   \n",
       "26059                 3            5.88  ...                    189441.18   \n",
       "26060                 5            2.26  ...                    189441.18   \n",
       "26061                 4            5.71  ...                    189441.18   \n",
       "26062                 5            4.08  ...                    189441.18   \n",
       "26063                 5            0.00  ...                    189441.18   \n",
       "\n",
       "       PRECIO_MAX_VENTA_LOCAL  PRECIO_MIN_VENTA_LOCAL  \\\n",
       "8714                 550000.0                 60000.0   \n",
       "8715                 550000.0                 60000.0   \n",
       "8721                 550000.0                 60000.0   \n",
       "8731                 530000.0                 90000.0   \n",
       "8732                 530000.0                 90000.0   \n",
       "...                       ...                     ...   \n",
       "26059                750000.0                 42500.0   \n",
       "26060                750000.0                 42500.0   \n",
       "26061                750000.0                 42500.0   \n",
       "26062                750000.0                 42500.0   \n",
       "26063                750000.0                 42500.0   \n",
       "\n",
       "       SUPERFICIE_M2_PROMEDIO_VENTA  SUPERFICIE_M2_MAX_VENTA  \\\n",
       "8714                        1662.77                   2200.0   \n",
       "8715                        1662.77                   2200.0   \n",
       "8721                        1662.77                   2200.0   \n",
       "8731                        1416.98                   2323.2   \n",
       "8732                        1416.98                   2323.2   \n",
       "...                             ...                      ...   \n",
       "26059                       1599.40                   3409.1   \n",
       "26060                       1599.40                   3409.1   \n",
       "26061                       1599.40                   3409.1   \n",
       "26062                       1599.40                   3409.1   \n",
       "26063                       1599.40                   3409.1   \n",
       "\n",
       "       SUPERFICIE_M2_MIN_VENTA  NIVEL_LOCALES_RUBRO_PREDOMINANTE  \\\n",
       "8714                    1166.7                               1.0   \n",
       "8715                    1166.7                               1.0   \n",
       "8721                    1166.7                               1.0   \n",
       "8731                     679.5                               1.0   \n",
       "8732                     679.5                               1.0   \n",
       "...                        ...                               ...   \n",
       "26059                    766.9                               1.0   \n",
       "26060                    766.9                               1.0   \n",
       "26061                    766.9                               1.0   \n",
       "26062                    766.9                               1.0   \n",
       "26063                    766.9                               1.0   \n",
       "\n",
       "       NIVEL_LOCALES_RUBRO_MENOS_PREDOMINANTE  NIVEL_SUPERVIVENCIA  NR_STR  \n",
       "8714                                      1.0                  1.0     1.0  \n",
       "8715                                      1.0                  1.0     1.0  \n",
       "8721                                      1.0                  1.0     1.0  \n",
       "8731                                      1.0                  0.0     0.0  \n",
       "8732                                      1.0                  0.0     0.0  \n",
       "...                                       ...                  ...     ...  \n",
       "26059                                     1.0                  1.0     1.0  \n",
       "26060                                     1.0                  0.0     0.0  \n",
       "26061                                     1.0                  1.0     1.0  \n",
       "26062                                     1.0                  0.0     0.0  \n",
       "26063                                     1.0                  0.0     0.0  \n",
       "\n",
       "[12950 rows x 45 columns]"
      ]
     },
     "execution_count": 28,
     "metadata": {},
     "output_type": "execute_result"
    }
   ],
   "source": [
    "df"
   ]
  },
  {
   "cell_type": "code",
   "execution_count": 29,
   "metadata": {},
   "outputs": [
    {
     "data": {
      "image/png": "[encoded data removed]",
      "text/plain": [
       "<Figure size 771.875x720 with 6 Axes>"
      ]
     },
     "metadata": {
      "needs_background": "light"
     },
     "output_type": "display_data"
    }
   ],
   "source": [
    "sns.pairplot(data=df[['CIERRES', 'APERTURAS', 'NR_STR']], vars=['CIERRES', 'APERTURAS'], hue='NR_STR', height=5, diag_kind='hist');"
   ]
  },
  {
   "cell_type": "code",
   "execution_count": 30,
   "metadata": {},
   "outputs": [
    {
     "data": {
      "text/plain": [
       "array([108, 107, 106, 105, 104, 103, 102, 101, 100,  99,  98,  97,  96,\n",
       "        95,  94,  93,  92,  91,  90,  89,  88,  87,  86,  85,  84,  83,\n",
       "        82,  81,  80,  79,  78,  76,  74,  73,  69,  68,  67,  66,  65,\n",
       "        63,  62,  59,  56,  55,  51,  50,  45,  39,  21,  17,  12,   2])"
      ]
     },
     "execution_count": 30,
     "metadata": {},
     "output_type": "execute_result"
    }
   ],
   "source": [
    "df['ID_ZONA'].value_counts().unique()"
   ]
  },
  {
   "cell_type": "code",
   "execution_count": 31,
   "metadata": {},
   "outputs": [
    {
     "data": {
      "text/plain": [
       "array([887, 879, 860, 858, 856, 851, 840, 801, 777, 776, 756, 752, 630,\n",
       "       628, 601, 571, 367, 260])"
      ]
     },
     "execution_count": 31,
     "metadata": {},
     "output_type": "execute_result"
    }
   ],
   "source": [
    "df['RUBRO'].value_counts().unique()"
   ]
  },
  {
   "cell_type": "code",
   "execution_count": 32,
   "metadata": {},
   "outputs": [
    {
     "data": {
      "image/png": "[encoded data removed]",
      "text/plain": [
       "<Figure size 720x360 with 1 Axes>"
      ]
     },
     "metadata": {},
     "output_type": "display_data"
    }
   ],
   "source": [
    "with sns.axes_style('white'):\n",
    "    g = sns.catplot(\"ID_ZONA\", data=df, aspect=2, kind=\"count\", color='steelblue', order = df['ID_ZONA'].value_counts().index)\n",
    "    g.set_xticklabels(step=5)"
   ]
  },
  {
   "cell_type": "code",
   "execution_count": 33,
   "metadata": {},
   "outputs": [
    {
     "data": {
      "image/png": "[encoded data removed]",
      "text/plain": [
       "<Figure size 720x360 with 1 Axes>"
      ]
     },
     "metadata": {},
     "output_type": "display_data"
    }
   ],
   "source": [
    "with sns.axes_style('white'):\n",
    "    g = sns.catplot(\"RUBRO\", data=df, aspect=2, kind=\"count\", color='steelblue', order = df['RUBRO'].value_counts().index)\n",
    "    g.set_xticklabels(step=5)"
   ]
  },
  {
   "cell_type": "code",
   "execution_count": 34,
   "metadata": {},
   "outputs": [
    {
     "name": "stderr",
     "output_type": "stream",
     "text": [
      "/home/miriam/anaconda3/envs/dsdhblend/lib/python3.7/site-packages/pandas/plotting/_matplotlib/boxplot.py:375: UserWarning: When passing multiple axes, sharex and sharey are ignored. These settings must be specified when creating axes\n",
      "  **kwds,\n"
     ]
    },
    {
     "data": {
      "image/png": "[encoded data removed]",
      "text/plain": [
       "<Figure size 1152x576 with 2 Axes>"
      ]
     },
     "metadata": {
      "needs_background": "light"
     },
     "output_type": "display_data"
    }
   ],
   "source": [
    "fig, ax_new = plt.subplots(1,2, sharey=False,figsize=(16,8))\n",
    "axes_ = df[['CIERRES', 'APERTURAS', 'NR_STR']].boxplot(by='NR_STR',ax=ax_new,return_type='axes',whis=[5,95]);\n",
    "for ax,col in zip(axes_,['CIERRES', 'APERTURAS']):\n",
    "    ax.set_ylim(df[col].min()/1.1,df[col].max()*1.1)"
   ]
  },
  {
   "cell_type": "markdown",
   "metadata": {},
   "source": [
    "---\n",
    "---\n",
    "<b><a id='section_2'><h4>2. Dataset final</h4></a></b>"
   ]
  },
  {
   "cell_type": "code",
   "execution_count": 35,
   "metadata": {},
   "outputs": [],
   "source": [
    "predecir = ['NIVEL_SUPERVIVENCIA']\n",
    "features = ['ID_ZONA', 'RUBRO', 'APERTURAS', 'CIERRES',\n",
    "       'PROMEDIO_VENTAS', 'CANTIDAD_LOCALES', 'POBLACION_FLOTANTE',\n",
    "       'POBLACION_VIVIENTE', 'POBLACION_TRABAJADORA', 'CANTIDAD_HOGARES',\n",
    "       'PRECIO_PROMEDIO_ALQUILER_LOCAL', 'PRECIO_MAX_ALQUILER_LOCAL',\n",
    "       'PRECIO_MIN_ALQUILER_LOCAL', 'SUPERFICIE_M2_PROMEDIO_ALQUILER',\n",
    "       'SUPERFICIE_M2_MAX_ALQUILER', 'SUPERFICIE_M2_MIN_ALQUILER',\n",
    "       'RUBRO_PREDOMINANTE', 'FACTURACION_PROM_RUBRO_PREDOMINANTE',\n",
    "       'FACTURACION_PROM_RUBRO_MENOS_PREDOMINANTE',\n",
    "       'RUBRO_MENOS_PREDOMINANTE', 'PRECIO_PROMEDIO_VENTA_LOCAL',\n",
    "       'PRECIO_MAX_VENTA_LOCAL', 'PRECIO_MIN_VENTA_LOCAL',\n",
    "       'SUPERFICIE_M2_PROMEDIO_VENTA', 'SUPERFICIE_M2_MAX_VENTA',\n",
    "       'SUPERFICIE_M2_MIN_VENTA', 'NIVEL_LOCALES_RUBRO_PREDOMINANTE',\n",
    "       'NIVEL_LOCALES_RUBRO_MENOS_PREDOMINANTE']"
   ]
  },
  {
   "cell_type": "code",
   "execution_count": 36,
   "metadata": {},
   "outputs": [],
   "source": [
    "# Creamos dummies\n",
    "df_final = pd.get_dummies(df[features], columns=['ID_ZONA', \n",
    "                                                 'RUBRO', \n",
    "                                                 'RUBRO_PREDOMINANTE', \n",
    "                                                 'RUBRO_MENOS_PREDOMINANTE',\n",
    "                                                 'FACTURACION_PROM_RUBRO_PREDOMINANTE',\n",
    "                                                 'FACTURACION_PROM_RUBRO_MENOS_PREDOMINANTE',\n",
    "                                                 'NIVEL_LOCALES_RUBRO_PREDOMINANTE', \n",
    "                                                 'NIVEL_LOCALES_RUBRO_MENOS_PREDOMINANTE'], drop_first=True)"
   ]
  },
  {
   "cell_type": "code",
   "execution_count": 37,
   "metadata": {},
   "outputs": [
    {
     "data": {
      "text/plain": [
       "(12950, 218)"
      ]
     },
     "execution_count": 37,
     "metadata": {},
     "output_type": "execute_result"
    }
   ],
   "source": [
    "df_final.shape"
   ]
  },
  {
   "cell_type": "code",
   "execution_count": 38,
   "metadata": {},
   "outputs": [],
   "source": [
    "X = df_final\n",
    "y = df[predecir]"
   ]
  },
  {
   "cell_type": "code",
   "execution_count": 39,
   "metadata": {},
   "outputs": [],
   "source": [
    "X_train, X_test, y_train, y_test = train_test_split(X, y, stratify=y, random_state = 0)"
   ]
  },
  {
   "cell_type": "code",
   "execution_count": 40,
   "metadata": {},
   "outputs": [],
   "source": [
    "from sklearn.preprocessing import StandardScaler\n",
    "scaler = StandardScaler()\n",
    "X_train_std = scaler.fit_transform(X_train)\n",
    "X_test_std = scaler.transform(X_test)"
   ]
  },
  {
   "cell_type": "code",
   "execution_count": 41,
   "metadata": {},
   "outputs": [
    {
     "data": {
      "text/plain": [
       "(9712, 218)"
      ]
     },
     "execution_count": 41,
     "metadata": {},
     "output_type": "execute_result"
    }
   ],
   "source": [
    "X_train.shape"
   ]
  },
  {
   "cell_type": "code",
   "execution_count": 42,
   "metadata": {},
   "outputs": [
    {
     "data": {
      "text/plain": [
       "(9712, 1)"
      ]
     },
     "execution_count": 42,
     "metadata": {},
     "output_type": "execute_result"
    }
   ],
   "source": [
    "y_train.shape"
   ]
  },
  {
   "cell_type": "code",
   "execution_count": 43,
   "metadata": {},
   "outputs": [],
   "source": [
    "df_results = pd.DataFrame(columns=['Metodo','accuracy_train','accuracy_test'])"
   ]
  },
  {
   "cell_type": "code",
   "execution_count": null,
   "metadata": {},
   "outputs": [],
   "source": [
    "def setResults(data,metodo,accuracy_train,accuracy_test):\n",
    "    data.loc[-1] = [metodo,accuracy_train,accuracy_test]\n",
    "    data.index = data.index + 1  # shifting index\n",
    "    data = data.sort_index() "
   ]
  },
  {
   "cell_type": "markdown",
   "metadata": {},
   "source": [
    "---\n",
    "---\n",
    "<b><a id='section_3'><h4>3. Modelos implementados</h4></a></b>\n",
    "<a href='#section_3_1'>3.1. Regresión logística</a>  \n",
    "<a href='#section_3_2'>3.2. KNeighborsClassifier</a>  "
   ]
  },
  {
   "cell_type": "markdown",
   "metadata": {},
   "source": [
    "<b><a id='section_3_1'>3.1. Regresión logística</a>  </b>"
   ]
  },
  {
   "cell_type": "code",
   "execution_count": 44,
   "metadata": {},
   "outputs": [],
   "source": [
    "logistic_regression = LogisticRegression()"
   ]
  },
  {
   "cell_type": "code",
   "execution_count": 45,
   "metadata": {},
   "outputs": [
    {
     "data": {
      "text/plain": [
       "LogisticRegression(C=1.0, class_weight=None, dual=False, fit_intercept=True,\n",
       "                   intercept_scaling=1, l1_ratio=None, max_iter=100,\n",
       "                   multi_class='auto', n_jobs=None, penalty='l2',\n",
       "                   random_state=None, solver='lbfgs', tol=0.0001, verbose=0,\n",
       "                   warm_start=False)"
      ]
     },
     "execution_count": 45,
     "metadata": {},
     "output_type": "execute_result"
    }
   ],
   "source": [
    "logistic_regression.fit(X_train_std, y_train.values.reshape(-1))"
   ]
  },
  {
   "cell_type": "code",
   "execution_count": 46,
   "metadata": {},
   "outputs": [],
   "source": [
    "y_pred_test = logistic_regression.predict(X_test_std)"
   ]
  },
  {
   "cell_type": "code",
   "execution_count": 47,
   "metadata": {},
   "outputs": [
    {
     "data": {
      "text/plain": [
       "0.6365040148239655"
      ]
     },
     "execution_count": 47,
     "metadata": {},
     "output_type": "execute_result"
    }
   ],
   "source": [
    "lr_accuracy_test = accuracy_score(y_test, y_pred_test)\n",
    "lr_accuracy_test"
   ]
  },
  {
   "cell_type": "code",
   "execution_count": 48,
   "metadata": {},
   "outputs": [
    {
     "data": {
      "text/plain": [
       "0.6578459637561779"
      ]
     },
     "execution_count": 48,
     "metadata": {},
     "output_type": "execute_result"
    }
   ],
   "source": [
    "y_pred_train = logistic_regression.predict(X_train_std)\n",
    "lr_accuracy_train = accuracy_score(y_train, y_pred_train)\n",
    "lr_accuracy_train"
   ]
  },
  {
   "cell_type": "code",
   "execution_count": 49,
   "metadata": {},
   "outputs": [
    {
     "ename": "NameError",
     "evalue": "name 'setResults' is not defined",
     "output_type": "error",
     "traceback": [
      "\u001b[0;31m---------------------------------------------------------------------------\u001b[0m",
      "\u001b[0;31mNameError\u001b[0m                                 Traceback (most recent call last)",
      "\u001b[0;32m<ipython-input-49-304e428835ef>\u001b[0m in \u001b[0;36m<module>\u001b[0;34m\u001b[0m\n\u001b[0;32m----> 1\u001b[0;31m \u001b[0msetResults\u001b[0m\u001b[0;34m(\u001b[0m\u001b[0mdf_results\u001b[0m\u001b[0;34m,\u001b[0m \u001b[0;34m'LR-Default'\u001b[0m\u001b[0;34m,\u001b[0m\u001b[0mlr_accuracy_train\u001b[0m\u001b[0;34m,\u001b[0m\u001b[0mlr_accuracy_test\u001b[0m\u001b[0;34m)\u001b[0m\u001b[0;34m\u001b[0m\u001b[0;34m\u001b[0m\u001b[0m\n\u001b[0m",
      "\u001b[0;31mNameError\u001b[0m: name 'setResults' is not defined"
     ]
    }
   ],
   "source": [
    "setResults(df_results, 'LR-Default',lr_accuracy_train,lr_accuracy_test)\n"
   ]
  },
  {
   "cell_type": "code",
   "execution_count": 50,
   "metadata": {},
   "outputs": [
    {
     "data": {
      "text/plain": [
       "0.0    1685\n",
       "1.0    1553\n",
       "Name: NIVEL_SUPERVIVENCIA, dtype: int64"
      ]
     },
     "execution_count": 50,
     "metadata": {},
     "output_type": "execute_result"
    }
   ],
   "source": [
    "y_test['NIVEL_SUPERVIVENCIA'].value_counts()"
   ]
  },
  {
   "cell_type": "code",
   "execution_count": 51,
   "metadata": {},
   "outputs": [
    {
     "data": {
      "text/plain": [
       "Text(33,0.5,'Reales')"
      ]
     },
     "execution_count": 51,
     "metadata": {},
     "output_type": "execute_result"
    },
    {
     "data": {
      "image/png": "[encoded data removed]",
      "text/plain": [
       "<Figure size 432x288 with 2 Axes>"
      ]
     },
     "metadata": {
      "needs_background": "light"
     },
     "output_type": "display_data"
    }
   ],
   "source": [
    "sns.heatmap(confusion_matrix(y_test, y_pred_test), annot=True, fmt='.0f')\n",
    "plt.xlabel('Predichos')\n",
    "plt.ylabel('Reales')"
   ]
  },
  {
   "cell_type": "code",
   "execution_count": 52,
   "metadata": {},
   "outputs": [],
   "source": [
    "y_pred_proba_logit = logistic_regression.predict_proba(X_test_std)"
   ]
  },
  {
   "cell_type": "code",
   "execution_count": 53,
   "metadata": {},
   "outputs": [
    {
     "data": {
      "text/plain": [
       "(3238, 2)"
      ]
     },
     "execution_count": 53,
     "metadata": {},
     "output_type": "execute_result"
    }
   ],
   "source": [
    "y_pred_proba_logit.shape"
   ]
  },
  {
   "cell_type": "code",
   "execution_count": 54,
   "metadata": {},
   "outputs": [
    {
     "data": {
      "image/png": "[encoded data removed]",
      "text/plain": [
       "<Figure size 432x288 with 1 Axes>"
      ]
     },
     "metadata": {
      "needs_background": "light"
     },
     "output_type": "display_data"
    },
    {
     "name": "stdout",
     "output_type": "stream",
     "text": [
      "AUC:  0.6923037826662667\n"
     ]
    }
   ],
   "source": [
    "curva_roc_y_auc(y_pred_proba_logit)"
   ]
  },
  {
   "cell_type": "code",
   "execution_count": 55,
   "metadata": {},
   "outputs": [
    {
     "name": "stdout",
     "output_type": "stream",
     "text": [
      "Accuracy= 0.6365040148239655\n",
      "Recall= 0.6149388280746941\n",
      "Precision= 0.622555410691004\n"
     ]
    }
   ],
   "source": [
    "from sklearn.metrics import precision_score, recall_score\n",
    "print('Accuracy=', accuracy_score(y_test, y_pred_test))\n",
    "print('Recall=', recall_score(y_test, y_pred_test))\n",
    "print('Precision=', precision_score(y_test, y_pred_test))"
   ]
  },
  {
   "cell_type": "code",
   "execution_count": 56,
   "metadata": {},
   "outputs": [],
   "source": [
    "from sklearn.preprocessing import binarize\n",
    "y_pred_logit = binarize(y_pred_proba_logit, 0.6)[:,1]"
   ]
  },
  {
   "cell_type": "code",
   "execution_count": 57,
   "metadata": {},
   "outputs": [
    {
     "data": {
      "text/plain": [
       "Text(33,0.5,'Reales')"
      ]
     },
     "execution_count": 57,
     "metadata": {},
     "output_type": "execute_result"
    },
    {
     "data": {
      "image/png": "[encoded data removed]",
      "text/plain": [
       "<Figure size 432x288 with 2 Axes>"
      ]
     },
     "metadata": {
      "needs_background": "light"
     },
     "output_type": "display_data"
    }
   ],
   "source": [
    "sns.heatmap(confusion_matrix(y_test, y_pred_logit, ), annot=True, fmt='.0f')\n",
    "plt.xlabel('Predichos')\n",
    "plt.ylabel('Reales')"
   ]
  },
  {
   "cell_type": "markdown",
   "metadata": {},
   "source": [
    "<b><a id='section_3_2'>3.2. KNeighborsClassifier</a>  </b>"
   ]
  },
  {
   "cell_type": "code",
   "execution_count": 58,
   "metadata": {},
   "outputs": [],
   "source": [
    "def scores_knn(X, y, start, stop, step):\n",
    "    \n",
    "    # Vamos a querer graficar los distintos valores del score de cross validation en función del hiperparámetro n_neighbors\n",
    "    # Para esto vamos a generar una lista de diccionarios que después se puede convertir fácilmente en DataFrame\n",
    "    \n",
    "    # Lista de diccionarios - la inicializamos vacío y por fuera del for loop para ir alimentándola en cada iteración\n",
    "    scores_para_df = []\n",
    "    \n",
    "    \n",
    "    for i in range(start,stop,step):\n",
    "        \n",
    "        # En cada iteración, instanciamos el modelo con un hiperparámetro distinto\n",
    "        model = KNeighborsClassifier(n_neighbors=i)\n",
    "\n",
    "        # cross_val_scores nos devuelve un array de 5 resultados, uno por cada partición que hizo automáticamente CV\n",
    "        kf = KFold(n_splits=3, shuffle=True, random_state=10)\n",
    "        cv_scores = cross_val_score(model, X, y, cv=kf)\n",
    "\n",
    "        # Para cada valor de n_neighbours, creamos un diccionario con el valor de n_neighbours y la media y el desvío de los scores\n",
    "        dict_row_score = {'score_medio':np.mean(cv_scores),'score_std':np.std(cv_scores),'n_neighbours':i}\n",
    "\n",
    "        # Guardamos cada uno en la lista de diccionarios\n",
    "        scores_para_df.append(dict_row_score)\n",
    "    \n",
    "    # Creamos el DF a partir de la lista de resultados\n",
    "    df_scores = pd.DataFrame(scores_para_df)\n",
    "    \n",
    "    # Incorporamos los límites inferior y superior, restando y sumando el valor del desvío estándar, respectivamente\n",
    "    df_scores['limite_inferior'] = df_scores['score_medio'] - df_scores['score_std']\n",
    "    df_scores['limite_superior'] = df_scores['score_medio'] + df_scores['score_std']\n",
    "    \n",
    "    # Retornamos el DF\n",
    "    return df_scores"
   ]
  },
  {
   "cell_type": "code",
   "execution_count": 59,
   "metadata": {},
   "outputs": [],
   "source": [
    "df_scores_1= scores_knn(X_train_std, y_train.values.reshape(-1), 2, 10, 1)"
   ]
  },
  {
   "cell_type": "code",
   "execution_count": 60,
   "metadata": {},
   "outputs": [
    {
     "data": {
      "text/html": [
       "<div>\n",
       "<style scoped>\n",
       "    .dataframe tbody tr th:only-of-type {\n",
       "        vertical-align: middle;\n",
       "    }\n",
       "\n",
       "    .dataframe tbody tr th {\n",
       "        vertical-align: top;\n",
       "    }\n",
       "\n",
       "    .dataframe thead th {\n",
       "        text-align: right;\n",
       "    }\n",
       "</style>\n",
       "<table border=\"1\" class=\"dataframe\">\n",
       "  <thead>\n",
       "    <tr style=\"text-align: right;\">\n",
       "      <th></th>\n",
       "      <th>score_medio</th>\n",
       "      <th>score_std</th>\n",
       "      <th>n_neighbours</th>\n",
       "      <th>limite_inferior</th>\n",
       "      <th>limite_superior</th>\n",
       "    </tr>\n",
       "  </thead>\n",
       "  <tbody>\n",
       "    <tr>\n",
       "      <th>0</th>\n",
       "      <td>0.756281</td>\n",
       "      <td>0.013465</td>\n",
       "      <td>2</td>\n",
       "      <td>0.742815</td>\n",
       "      <td>0.769746</td>\n",
       "    </tr>\n",
       "    <tr>\n",
       "      <th>1</th>\n",
       "      <td>0.743307</td>\n",
       "      <td>0.006448</td>\n",
       "      <td>3</td>\n",
       "      <td>0.736859</td>\n",
       "      <td>0.749755</td>\n",
       "    </tr>\n",
       "    <tr>\n",
       "      <th>2</th>\n",
       "      <td>0.715198</td>\n",
       "      <td>0.008146</td>\n",
       "      <td>4</td>\n",
       "      <td>0.707052</td>\n",
       "      <td>0.723344</td>\n",
       "    </tr>\n",
       "    <tr>\n",
       "      <th>3</th>\n",
       "      <td>0.704798</td>\n",
       "      <td>0.007367</td>\n",
       "      <td>5</td>\n",
       "      <td>0.697431</td>\n",
       "      <td>0.712165</td>\n",
       "    </tr>\n",
       "    <tr>\n",
       "      <th>4</th>\n",
       "      <td>0.667010</td>\n",
       "      <td>0.010572</td>\n",
       "      <td>6</td>\n",
       "      <td>0.656438</td>\n",
       "      <td>0.677582</td>\n",
       "    </tr>\n",
       "    <tr>\n",
       "      <th>5</th>\n",
       "      <td>0.659699</td>\n",
       "      <td>0.016662</td>\n",
       "      <td>7</td>\n",
       "      <td>0.643037</td>\n",
       "      <td>0.676361</td>\n",
       "    </tr>\n",
       "    <tr>\n",
       "      <th>6</th>\n",
       "      <td>0.644357</td>\n",
       "      <td>0.017338</td>\n",
       "      <td>8</td>\n",
       "      <td>0.627019</td>\n",
       "      <td>0.661695</td>\n",
       "    </tr>\n",
       "    <tr>\n",
       "      <th>7</th>\n",
       "      <td>0.640342</td>\n",
       "      <td>0.011667</td>\n",
       "      <td>9</td>\n",
       "      <td>0.628675</td>\n",
       "      <td>0.652008</td>\n",
       "    </tr>\n",
       "  </tbody>\n",
       "</table>\n",
       "</div>"
      ],
      "text/plain": [
       "   score_medio  score_std  n_neighbours  limite_inferior  limite_superior\n",
       "0     0.756281   0.013465             2         0.742815         0.769746\n",
       "1     0.743307   0.006448             3         0.736859         0.749755\n",
       "2     0.715198   0.008146             4         0.707052         0.723344\n",
       "3     0.704798   0.007367             5         0.697431         0.712165\n",
       "4     0.667010   0.010572             6         0.656438         0.677582\n",
       "5     0.659699   0.016662             7         0.643037         0.676361\n",
       "6     0.644357   0.017338             8         0.627019         0.661695\n",
       "7     0.640342   0.011667             9         0.628675         0.652008"
      ]
     },
     "execution_count": 60,
     "metadata": {},
     "output_type": "execute_result"
    }
   ],
   "source": [
    "df_scores_1"
   ]
  },
  {
   "cell_type": "code",
   "execution_count": 61,
   "metadata": {},
   "outputs": [
    {
     "data": {
      "image/png": "[encoded data removed]",
      "text/plain": [
       "<Figure size 432x288 with 1 Axes>"
      ]
     },
     "metadata": {
      "needs_background": "light"
     },
     "output_type": "display_data"
    }
   ],
   "source": [
    "plt.plot(df_scores_1['n_neighbours'], df_scores_1['limite_inferior'], color='r')\n",
    "plt.plot(df_scores_1['n_neighbours'], df_scores_1['score_medio'], color='b')\n",
    "plt.plot(df_scores_1['n_neighbours'], df_scores_1['limite_superior'], color='r')\n",
    "plt.ylim(0.65, 0.8);"
   ]
  },
  {
   "cell_type": "code",
   "execution_count": 62,
   "metadata": {},
   "outputs": [
    {
     "data": {
      "text/html": [
       "<div>\n",
       "<style scoped>\n",
       "    .dataframe tbody tr th:only-of-type {\n",
       "        vertical-align: middle;\n",
       "    }\n",
       "\n",
       "    .dataframe tbody tr th {\n",
       "        vertical-align: top;\n",
       "    }\n",
       "\n",
       "    .dataframe thead th {\n",
       "        text-align: right;\n",
       "    }\n",
       "</style>\n",
       "<table border=\"1\" class=\"dataframe\">\n",
       "  <thead>\n",
       "    <tr style=\"text-align: right;\">\n",
       "      <th></th>\n",
       "      <th>score_medio</th>\n",
       "      <th>score_std</th>\n",
       "      <th>n_neighbours</th>\n",
       "      <th>limite_inferior</th>\n",
       "      <th>limite_superior</th>\n",
       "    </tr>\n",
       "  </thead>\n",
       "  <tbody>\n",
       "    <tr>\n",
       "      <th>0</th>\n",
       "      <td>0.756281</td>\n",
       "      <td>0.013465</td>\n",
       "      <td>2</td>\n",
       "      <td>0.742815</td>\n",
       "      <td>0.769746</td>\n",
       "    </tr>\n",
       "  </tbody>\n",
       "</table>\n",
       "</div>"
      ],
      "text/plain": [
       "   score_medio  score_std  n_neighbours  limite_inferior  limite_superior\n",
       "0     0.756281   0.013465             2         0.742815         0.769746"
      ]
     },
     "execution_count": 62,
     "metadata": {},
     "output_type": "execute_result"
    }
   ],
   "source": [
    "df_scores_1.loc[df_scores_1.score_medio == df_scores_1.score_medio.max()]"
   ]
  },
  {
   "cell_type": "code",
   "execution_count": 63,
   "metadata": {},
   "outputs": [
    {
     "data": {
      "text/plain": [
       "2"
      ]
     },
     "execution_count": 63,
     "metadata": {},
     "output_type": "execute_result"
    }
   ],
   "source": [
    "best_k_1 = df_scores_1.loc[df_scores_1.score_medio == df_scores_1.score_medio.max(),'n_neighbours'].values[0]\n",
    "best_k_1"
   ]
  },
  {
   "cell_type": "code",
   "execution_count": 64,
   "metadata": {},
   "outputs": [
    {
     "data": {
      "text/plain": [
       "KNeighborsClassifier(algorithm='auto', leaf_size=30, metric='minkowski',\n",
       "                     metric_params=None, n_jobs=None, n_neighbors=2, p=2,\n",
       "                     weights='uniform')"
      ]
     },
     "execution_count": 64,
     "metadata": {},
     "output_type": "execute_result"
    }
   ],
   "source": [
    "model_knn_1 = KNeighborsClassifier(n_neighbors=best_k_1)\n",
    "model_knn_1.fit(X_train_std, y_train.values.reshape(-1))"
   ]
  },
  {
   "cell_type": "code",
   "execution_count": null,
   "metadata": {},
   "outputs": [],
   "source": [
    "knn1_accuracy_train = accuracy_score(y_train, model_knn_1.predict(X_train_std))\n",
    "knn1_accuracy_train"
   ]
  },
  {
   "cell_type": "code",
   "execution_count": null,
   "metadata": {},
   "outputs": [],
   "source": [
    "y_pred_knn_1 = model_knn_1.predict(X_test_std)"
   ]
  },
  {
   "cell_type": "code",
   "execution_count": null,
   "metadata": {},
   "outputs": [],
   "source": [
    "knn1_accuracy_test = accuracy_score(y_test, y_pred_knn_1)\n",
    "knn1_accuracy_test"
   ]
  },
  {
   "cell_type": "code",
   "execution_count": null,
   "metadata": {},
   "outputs": [],
   "source": [
    "setResults(df_results, 'KNN_neighbors%s' % (best_k_1),knn1_accuracy_train,knn1_accuracy_test)\n"
   ]
  },
  {
   "cell_type": "code",
   "execution_count": null,
   "metadata": {},
   "outputs": [],
   "source": [
    "from sklearn.metrics import confusion_matrix\n",
    "sns.heatmap(confusion_matrix(y_test, y_pred_knn_1), annot=True, fmt='.0f')"
   ]
  },
  {
   "cell_type": "code",
   "execution_count": null,
   "metadata": {},
   "outputs": [],
   "source": [
    "y_pred_proba_knn_1 = model_knn_1.predict_proba(X_test_std)"
   ]
  },
  {
   "cell_type": "code",
   "execution_count": null,
   "metadata": {},
   "outputs": [],
   "source": [
    "curva_roc_y_auc(y_pred_proba_knn_1)"
   ]
  },
  {
   "cell_type": "code",
   "execution_count": null,
   "metadata": {},
   "outputs": [],
   "source": [
    "print('Accuracy=', accuracy_score(y_test, y_pred_knn_1))\n",
    "print('Recall=', recall_score(y_test, y_pred_knn_1))\n",
    "print('Precision=', precision_score(y_test, y_pred_knn_1))"
   ]
  },
  {
   "cell_type": "markdown",
   "metadata": {},
   "source": [
    "---\n",
    "---\n",
    "<b><a id='section_4'><h4>4. Modelos + reducción de dimensionalidad</h4></a></b>\n",
    "<a href='#section_4_1'>4.1. PCA + KNClassifier</a>  \n",
    "<a href='#section_4_2'>4.2. PCA + NaiveBayes</a>  \n",
    "<a href='#section_4_3'>4.3. PCA + Regresión Logística</a> \n"
   ]
  },
  {
   "cell_type": "markdown",
   "metadata": {},
   "source": [
    "<b><a id='section_4_1'>4.1. PCA + KNClassifier</a>  </b>"
   ]
  },
  {
   "cell_type": "code",
   "execution_count": null,
   "metadata": {},
   "outputs": [],
   "source": [
    "#Veamos si mejora el score reduciendo dimensionalidad"
   ]
  },
  {
   "cell_type": "code",
   "execution_count": null,
   "metadata": {},
   "outputs": [],
   "source": [
    "def plot_explained_variance(components_count, X):\n",
    "\n",
    "    model_pca = PCA(components_count).fit(X)\n",
    "\n",
    "    explained_variance = model_pca.explained_variance_ratio_\n",
    "\n",
    "    #print(explained_variance)\n",
    "\n",
    "    cumulative_explained_variance = np.cumsum(explained_variance)\n",
    "\n",
    "    #print(cumulative_explained_variance)\n",
    "\n",
    "    plt.plot(cumulative_explained_variance)\n",
    "    plt.xlabel('número de componentes')\n",
    "    plt.ylabel('% de varianza explicada');"
   ]
  },
  {
   "cell_type": "code",
   "execution_count": null,
   "metadata": {},
   "outputs": [],
   "source": [
    "plot_explained_variance(components_count = 10, X = X_train_std)"
   ]
  },
  {
   "cell_type": "code",
   "execution_count": null,
   "metadata": {},
   "outputs": [],
   "source": [
    "plot_explained_variance(components_count = 40, X = X_train_std)"
   ]
  },
  {
   "cell_type": "code",
   "execution_count": null,
   "metadata": {},
   "outputs": [],
   "source": [
    "plot_explained_variance(components_count = 170, X = X_train_std)"
   ]
  },
  {
   "cell_type": "code",
   "execution_count": null,
   "metadata": {},
   "outputs": [],
   "source": [
    "model_pca = PCA(170).fit(X_train_std)\n",
    "X_train_PCA = model_pca.transform(X_train_std)\n",
    "X_test_PCA = model_pca.transform(X_test_std)"
   ]
  },
  {
   "cell_type": "code",
   "execution_count": null,
   "metadata": {},
   "outputs": [],
   "source": [
    "df_scores_2 = scores_knn(X_train_PCA, y_train.values.reshape(-1), 2, 5, 1)"
   ]
  },
  {
   "cell_type": "code",
   "execution_count": null,
   "metadata": {},
   "outputs": [],
   "source": [
    "df_scores_2"
   ]
  },
  {
   "cell_type": "code",
   "execution_count": null,
   "metadata": {},
   "outputs": [],
   "source": [
    "df_scores_2.loc[df_scores_2.score_medio == df_scores_2.score_medio.max()]"
   ]
  },
  {
   "cell_type": "code",
   "execution_count": null,
   "metadata": {},
   "outputs": [],
   "source": [
    "best_k_2 = df_scores_2.loc[df_scores_2.score_medio == df_scores_2.score_medio.max(),'n_neighbours'].values[0]\n",
    "best_k_2"
   ]
  },
  {
   "cell_type": "code",
   "execution_count": null,
   "metadata": {},
   "outputs": [],
   "source": [
    "model_knn_2 = KNeighborsClassifier(n_neighbors=best_k_2)\n",
    "model_knn_2.fit(X_train_PCA, y_train.values.reshape(-1))"
   ]
  },
  {
   "cell_type": "code",
   "execution_count": null,
   "metadata": {},
   "outputs": [],
   "source": [
    "accuracy_knnpca_train = accuracy_score(y_train, model_knn_2.predict(X_train_PCA))\n",
    "accuracy_knnpca_train"
   ]
  },
  {
   "cell_type": "code",
   "execution_count": null,
   "metadata": {},
   "outputs": [],
   "source": [
    "y_pred_knn_2 = model_knn_2.predict(X_test_PCA)"
   ]
  },
  {
   "cell_type": "code",
   "execution_count": null,
   "metadata": {},
   "outputs": [],
   "source": [
    "accuracy_knnpca_test = accuracy_score(y_test, y_pred_knn_2)\n",
    "accuracy_knnpca_test"
   ]
  },
  {
   "cell_type": "code",
   "execution_count": null,
   "metadata": {},
   "outputs": [],
   "source": [
    "setResults(df_results, 'KNN_PCA_neighbors%s' % (best_k_2),accuracy_knnpca_train,accuracy_knnpca_test)\n"
   ]
  },
  {
   "cell_type": "code",
   "execution_count": null,
   "metadata": {},
   "outputs": [],
   "source": [
    "sns.heatmap(confusion_matrix(y_test, y_pred_knn_2), annot=True, fmt='.0f')"
   ]
  },
  {
   "cell_type": "code",
   "execution_count": null,
   "metadata": {},
   "outputs": [],
   "source": [
    "y_pred_proba_knn_2 = model_knn_2.predict_proba(X_test_PCA)"
   ]
  },
  {
   "cell_type": "code",
   "execution_count": null,
   "metadata": {},
   "outputs": [],
   "source": [
    "curva_roc_y_auc(y_pred_proba_knn_2)"
   ]
  },
  {
   "cell_type": "code",
   "execution_count": null,
   "metadata": {},
   "outputs": [],
   "source": [
    "print('Accuracy=', accuracy_score(y_test, y_pred_knn_1))\n",
    "print('Recall=', recall_score(y_test, y_pred_knn_1))\n",
    "print('Precision=', precision_score(y_test, y_pred_knn_1))"
   ]
  },
  {
   "cell_type": "markdown",
   "metadata": {},
   "source": [
    "<b><a id='section_4_2'>4.2. PCA + NaiveBayes</a>  </b>"
   ]
  },
  {
   "cell_type": "code",
   "execution_count": null,
   "metadata": {},
   "outputs": [],
   "source": [
    "gnb_1 = GaussianNB()\n",
    "gnb_1.fit(X_train_std, y_train.values.reshape(-1))"
   ]
  },
  {
   "cell_type": "code",
   "execution_count": null,
   "metadata": {},
   "outputs": [],
   "source": [
    "y_pred_nb_train_1 = gnb_1.predict(X_train_std)"
   ]
  },
  {
   "cell_type": "code",
   "execution_count": null,
   "metadata": {},
   "outputs": [],
   "source": [
    "accuracy_g_train = accuracy_score(y_train, y_pred_nb_train_1)\n",
    "accuracy_g_train"
   ]
  },
  {
   "cell_type": "code",
   "execution_count": null,
   "metadata": {},
   "outputs": [],
   "source": [
    "y_pred_nb_1 = gnb_1.predict(X_test_std)"
   ]
  },
  {
   "cell_type": "code",
   "execution_count": null,
   "metadata": {},
   "outputs": [],
   "source": [
    "accuracy_g_test = accuracy_score(y_test, y_pred_nb_1)\n",
    "accuracy_g_test"
   ]
  },
  {
   "cell_type": "code",
   "execution_count": null,
   "metadata": {},
   "outputs": [],
   "source": [
    "setResults(df_results, 'GNB',accuracy_g_train,accuracy_g_test)"
   ]
  },
  {
   "cell_type": "code",
   "execution_count": null,
   "metadata": {},
   "outputs": [],
   "source": [
    "y_pred_proba_nb_1 = gnb_1.predict_proba(X_test_std)"
   ]
  },
  {
   "cell_type": "code",
   "execution_count": null,
   "metadata": {},
   "outputs": [],
   "source": [
    "curva_roc_y_auc(y_pred_proba_nb_1)"
   ]
  },
  {
   "cell_type": "code",
   "execution_count": null,
   "metadata": {},
   "outputs": [],
   "source": [
    "print('Accuracy=', accuracy_score(y_test, y_pred_nb_1))\n",
    "print('Recall=', recall_score(y_test, y_pred_nb_1))\n",
    "print('Precision=', precision_score(y_test, y_pred_nb_1))"
   ]
  },
  {
   "cell_type": "code",
   "execution_count": null,
   "metadata": {},
   "outputs": [],
   "source": [
    "gnb_2 = GaussianNB()\n",
    "gnb_2.fit(X_train_PCA, y_train.values.reshape(-1))"
   ]
  },
  {
   "cell_type": "code",
   "execution_count": null,
   "metadata": {},
   "outputs": [],
   "source": [
    "y_pred_nb_train_2 = gnb_2.predict(X_train_PCA)"
   ]
  },
  {
   "cell_type": "code",
   "execution_count": null,
   "metadata": {},
   "outputs": [],
   "source": [
    "accuracy_GNB_PCA_train = accuracy_score(y_train, y_pred_nb_train_2)\n",
    "accuracy_GNB_PCA_train"
   ]
  },
  {
   "cell_type": "code",
   "execution_count": null,
   "metadata": {},
   "outputs": [],
   "source": [
    "y_pred_nb_2 = gnb_2.predict(X_test_PCA)"
   ]
  },
  {
   "cell_type": "code",
   "execution_count": null,
   "metadata": {},
   "outputs": [],
   "source": [
    "accuracy_GNB_PCA_test = accuracy_score(y_test, y_pred_nb_2)\n",
    "accuracy_GNB_PCA_test"
   ]
  },
  {
   "cell_type": "code",
   "execution_count": null,
   "metadata": {},
   "outputs": [],
   "source": [
    "setResults(df_results, 'NB',accuracy_GNB_PCA_train,accuracy_GNB_PCA_test)"
   ]
  },
  {
   "cell_type": "code",
   "execution_count": null,
   "metadata": {},
   "outputs": [],
   "source": [
    "sns.heatmap(confusion_matrix(y_test, y_pred_nb_2), annot=True, fmt='.0f')"
   ]
  },
  {
   "cell_type": "code",
   "execution_count": null,
   "metadata": {},
   "outputs": [],
   "source": [
    "y_pred_proba_nb_2 = gnb_2.predict_proba(X_test_PCA)"
   ]
  },
  {
   "cell_type": "code",
   "execution_count": null,
   "metadata": {},
   "outputs": [],
   "source": [
    "curva_roc_y_auc(y_pred_proba_nb_2)"
   ]
  },
  {
   "cell_type": "code",
   "execution_count": null,
   "metadata": {},
   "outputs": [],
   "source": [
    "print('Accuracy=', accuracy_score(y_test, y_pred_nb_2))\n",
    "print('Recall=', recall_score(y_test, y_pred_nb_2))\n",
    "print('Precision=', precision_score(y_test, y_pred_nb_2))"
   ]
  },
  {
   "cell_type": "markdown",
   "metadata": {},
   "source": [
    "<b><a id='section_4_3'><h4>4.3. PCA + Regresión Logística</h4></a></b>"
   ]
  },
  {
   "cell_type": "code",
   "execution_count": null,
   "metadata": {},
   "outputs": [],
   "source": [
    "import numpy as np\n",
    "import matplotlib.pyplot as plt\n",
    "import pandas as pd\n",
    "\n",
    "from sklearn import datasets\n",
    "from sklearn.decomposition import PCA\n",
    "from sklearn.linear_model import LogisticRegression\n",
    "from sklearn.pipeline import Pipeline\n",
    "from sklearn.model_selection import GridSearchCV\n",
    "\n",
    "\n",
    "# Define a pipeline to search for the best combination of PCA truncation\n",
    "# and classifier regularization.\n",
    "pca_2 = PCA()\n",
    "# set the tolerance to a large value to make the example faster\n",
    "logistic_3 = LogisticRegression(max_iter=10000, tol=0.1)\n",
    "pipe_1 = Pipeline(steps=[('pca', pca_2), ('logistic', logistic_3)])\n",
    "\n",
    "# Parameters of pipelines can be set using ‘__’ separated parameter names:\n",
    "param_grid_1 = {\n",
    "    'pca__n_components': [5, 15, 30, 45, 64, 170, 180, 200],\n",
    "    'logistic__C': np.logspace(-4, 6, 1),\n",
    "    'logistic__penalty': ['l1', 'l2'],\n",
    "     'logistic__solver': ['newton-cg', 'lbfgs', 'liblinear', 'sag', 'saga']\n",
    "}\n",
    "\n",
    "grid_3 = GridSearchCV(pipe_1, param_grid_1, n_jobs=-1)\n",
    "grid_3.fit(X_train_std, y_train.values.reshape(-1))\n",
    "print(\"Best parameter (CV score=%0.3f):\" % grid_3.best_score_)\n",
    "print(grid_3.best_params_)\n",
    "accuracy_LR_PCA_train = grid_3.best_score_\n",
    "method = 'LR_solver:%s_C:%s_pen:%s_PCA:%s'% (grid_3.best_params_['logistic__solver'], grid_3.best_params_['logistic__C'],grid_3.best_params_['logistic__penalty'],grid_3.best_params_['pca__n_components'])\n",
    "# Plot the PCA spectrum\n",
    "pca_2.fit(X_train_std)\n",
    "\n",
    "fig, (ax0, ax1) =  plt.subplots(nrows=2, sharex=True, figsize=(6, 6))\n",
    "ax0.plot(np.arange(1, pca_2.n_components_ + 1),\n",
    "         pca_2.explained_variance_ratio_, '+', linewidth=2)\n",
    "ax0.set_ylabel('PCA explained variance ratio')\n",
    "\n",
    "ax0.axvline(grid_3.best_estimator_.named_steps['pca'].n_components,\n",
    "            linestyle=':', label='n_components chosen')\n",
    "ax0.legend(prop=dict(size=12))\n",
    "\n",
    "# For each number of components, find the best classifier results\n",
    "results = pd.DataFrame(grid_3.cv_results_)\n",
    "components_col = 'param_pca__n_components'\n",
    "best_clfs = results.groupby(components_col).apply(\n",
    "    lambda g: g.nlargest(1, 'mean_test_score'))\n",
    "\n",
    "best_clfs.plot(x=components_col, y='mean_test_score', yerr='std_test_score',\n",
    "               legend=False, ax=ax1)\n",
    "ax1.set_ylabel('Classification accuracy (val)')\n",
    "ax1.set_xlabel('n_components')\n",
    "\n",
    "plt.xlim(-1, 200)\n",
    "\n",
    "plt.tight_layout()\n",
    "plt.show()"
   ]
  },
  {
   "cell_type": "code",
   "execution_count": null,
   "metadata": {},
   "outputs": [],
   "source": [
    "y_pred_grid_3 = grid_3.predict(X_test_std)"
   ]
  },
  {
   "cell_type": "code",
   "execution_count": null,
   "metadata": {},
   "outputs": [],
   "source": [
    "accuracy_LR_PCA_test = accuracy_score(y_test, y_pred_grid_3)\n",
    "accuracy_LR_PCA_test"
   ]
  },
  {
   "cell_type": "code",
   "execution_count": null,
   "metadata": {},
   "outputs": [],
   "source": [
    "setResults(df_results, method,accuracy_LR_PCA_train,accuracy_LR_PCA_test)"
   ]
  },
  {
   "cell_type": "code",
   "execution_count": null,
   "metadata": {},
   "outputs": [],
   "source": [
    "print (classification_report(y_test, y_pred_grid_3))"
   ]
  },
  {
   "cell_type": "code",
   "execution_count": null,
   "metadata": {},
   "outputs": [],
   "source": [
    "sns.heatmap(confusion_matrix(y_test, y_pred_grid_3), annot=True, fmt='.0f')"
   ]
  },
  {
   "cell_type": "code",
   "execution_count": null,
   "metadata": {},
   "outputs": [],
   "source": [
    "y_pred_proba_grid_3 = grid_3.predict_proba(X_test_std)"
   ]
  },
  {
   "cell_type": "code",
   "execution_count": null,
   "metadata": {},
   "outputs": [],
   "source": [
    "curva_roc_y_auc(y_pred_proba_grid_3)"
   ]
  },
  {
   "cell_type": "code",
   "execution_count": null,
   "metadata": {},
   "outputs": [],
   "source": [
    "print('Accuracy=', accuracy_score(y_test, y_pred_grid_3))\n",
    "print('Recall=', recall_score(y_test, y_pred_grid_3))\n",
    "print('Precision=', precision_score(y_test, y_pred_grid_3))"
   ]
  },
  {
   "cell_type": "markdown",
   "metadata": {},
   "source": [
    "---\n",
    "---\n",
    "<b><a id='section_5'><h4>5. Modelos + Grid search</h4></a></b>"
   ]
  },
  {
   "cell_type": "code",
   "execution_count": null,
   "metadata": {},
   "outputs": [],
   "source": [
    "# penalty L1: Lasso y L2: Ridge\n",
    "params_2 = [\n",
    "    {'C': [1, 2, 3, 4, 5, 6, 7, 8, 10],\n",
    "     'penalty': ['l1', 'l2'],\n",
    "     'solver': ['newton-cg', 'lbfgs', 'liblinear', 'sag', 'saga']}\n",
    "]\n",
    "LogisticRegression()\n",
    "\n",
    "folds_2 = StratifiedKFold(n_splits=5, random_state=0, shuffle=True)\n",
    "grid_2 = GridSearchCV(LogisticRegression( ), param_grid=params_2[0], cv=folds_2, n_jobs=2)\n",
    "grid_2.fit(X_train_std, y_train.values.reshape(-1))\n",
    "display(grid_2.best_estimator_, grid_2.best_score_, grid_2.best_params_)\n",
    "accuracy_LR_train = grid_2.best_score_\n",
    "method = 'LR_solver:%s_C:%s_pen:%s'% (grid_3.best_params_['logistic__solver'], grid_3.best_params_['logistic__C'],grid_3.best_params_['logistic__penalty'])"
   ]
  },
  {
   "cell_type": "code",
   "execution_count": null,
   "metadata": {},
   "outputs": [],
   "source": [
    "y_pred_grid_2 = grid_2.predict(X_test_std)"
   ]
  },
  {
   "cell_type": "code",
   "execution_count": null,
   "metadata": {},
   "outputs": [],
   "source": [
    "accuracy_LR_test = accuracy_score(y_test, y_pred_grid_2)\n",
    "setResults(df_results, method,accuracy_LR_train,accuracy_LR_test)\n",
    "accuracy_LR_test"
   ]
  },
  {
   "cell_type": "code",
   "execution_count": null,
   "metadata": {},
   "outputs": [],
   "source": [
    "print (classification_report(y_test, y_pred_grid_2))"
   ]
  },
  {
   "cell_type": "code",
   "execution_count": null,
   "metadata": {},
   "outputs": [],
   "source": [
    "sns.heatmap(confusion_matrix(y_test, y_pred_grid_2), annot=True, fmt='.0f')"
   ]
  },
  {
   "cell_type": "code",
   "execution_count": null,
   "metadata": {},
   "outputs": [],
   "source": [
    "y_pred_proba_grid_2 = grid_2.predict_proba(X_test_std)"
   ]
  },
  {
   "cell_type": "code",
   "execution_count": null,
   "metadata": {},
   "outputs": [],
   "source": [
    "curva_roc_y_auc(y_pred_proba_grid_2)"
   ]
  },
  {
   "cell_type": "code",
   "execution_count": null,
   "metadata": {},
   "outputs": [],
   "source": [
    "print('Accuracy=', accuracy_score(y_test, y_pred_grid_2))\n",
    "print('Recall=', recall_score(y_test, y_pred_grid_2))\n",
    "print('Precision=', precision_score(y_test, y_pred_grid_2))"
   ]
  },
  {
   "cell_type": "code",
   "execution_count": null,
   "metadata": {},
   "outputs": [],
   "source": [
    "accuracy_method(df_results)"
   ]
  },
  {
   "cell_type": "code",
   "execution_count": null,
   "metadata": {},
   "outputs": [],
   "source": []
  }
 ],
 "metadata": {
  "kernelspec": {
   "display_name": "Python 3",
   "language": "python",
   "name": "python3"
  },
  "language_info": {
   "codemirror_mode": {
    "name": "ipython",
    "version": 3
   },
   "file_extension": ".py",
   "mimetype": "text/x-python",
   "name": "python",
   "nbconvert_exporter": "python",
   "pygments_lexer": "ipython3",
   "version": "3.7.7"
  }
 },
 "nbformat": 4,
 "nbformat_minor": 4
}
